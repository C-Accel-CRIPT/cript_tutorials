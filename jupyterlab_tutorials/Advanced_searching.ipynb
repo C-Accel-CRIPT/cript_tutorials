{
 "cells": [
  {
   "cell_type": "markdown",
   "id": "f54d22cf-7c0d-4df5-b2c8-ab7fc66309f8",
   "metadata": {},
   "source": [
    "# Advanced Searching\n",
    "\n",
    "---\n",
    "---\n",
    "\n",
    "The most basic searchs can be done using `db.view()`.\n",
    "\n",
    "<u>Examples</u>:\n",
    "* `db.view('uid')`                                              shows just that object (can be group, collection, etc.)\n",
    "* `db.view(Collection)`                                         shows all collections from all groups you are apart of\n",
    "* `db.view(Inventory)`                                          shows all inventories from all groups you are apart of\n",
    "* `db.view(Experiment)`                                         shows all experiments from all groups and collections\n",
    "* `db.view(Data)`                                               shows all data from all groups and collections\n",
    "* `db.view(Group, {\"scope\": \"all\"})`                          shows all groups in database (default is first 50 results)\n",
    "* `db.view(Material, {\"scope\": \"all\"}, num_results =100)`     shows all materials in database (changing `num_results` to get more results, but don't increase it too much <1000)\n",
    "\n",
    "A power statagy when searching with `db.view()` is to start with known starting point, like a group or collection node, traverse down the graph to find the node you are looking for.\n",
    "\n",
    "## <u>Advanced Searching</u>\n",
    "\n",
    "Advanced searchs consists of search such as:\n",
    "* show all materials with a molecular wieght between 100 g/mol and 500 g/mol\n",
    "* show all materials with a glass transition temperature(t_g) above 150 oC\n",
    "* show all materials with the word 'acrylic' in the name\n",
    "* show all process with styrene as a monomer and a conversion over 95%\n",
    "\n",
    "At the monoment, advanced searches have not been implemented in a user friendly way. It currently relies on MongoDB searching syntax and requires detailed knowledge of where the data you are looking for is. This is hoped to be improved in the future.\n",
    "\n",
    "Nevertheless, here are a few examples and some important information to help out determined individuals wanting to these types of searches.\n",
    "* [MongoDB search syntax](https://docs.mongodb.com/manual/reference/operator/query/)   \n",
    "* [MongoDB examples](https://docs.mongodb.com/manual/tutorial/query-documents/)\n",
    "* All quantities are converted into a database default units and the units is dropped prior to being saved into the database (just the value is saved). Thus, to search for properties that are numerical you are looking to search by the value in database units. You can find the database units for properties and conditions with `Prop.key_table()` or `Cond.key_table()`. \n",
    "* To know where to search it may be useful to look at exported documents of the same type. See the exporting tutorial with instructions on how to export.\n",
    "* Also, remember that the first 50 results are shown by defualt. \n",
    "\n",
    "The first thing to do when doing an a search is of course login to the database."
   ]
  },
  {
   "cell_type": "code",
   "execution_count": 1,
   "id": "2a5c62d4-4ad7-4bad-a5d6-a849a9552529",
   "metadata": {},
   "outputs": [
    {
     "name": "stdout",
     "output_type": "stream",
     "text": [
      "Connection to database 'test' successful.\n",
      "Login as 'John Doe' was successful.\n"
     ]
    }
   ],
   "source": [
    "from cript import *\n",
    "\n",
    "db_username = \"Olsen_lab\"\n",
    "db_password = \"Brad_Olsen\"\n",
    "db_project = \"cript_testing\"\n",
    "db_database = \"test\"\n",
    "user = \"johndoe@cript.edu\"\n",
    "db = CriptDB(db_username, db_password, db_project, db_database, user)"
   ]
  },
  {
   "cell_type": "markdown",
   "id": "68f21b57-734d-4634-9a23-25bef5ba65f0",
   "metadata": {},
   "source": [
    "<u>**Example 1**</u>\n",
    "\n",
    "Our first example will find all materials with a molecular weight less than 100 g/mol.  by defualt.\n",
    "\n",
    "To explain how this quary was crafted:\n",
    "* we know we are looking for a `Material` as that so that the first part. \n",
    "* we want to search the whole database so that's `\"scope\": \"all\"`\n",
    "* we want to search for a property and we want to match on a specfic property `\"mw\" key\": {\"prop\": {\"$elemMatch\": {\"key\": \"mw\"}}}`\n",
    "* we want the value of that property to be less than ($lt) 100 g/mol (g/mol is the default database unit) ` \"value\": {\"$lt\": 100}`\n"
   ]
  },
  {
   "cell_type": "code",
   "execution_count": 2,
   "id": "78799465-e2de-41b0-8707-51f3d9cdebab",
   "metadata": {},
   "outputs": [
    {
     "name": "stdout",
     "output_type": "stream",
     "text": [
      "\n",
      "number  name                          uid                           \n",
      "------------------------------------------------------------\n",
      "0       water                         614a3187568f442e6d75b4da      \n",
      "1       nitrogen                      614a3188568f442e6d75b4dc      \n",
      "2       argon                         614a3188568f442e6d75b4dd      \n",
      "3       toluene                       614a3188568f442e6d75b4df      \n",
      "4       tetrahydrofuran               614a3188568f442e6d75b4e0      \n",
      "5       1-butanol                     614a3188568f442e6d75b4e1      \n",
      "6       methanol                      614a3188568f442e6d75b4e2      \n",
      "7       cyclohexane                   614a3189568f442e6d75b4e3      \n",
      "8       sec-butyllithium              614a3189568f442e6d75b4e4      \n",
      "\n"
     ]
    }
   ],
   "source": [
    "result = db.view(Material, {\"scope\": \"all\", \"key\": {\"prop\": {\"$elemMatch\": {\"key\": \"molar_mass\", \"value\": {\"$lt\": 100}}}}})"
   ]
  },
  {
   "cell_type": "markdown",
   "id": "abea91c8-6770-43bc-9bbf-a7e8259f43ac",
   "metadata": {},
   "source": [
    "<u>**Example 2**</u>\n",
    "\n",
    "Our second example will find all materials with a glass transition temperature greater than 150 C. The result will only return the first 50 or less (if there is less than 50 materials that fit that quary) by defualt.\n",
    "\n",
    "To explain how this quary was crafted:\n",
    "* we know we are looking for a `Material` as that so that the first part. \n",
    "* we want to search the whole database so that's `\"scope\": \"all\"`\n",
    "* we want to search for a property and we want to match on a specfic property `\"t_g\" key\": {\"prop\": {\"$elemMatch\": {\"key\": \"t_g\"}}}`\n",
    "* we want the value of that property to be less than ($gt) 150 C (C is the default database unit) ` \"value\": {\"$gt\": 150}`"
   ]
  },
  {
   "cell_type": "code",
   "execution_count": 3,
   "id": "82af83ad-38fe-4b98-8588-9f815d4c9a66",
   "metadata": {},
   "outputs": [
    {
     "name": "stdout",
     "output_type": "stream",
     "text": [
      "\n",
      "number  name                          uid                           \n",
      "------------------------------------------------------------\n",
      "No results.\n"
     ]
    }
   ],
   "source": [
    "result = db.view(Material, {\"scope\": \"all\", \"key\": {\"prop\": {\"names\":  {\"key\": \"t_g\", \"value\": {\"$gt\": 150}}}}})"
   ]
  },
  {
   "cell_type": "markdown",
   "id": "d0eb3083-758b-46cf-89c4-db1352729b76",
   "metadata": {},
   "source": [
    "<u>**Example 3**</u>\n",
    "\n",
    "Our third example will find all materials with styrene in the name. \n",
    "\n",
    "\n",
    "To explain how this quary was crafted:\n",
    "* we know we are looking for a `Material` as that so that the first part. \n",
    "* we want to search the whole database so that's `\"scope\": \"all\"`\n",
    "* we want to search for 'sec' in any of the names of a Material, in which names are found in the 'iden' section. `\"key\": {\"iden\": {\"$elemMatch\": {\"names\": }}}` <br>\n",
    "    * The `\"$elemMatch\"` is because `iden` is a list.\n",
    "* we will use regular expression (regex) to find the text styrene anywhere in a name `{'$regex': \"sec\"}"
   ]
  },
  {
   "cell_type": "code",
   "execution_count": 11,
   "id": "e4a56ce8-20c5-4d50-83d7-db302429be45",
   "metadata": {},
   "outputs": [
    {
     "name": "stdout",
     "output_type": "stream",
     "text": [
      "\n",
      "number  name                          uid                           \n",
      "------------------------------------------------------------\n",
      "0       sec-butyllithium              614a3189568f442e6d75b4e4      \n",
      "1       SecBuLi solution 1.4M cHe     614a3189568f442e6d75b4e5      \n",
      "\n"
     ]
    }
   ],
   "source": [
    "result = db.view(Material, {\"scope\": \"all\", \"key\": {\"iden\": {\"$elemMatch\": {\"names\": {'$regex': \"sec\"}}}}})"
   ]
  },
  {
   "cell_type": "markdown",
   "id": "4da765c2-debe-48d1-992f-583195e6f434",
   "metadata": {},
   "source": [
    "To search for materials that have the letters \"sec\" in \"name\" and with a \"mat_id\" = 1."
   ]
  },
  {
   "cell_type": "code",
   "execution_count": 9,
   "id": "35797f4b-1b33-4ea7-b56e-4bf8ff9db202",
   "metadata": {},
   "outputs": [
    {
     "name": "stdout",
     "output_type": "stream",
     "text": [
      "\n",
      "number  name                          uid                           \n",
      "------------------------------------------------------------\n",
      "0       sec-butyllithium              614a3189568f442e6d75b4e4      \n",
      "\n"
     ]
    }
   ],
   "source": [
    "result = db.view(Material, {\"scope\": \"all\", \"key\": {\"iden\": {\"$elemMatch\": {\"name\": {'$regex': \"sec\"}, \"mat_id\": 1}}}})"
   ]
  },
  {
   "cell_type": "markdown",
   "id": "4b198350-dc0d-4637-b339-bd30df54fe4b",
   "metadata": {},
   "source": [
    "<u>**Example 4**</u>\n",
    "\n",
    "Our fourth example will find all materials have \"s\" in name **and** a molar mass greater than 100 g/mol. \n"
   ]
  },
  {
   "cell_type": "code",
   "execution_count": 20,
   "id": "18b68b83-9b56-4764-8fed-f6fe3b84af84",
   "metadata": {},
   "outputs": [
    {
     "name": "stdout",
     "output_type": "stream",
     "text": [
      "\n",
      "number  name                          uid                           \n",
      "------------------------------------------------------------\n",
      "0       styrene                       614a3188568f442e6d75b4de      \n",
      "1       sec-butyllithium              614a3189568f442e6d75b4e4      \n",
      "2       SecBuLi solution 1.4M cHe     614a3189568f442e6d75b4e5      \n",
      "3       polystyrene                   614a318a568f442e6d75b4f1      \n",
      "\n",
      "\n",
      "number  name                          uid                           \n",
      "------------------------------------------------------------\n",
      "0       deuterated chloroform         614a3188568f442e6d75b4db      \n",
      "1       styrene                       614a3188568f442e6d75b4de      \n",
      "\n",
      "\n",
      "number  name                          uid                           \n",
      "------------------------------------------------------------\n",
      "0       styrene                       614a3188568f442e6d75b4de      \n",
      "\n"
     ]
    }
   ],
   "source": [
    "result_with_s = db.view(Material, {\"scope\": \"all\", \"key\": {\"iden\": {\"$elemMatch\": {\"names\": {'$regex': \"s\"}}}}})\n",
    "results_with_mm_100 = db.view(Material, {\"scope\": \"all\", \"key\": {\"prop\": {\"$elemMatch\": {\"key\": \"molar_mass\", \"value\": {\"$gt\": 100}}}}})\n",
    "result_with_both = db.view(Material, {\"scope\": \"all\", \n",
    "                                      \"key\": { \n",
    "                                          \"$and\": [\n",
    "                                              {\"iden\": {\"$elemMatch\": {\"names\": {'$regex': \"s\"}}}}, \n",
    "                                              {\"prop\": {\"$elemMatch\": {\"key\": \"molar_mass\", \"value\": {\"$gt\": 100}}}}\n",
    "                                          ]}})"
   ]
  },
  {
   "cell_type": "code",
   "execution_count": null,
   "id": "03af42fa-d35a-4f82-82c6-6acefb3b2816",
   "metadata": {},
   "outputs": [],
   "source": []
  }
 ],
 "metadata": {
  "kernelspec": {
   "display_name": "Python 3",
   "language": "python",
   "name": "python3"
  },
  "language_info": {
   "codemirror_mode": {
    "name": "ipython",
    "version": 3
   },
   "file_extension": ".py",
   "mimetype": "text/x-python",
   "name": "python",
   "nbconvert_exporter": "python",
   "pygments_lexer": "ipython3",
   "version": "3.9.5"
  }
 },
 "nbformat": 4,
 "nbformat_minor": 5
}
