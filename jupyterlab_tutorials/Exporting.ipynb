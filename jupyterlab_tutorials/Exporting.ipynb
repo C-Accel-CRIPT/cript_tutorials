{
 "cells": [
  {
   "cell_type": "markdown",
   "id": "cb416998-ee33-4af5-b0dc-46e70a77d6f5",
   "metadata": {},
   "source": [
    "# Exporting Data\n",
    "\n",
    "---\n",
    "---\n",
    "\n",
    "Currently, there is only one method of exporting data; which is exporting nodes as a document (which is a JSON file). \n",
    "\n",
    "The following examples will create a folder in your 'Downloads' folder and generate .txt files with each file being a single node. Files are named with the following pattern: (node class)_(uid)_(name).txt\n",
    "\n",
    "## <u>Exporting a Single File</u>\n",
    "Locate a file you would like to export with `db.view` and pass it to `export()`.\n",
    "\n",
    "<u>Action</u>: Replace 'user = ###@###.##' with the email address you used for your `User node` or 'user uid'. Run the cell.\n",
    "\n",
    "<u>Output</u>: Print out a list of experiments that you have made.\n"
   ]
  },
  {
   "cell_type": "code",
   "execution_count": 1,
   "id": "e2fbc35f-a98f-474c-b863-5ee6fe088258",
   "metadata": {},
   "outputs": [
    {
     "name": "stdout",
     "output_type": "stream",
     "text": [
      "Connection to database 'test' successful.\n",
      "Login as 'John Doe' was successful.\n",
      "\n",
      "number  key                           name                          uid                           \n",
      "------------------------------------------------------------\n",
      "0       .tutorial_john.Tutorials      Anionic Polymerization of     614a3b89fd634493018dbfbb      \n",
      "1       .CRIPT_community.Tutorial ExamplesAnionic Polymerization of     614a3b50f5f6d32ad5df1ea2      \n",
      "\n"
     ]
    }
   ],
   "source": [
    "from cript import *\n",
    "\n",
    "db_username = \"Olsen_lab\"\n",
    "db_password = \"Brad_Olsen\"\n",
    "db_project = \"cript_testing\"\n",
    "db_database = \"test\"\n",
    "user = \"johndoe@cript.edu\"\n",
    "db = CriptDB(db_username, db_password, db_project, db_database, user)\n",
    "\n",
    "expt_doc = db.view(Experiment)"
   ]
  },
  {
   "cell_type": "markdown",
   "id": "c7173ce0-69c7-4fef-9412-e8f760357528",
   "metadata": {},
   "source": [
    "To save the first experiment in the table:\n",
    "\n",
    "<u>Action</u>: Run the cell.\n",
    "\n",
    "<u>Output</u>: Print out a list of files that were created."
   ]
  },
  {
   "cell_type": "code",
   "execution_count": 2,
   "id": "4ca06023-744d-4de7-8a00-b1a4b4ba6c6d",
   "metadata": {},
   "outputs": [
    {
     "name": "stdout",
     "output_type": "stream",
     "text": [
      "[WindowsPath('C:/Users/nicep/Downloads/cript_export_20210921-160947/Experiment_614a3b89fd634493018dbfbb_Anionic Polymerization of Styrene with SecBuLi.txt')]\n"
     ]
    }
   ],
   "source": [
    "e = export(expt_doc[0])\n",
    "print(e)"
   ]
  },
  {
   "cell_type": "markdown",
   "id": "e62289d7-c382-4a48-b0d9-c46b5faa9115",
   "metadata": {},
   "source": [
    "Example of an exported file:\n",
    "\n",
    "**Experiment Node from tutorials part 2**\n",
    "\n",
    "```json\n",
    "{\n",
    "  \"name\": \"Anionic Polymerization of Styrene with SecBuLi\",\n",
    "  \"class_\": \"Experiment\",\n",
    "  \"c_data\": [\n",
    "    {\n",
    "      \"uid\": \"613b5a2cdc2340f324c644d8\",\n",
    "      \"name\": \"Crude SEC of polystyrene\",\n",
    "      \"class_\": \"Data\"\n",
    "    },\n",
    "    {\n",
    "      \"uid\": \"613b5a2cdc2340f324c644dd\",\n",
    "      \"name\": \"Crude 1H NMR of polystyrene\",\n",
    "      \"class_\": \"Data\"\n",
    "    }\n",
    "  ],\n",
    "  \"created_date\": \"2021-09-10 13:14:17.087000\",\n",
    "  \"last_modified_date\": \"2021-09-10 13:14:17.087000\",\n",
    "  \"c_process\": [\n",
    "    {\n",
    "      \"uid\": \"613b5a2bdc2340f324c644d3\",\n",
    "      \"name\": \"Anionic of Styrene\",\n",
    "      \"class_\": \"Process\"\n",
    "    }\n",
    "  ],\n",
    "  \"uid\": \"613b5a29dc2340f324c644c5\",\n",
    "  \"model_version\": \"0.0.1\",\n",
    "  \"c_material\": [\n",
    "    {\n",
    "      \"uid\": \"613b5a29dc2340f324c644cb\",\n",
    "      \"name\": \"styrene\",\n",
    "      \"class_\": \"Material\"\n",
    "    },\n",
    "    {\n",
    "      \"uid\": \"613b5a2adc2340f324c644cc\",\n",
    "      \"name\": \"toluene\",\n",
    "      \"class_\": \"Material\"\n",
    "    },\n",
    "    {\n",
    "      \"uid\": \"613b5a2adc2340f324c644cd\",\n",
    "      \"name\": \"tetrahydrofuran\",\n",
    "      \"class_\": \"Material\"\n",
    "    },\n",
    "    {\n",
    "      \"uid\": \"613b5a2adc2340f324c644ce\",\n",
    "      \"name\": \"1-butanol\",\n",
    "      \"class_\": \"Material\"\n",
    "    },\n",
    "    {\n",
    "      \"uid\": \"613b5a2adc2340f324c644cf\",\n",
    "      \"name\": \"methanol\",\n",
    "      \"class_\": \"Material\"\n",
    "    },\n",
    "    {\n",
    "      \"uid\": \"613b5a2adc2340f324c644d0\",\n",
    "      \"name\": \"cyclohexane\",\n",
    "      \"class_\": \"Material\"\n",
    "    },\n",
    "    {\n",
    "      \"uid\": \"613b5a2adc2340f324c644d1\",\n",
    "      \"name\": \"sec-butyllithium\",\n",
    "      \"class_\": \"Material\"\n",
    "    },\n",
    "    {\n",
    "      \"uid\": \"613b5a2adc2340f324c644d2\",\n",
    "      \"name\": \"SecBuLi solution 1.4M cHex\",\n",
    "      \"class_\": \"Material\"\n",
    "    },\n",
    "    {\n",
    "      \"uid\": \"613b5a2cdc2340f324c644de\",\n",
    "      \"name\": \"polystyrene\",\n",
    "      \"class_\": \"Material\"\n",
    "    }\n",
    "  ]\n",
    "}\n",
    "```"
   ]
  },
  {
   "cell_type": "markdown",
   "id": "f15fbe6f-4c1f-4652-bda1-cff4dc8161c8",
   "metadata": {},
   "source": [
    "## <u>Exporting Multiples File</u>\n",
    "\n",
    "When it comes to exporting multiple files, we have two options. \n",
    "\n",
    "### Option 1: List of files\n",
    "\n",
    "We can pass a list of nodes, documents, or node referances to the export.\n",
    "\n",
    "<u>Action</u>: Replace database details. Then run the cell.\n",
    "\n",
    "<u>Output</u>: Print out a list of files that were created."
   ]
  },
  {
   "cell_type": "code",
   "execution_count": 3,
   "id": "23acf6e8-1ff7-409b-83c1-0b794fd8ff0c",
   "metadata": {},
   "outputs": [
    {
     "name": "stdout",
     "output_type": "stream",
     "text": [
      "\n",
      "number  key                           name                          uid                           \n",
      "------------------------------------------------------------\n",
      "0       .CRIPT_community              Tutorial Materials            614a3b50f5f6d32ad5df1ea3      \n",
      "\n",
      "{\n",
      "  \"c_material\": [\n",
      "    {\n",
      "      \"uid\": \"614a3b50f5f6d32ad5df1ea4\",\n",
      "      \"name\": \"water\",\n",
      "      \"class_\": \"Material\"\n",
      "    },\n",
      "    {\n",
      "      \"uid\": \"614a3b50f5f6d32ad5df1ea5\",\n",
      "      \"name\": \"deuterated chloroform\",\n",
      "      \"class_\": \"Material\"\n",
      "    },\n",
      "    {\n",
      "      \"uid\": \"614a3b50f5f6d32ad5df1ea6\",\n",
      "      \"name\": \"nitrogen\",\n",
      "      \"class_\": \"Material\"\n",
      "    },\n",
      "    {\n",
      "      \"uid\": \"614a3b50f5f6d32ad5df1ea7\",\n",
      "      \"name\": \"argon\",\n",
      "      \"class_\": \"Material\"\n",
      "    },\n",
      "    {\n",
      "      \"uid\": \"614a3b50f5f6d32ad5df1ea8\",\n",
      "      \"name\": \"styrene\",\n",
      "      \"class_\": \"Material\"\n",
      "    },\n",
      "    {\n",
      "      \"uid\": \"614a3b50f5f6d32ad5df1ea9\",\n",
      "      \"name\": \"toluene\",\n",
      "      \"class_\": \"Material\"\n",
      "    },\n",
      "    {\n",
      "      \"uid\": \"614a3b51f5f6d32ad5df1eaa\",\n",
      "      \"name\": \"tetrahydrofuran\",\n",
      "      \"class_\": \"Material\"\n",
      "    },\n",
      "    {\n",
      "      \"uid\": \"614a3b51f5f6d32ad5df1eab\",\n",
      "      \"name\": \"1-butanol\",\n",
      "      \"class_\": \"Material\"\n",
      "    },\n",
      "    {\n",
      "      \"uid\": \"614a3b51f5f6d32ad5df1eac\",\n",
      "      \"name\": \"methanol\",\n",
      "      \"class_\": \"Material\"\n",
      "    },\n",
      "    {\n",
      "      \"uid\": \"614a3b51f5f6d32ad5df1ead\",\n",
      "      \"name\": \"cyclohexane\",\n",
      "      \"class_\": \"Material\"\n",
      "    },\n",
      "    {\n",
      "      \"uid\": \"614a3b51f5f6d32ad5df1eae\",\n",
      "      \"name\": \"sec-butyllithium\",\n",
      "      \"class_\": \"Material\"\n",
      "    },\n",
      "    {\n",
      "      \"uid\": \"614a3b51f5f6d32ad5df1eaf\",\n",
      "      \"name\": \"SecBuLi solution 1.4M cHex\",\n",
      "      \"class_\": \"Material\"\n",
      "    }\n",
      "  ],\n",
      "  \"name\": \"Tutorial Materials\",\n",
      "  \"class_\": \"Inventory\",\n",
      "  \"created_date\": \"2021-09-21 20:06:40.443000\",\n",
      "  \"last_modified_date\": \"2021-09-21 20:06:40.443000\",\n",
      "  \"model_version\": \"0.0.1\",\n",
      "  \"uid\": \"614a3b50f5f6d32ad5df1ea3\"\n",
      "}\n"
     ]
    }
   ],
   "source": [
    "# from cript import *\n",
    "\n",
    "# db_username = \"Olsen_lab\"\n",
    "# db_password = \"Brad_Olsen\"\n",
    "# db_project = \"cript_testing\"\n",
    "# db_database = \"test\"\n",
    "# user = \"johndoe@cript.edu\"\n",
    "# db = CriptDB(db_username, db_password, db_project, db_database, user)\n",
    "\n",
    "\n",
    "inv_doc = db.view(Inventory)\n",
    "inv = load(inv_doc[0])\n",
    "print(inv)"
   ]
  },
  {
   "cell_type": "markdown",
   "id": "a54979dc-72ca-4917-832f-9d3aabb1da4c",
   "metadata": {},
   "source": [
    "Lets save the first 4 materials in the inventory."
   ]
  },
  {
   "cell_type": "code",
   "execution_count": 9,
   "id": "356bd30f-8cec-401f-a4b6-ef11622064e4",
   "metadata": {},
   "outputs": [
    {
     "name": "stdout",
     "output_type": "stream",
     "text": [
      "[WindowsPath('C:/Users/nicep/Downloads/cript_export_20210921-161040/Material_614a3b50f5f6d32ad5df1ea4_water.txt'), WindowsPath('C:/Users/nicep/Downloads/cript_export_20210921-161040/Material_614a3b50f5f6d32ad5df1ea5_deuterated chloroform.txt'), WindowsPath('C:/Users/nicep/Downloads/cript_export_20210921-161040/Material_614a3b50f5f6d32ad5df1ea6_nitrogen.txt')]\n"
     ]
    }
   ],
   "source": [
    "e = export(inv.c_material[0:3])\n",
    "print(e)"
   ]
  },
  {
   "cell_type": "markdown",
   "id": "2cd217e7-2ebc-4dee-a537-15bf9393a883",
   "metadata": {},
   "source": [
    "### Option 2: Exporting by traversing references.\n",
    "\n",
    "Remember that the database is inheriently a graph. So we can start at some point in the graph, and follow all child references to get files. This is useful approach when you w \n",
    "\n",
    "<u>Action</u>: Replace database details. Then run the cell.\n",
    "\n",
    "<u>Output</u>: Print out a list of files that were created."
   ]
  },
  {
   "cell_type": "code",
   "execution_count": null,
   "id": "164c04a1-8006-4e4f-85ea-17a26c1ccbbb",
   "metadata": {},
   "outputs": [],
   "source": [
    "# from cript import *\n",
    "\n",
    "# db_username = \"Olsen_lab\"\n",
    "# db_password = \"Brad_Olsen\"\n",
    "# db_project = \"cript_testing\"\n",
    "# db_database = \"test\"\n",
    "# user = \"johndoe@cript.edu\"\n",
    "# db = CriptDB(db_username, db_password, db_project, db_database, user)\n",
    "\n",
    "e = export(db.user, depth=1)\n",
    "print(e)"
   ]
  },
  {
   "cell_type": "markdown",
   "id": "1dd72aa0-10fb-40c2-bfec-f0d28840104d",
   "metadata": {},
   "source": [
    "<span style=\"color:red\">A word of warning:</span> Increasing the depth of an export exponetially increase the number of files saved, so increase the number with caution! A depth of 4 starting from the `User node` should capture most of your own files."
   ]
  },
  {
   "cell_type": "code",
   "execution_count": null,
   "id": "e40dd2b5-ab92-4c48-a96a-2714c6e15d34",
   "metadata": {},
   "outputs": [],
   "source": []
  }
 ],
 "metadata": {
  "kernelspec": {
   "display_name": "Python 3",
   "language": "python",
   "name": "python3"
  },
  "language_info": {
   "codemirror_mode": {
    "name": "ipython",
    "version": 3
   },
   "file_extension": ".py",
   "mimetype": "text/x-python",
   "name": "python",
   "nbconvert_exporter": "python",
   "pygments_lexer": "ipython3",
   "version": "3.9.5"
  }
 },
 "nbformat": 4,
 "nbformat_minor": 5
}
