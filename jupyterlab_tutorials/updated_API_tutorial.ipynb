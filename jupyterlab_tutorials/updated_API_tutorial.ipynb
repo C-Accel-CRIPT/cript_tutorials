{
 "cells": [
  {
   "cell_type": "markdown",
   "metadata": {
    "tags": []
   },
   "source": [
    "# Creating your first Experiment in CRIPT \n",
    "\n",
    "## Create a CRIPT account and retrieve your API token\n",
    "* To create a user account on CRIPT please login through the [web application](https://criptapp.herokuapp.com/) with an [ORCID](https://orcid.org/).\n",
    "* After login, an API token can be retrieved from the [account settings page](https://criptapp.herokuapp.com/settings/).\n",
    "* We recommend storing your API token as an evironment variable. Once connected, you should be able to view the API easily here: https://criptapp.herokuapp.com/api/\n",
    "\n",
    "## 1. Get your user info from `User node`\n",
    "* To create various assests in CRIPT (Collections, Experiments etc.) you will need to query your User node for it's url. \n",
    "\n",
    "## 2. Find or create a `Group node`\n",
    "* Similar to the User node, many CRIPT assests require a Group to be defined upon creation.\n",
    "\n",
    "## 3. Create a `Collection node`\n",
    "* A Collection node is an organizational tool, you can think of it as a 'folder' on your computer. It just a way to group experiments together. \n",
    "* Examples - a series of kinetic experiments on a reaction, a library of polyesters, all the experiments that make up a publication\n",
    "* Example of nested Collections - An example of that may be you find a new catalyst that can polymerize styrene. You could have a parent collection which holds several other collections child collections with each child collection deticated to a different aspect of the new catalyst reaseach (such as kinetics study, monomer scope, diblock polymer synthesis, etc.). \n",
    "\n",
    "## Next, lets make our `Experiment node`.\n",
    "* The `Experiment node` is just a grouping of `Material nodes`, `Process nodes` and `Data nodes`. You can think of an experiment as a page in the notebook, except it doesn't hold any of the data it just reference the nodes that do. The reason we break out the `Material nodes`, `Process nodes` and `Data nodes` and don't just group them into the `Experiment node` is because a single `Material` may be referenced in multiple experiments and this allows us to just refenence the `Material node` instead of duplicating the data. Additionally, this seperated data model is more flexable to cases where someone makes a material in one experiment and uses it or studies in a different experiment. There is also huge benfits in terms of search perferomance and reduced memory usage, but that's beyond the scope of this tutorial.\n",
    "\n",
    "## The `Material node` contains identity and property data for a chemical. \n",
    "* This can be a polymer, a small molecule, or a mixture of multiple components. CRIPT is already prepopulated with the most common small molecules (including some property data). You can of course add a material if it doesn't already exist in the database, or reference an existing material and add new data, or completely copy a whole material and modify it to suit your own requirements. In terms of best practices (for small molecules), using existing materials is always prefered, followed by referencing, and coping as the least prefered method as duplicates of the same material hinders the effectiveness of the database. When it comes to polymers, polymers should aways be treated as a new material as the molecular weight distribution, composition, topolology is never perfectly the same."
   ]
  },
  {
   "cell_type": "code",
   "execution_count": 18,
   "metadata": {},
   "outputs": [
    {
     "name": "stdout",
     "output_type": "stream",
     "text": [
      "\n",
      "Connection to the API was successful!\n",
      "\n"
     ]
    },
    {
     "data": {
      "text/plain": [
       "Connected to https://criptapp.herokuapp.com/api"
      ]
     },
     "execution_count": 18,
     "metadata": {},
     "output_type": "execute_result"
    }
   ],
   "source": [
    "import os\n",
    "\n",
    "# this assumes you have downloaded the CRIPT python package\n",
    "import sys\n",
    "sys.path.append('../../')\n",
    "from cript import * \n",
    "\n",
    "# Initialize API session (i.e. login)\n",
    "session = connect.API(url=\"https://criptapp.herokuapp.com\", token=os.environ['CRIPT_API_TOKEN_2'])\n",
    "session"
   ]
  },
  {
   "cell_type": "code",
   "execution_count": 19,
   "metadata": {},
   "outputs": [
    {
     "data": {
      "text/plain": [
       "'https://criptapp.herokuapp.com/api/user/a9e30833-c66b-488e-8c6b-d6ea305a3af2/'"
      ]
     },
     "execution_count": 19,
     "metadata": {},
     "output_type": "execute_result"
    }
   ],
   "source": [
    "# 1. Cache your user info\n",
    "query_params = {'username':'cborg'}\n",
    "user_info = session.get(User, query_params)\n",
    "user_info.url"
   ]
  },
  {
   "cell_type": "code",
   "execution_count": 10,
   "metadata": {},
   "outputs": [
    {
     "data": {
      "text/plain": [
       "{\n",
       "    \"url\": \"https://criptapp.herokuapp.com/api/group/8889d011-3e02-4bfd-bea2-c600a1f9de6a/\",\n",
       "    \"uid\": \"8889d011-3e02-4bfd-bea2-c600a1f9de6a\",\n",
       "    \"name\": \"Tutorials\",\n",
       "    \"users\": [\n",
       "        \"https://criptapp.herokuapp.com/api/user/a9e30833-c66b-488e-8c6b-d6ea305a3af2/\"\n",
       "    ],\n",
       "    \"public\": false,\n",
       "    \"created_at\": null,\n",
       "    \"updated_at\": null\n",
       "}"
      ]
     },
     "execution_count": 10,
     "metadata": {},
     "output_type": "execute_result"
    }
   ],
   "source": [
    "# 2a. Find a group by name\n",
    "query_params = {'name':'Tutorials'}\n",
    "data = session.get(Group, query_params)\n",
    "\n",
    "# 2b. create a new group (must have user url)\n",
    "group = nodes.Group(name='Tutorial group', users=[data.url])\n",
    "session.save(group)"
   ]
  },
  {
   "cell_type": "code",
   "execution_count": 16,
   "metadata": {},
   "outputs": [
    {
     "name": "stdout",
     "output_type": "stream",
     "text": [
      "Collection node has been saved to the database.\n"
     ]
    }
   ],
   "source": [
    "# 3. Create a new collection (must have group url)\n",
    "collection_node = nodes.Collection(name='Tutorials', group=group.url)\n",
    "session.save(collection_node)"
   ]
  },
  {
   "cell_type": "code",
   "execution_count": 45,
   "metadata": {},
   "outputs": [],
   "source": [
    "# 4. \n",
    "expt_node = nodes.Experiment(name=\"Anionic Polymerization of Styrene with SecBuLi\",collection=collection_node,group=group)\n",
    "\n",
    "sec_data = nodes.Data(\n",
    "    name=\"Crude SEC of polystyrene\",\n",
    "    type=\"sec_trace\",\n",
    "    group=group,\n",
    "    experiment=expt_node,\n",
    "    sample_prep=\"5 mg of polymer in 1 ml of THF, filtered 0.45um pores.\",\n",
    ")\n",
    "\n",
    "\n",
    "conditions =[\n",
    "        nodes.Condition(\"temperature\", value=100, unit='degC'),\n",
    "        # nodes.Condition(\"time\", value=60, unit='min'),\n",
    "        nodes.Condition(\"solvent\", value='THF'),\n",
    "        # nodes.Condition(\"folw_rate\", value=1, unit='ml/min')\n",
    "    ]\n",
    "\n",
    "iden=nodes.Identifier(key='CAS', value='123')"
   ]
  },
  {
   "cell_type": "code",
   "execution_count": 67,
   "metadata": {},
   "outputs": [
    {
     "name": "stdout",
     "output_type": "stream",
     "text": [
      "{\n",
      "    \"url\": \"https://criptapp.herokuapp.com/api/collection/35/\",\n",
      "    \"group\": \"https://criptapp.herokuapp.com/api/group/34/\",\n",
      "    \"name\": \"my_first_collection\",\n",
      "    \"notes\": null,\n",
      "    \"experiments\": [],\n",
      "    \"inventories\": [],\n",
      "    \"citations\": [],\n",
      "    \"created_at\": \"2022-04-04T20:37:17.919861Z\",\n",
      "    \"updated_at\": \"2022-04-04T20:37:17.919883Z\",\n",
      "    \"public\": false\n",
      "} <class 'cript.nodes.Collection'>\n",
      "Collection node has been saved to the database.\n",
      "{\n",
      "    \"url\": \"https://criptapp.herokuapp.com/api/collection/35/\",\n",
      "    \"group\": \"https://criptapp.herokuapp.com/api/group/34/\",\n",
      "    \"name\": \"my_first_collection\",\n",
      "    \"notes\": \"I added a note\",\n",
      "    \"experiments\": [],\n",
      "    \"inventories\": [],\n",
      "    \"citations\": [],\n",
      "    \"created_at\": \"2022-04-04T20:37:17.919861Z\",\n",
      "    \"updated_at\": \"2022-04-04T20:37:22.334055Z\",\n",
      "    \"public\": false\n",
      "} <class 'cript.nodes.Collection'>\n"
     ]
    }
   ],
   "source": [
    "# update a collection\n",
    "query_params = {'name':'my_first_collection'}\n",
    "collection = session.get(Collection, query_params)\n",
    "print(collection, type(collection))\n",
    "collection.notes = 'I added a note'\n",
    "session.save(collection)\n",
    "print(collection, type(collection))"
   ]
  },
  {
   "cell_type": "code",
   "execution_count": 62,
   "metadata": {},
   "outputs": [
    {
     "name": "stdout",
     "output_type": "stream",
     "text": [
      "Collection node has been deleted from the database.\n",
      "None <class 'NoneType'>\n"
     ]
    }
   ],
   "source": [
    "# delete a collection\n",
    "query = session.delete(collection)\n",
    "print(query, type(query))"
   ]
  }
 ],
 "metadata": {
  "interpreter": {
   "hash": "20bf86570f699b180626fc8b98eca36cd71ada9ce585f80947f6f0e962d1ca23"
  },
  "kernelspec": {
   "display_name": "Python 3 (ipykernel)",
   "language": "python",
   "name": "python3"
  },
  "language_info": {
   "codemirror_mode": {
    "name": "ipython",
    "version": 3
   },
   "file_extension": ".py",
   "mimetype": "text/x-python",
   "name": "python",
   "nbconvert_exporter": "python",
   "pygments_lexer": "ipython3",
   "version": "3.9.7"
  }
 },
 "nbformat": 4,
 "nbformat_minor": 4
}
