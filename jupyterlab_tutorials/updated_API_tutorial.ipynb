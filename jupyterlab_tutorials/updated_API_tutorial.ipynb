{
 "cells": [
  {
   "cell_type": "markdown",
   "metadata": {},
   "source": [
    "# Part 1: Getting Started with CRIPT (A Community Resource for Innovation in Polymer Technology)\n",
    "\n",
    "**Welcome to CRIPT!**\n",
    "CRIPT's mission is to develop a digital ecosystem for polymers. As part of that mission, we have generated a data model which provides rules on how to format polymer data so that it can be easily stored, shared, and searched. This tutorial will introduce you to Python bindings for the CRIPT API. Once CRIPT is available via PyPI, you will no longer need to clone a local version of CRIPT Python. \n",
    "\n",
    "\n",
    "## Connecting to the CRIPT platform\n",
    "To establish a connection to the CRIPT platform we will utilize the CRIPT API. You should first create an account on the CRIPT platform and retrive an API token.\n",
    "\n",
    "## CRIPT Nodes\n",
    "CRIPT nodes are objects on the CRIPT platform that are used to store information and data (e.g. `User`, `Group`, `Collection`, `Experiment`). Nodes have a dependency structure that is outlined by the CRIPT data model (e.g. a `Condition` node must be linked to a `Property` node)).\n",
    "\n",
    "### Primary Nodes\n",
    "Primary nodes can be accessed via the root level API (https://criptapp.herokuapp.com/api/). Each primary node will have an associated URL. \n",
    "\n",
    "* `User`\n",
    "    * Contains information about an individual using the database (e.g. John Doe, Jane Doe).\n",
    "* `Group`\n",
    "    * A foundational node for storing information about a research team. All other nodes must reference a `Group` (e.g. CRIPT development team, Olsen lab).\n",
    "* `Collection`\n",
    "    * Contains a grouping of experiments, with the purpose to provide a hierarchical organization to non-linear, but related experiments (e.g. ROMP Kinetic Experiments, Polyolefin Library).\n",
    "* `Experiment`\n",
    "    * A set of conditions and performed processes that result in a material (e.g. Synthesis of PS-b-PB, ATRP of styrene).\n",
    "* `Inventory`\n",
    "    * Well defined materials typically used in an `Experiment` (e.g. Olsen Lab Inventory, ROP monomers, Stockroom Chemicals)\n",
    "* `Material`\n",
    "    * Indentifying information and property data for a chemical (e.g. styrene, toluene, polystyrene, polyethylene).\n",
    "* `Identity`\n",
    "* `Process`\n",
    "    * A procedural set of steps in an `Experiment` (e.g. Anionic Polymerization of styrene)\n",
    "* `Step`\n",
    "    * A defined piece of a `Process`.\n",
    "* `Data`\n",
    "    * Contains metadata and data associated with an experiment (e.g. 1H NMR, SEC trace, IR spectrum)\n",
    "* `File`\n",
    "    * Contains metadata and link to a data file stored on CRIPT.\n",
    "* `Reference`\n",
    "    * \n",
    "\n",
    "### Secondary nodes\n",
    "- `Citation`\n",
    "- `Component`\n",
    "- `Condition`\n",
    "* `IntermediateIngredient`\n",
    "    * Material ingredients that are generated as part of an experiment but not a final product.\n",
    "* `MaterialIngredient`\n",
    "    * Adds quantity field to Material (e.g. 10g of Styrene).\n",
    "- `Property`\n",
    "- `Quantity`"
   ]
  },
  {
   "cell_type": "code",
   "execution_count": 2,
   "metadata": {},
   "outputs": [
    {
     "name": "stdout",
     "output_type": "stream",
     "text": [
      "\n",
      "Connection to the API was successful!\n",
      "\n"
     ]
    },
    {
     "data": {
      "text/plain": [
       "Connected to https://criptapp.herokuapp.com/api"
      ]
     },
     "execution_count": 2,
     "metadata": {},
     "output_type": "execute_result"
    }
   ],
   "source": [
    "import os\n",
    "\n",
    "# this assumes you have downloaded the CRIPT python package\n",
    "import sys\n",
    "sys.path.append('../../')\n",
    "from cript import *\n",
    "\n",
    "# Initialize API session (i.e. login)\n",
    "# You will need to get your API token from the account settings page after logging in (https://criptapp.herokuapp.com/settings/)\n",
    "# We recommend storing your API token as an evironment variable\n",
    "# Once connected, you should be able to view the API easily here: https://criptapp.herokuapp.com/api/\n",
    "\n",
    "session = connect.API(url=\"https://criptapp.herokuapp.com\", token=os.environ['CRIPT_API_TOKEN'])\n",
    "session"
   ]
  },
  {
   "cell_type": "code",
   "execution_count": 3,
   "metadata": {},
   "outputs": [
    {
     "name": "stdout",
     "output_type": "stream",
     "text": [
      "{'count': 1, 'next': None, 'previous': None, 'results': [{'url': 'https://criptapp.herokuapp.com/api/experiment/1/', 'name': 'Anionic Polymerization of Styrene with SecBuLi', 'funding': None, 'notes': None, 'collection': 'https://criptapp.herokuapp.com/api/collection/1/', 'processes': [], 'data': ['https://criptapp.herokuapp.com/api/data/1/', 'https://criptapp.herokuapp.com/api/data/2/'], 'created_at': '2022-03-15T04:31:30.424911Z', 'updated_at': '2022-03-15T19:00:20.192142Z', 'group': 'https://criptapp.herokuapp.com/api/group/1/', 'public': True}]}\n"
     ]
    }
   ],
   "source": [
    "# running a query without defining any parameters will return all nodes available to that user.\n",
    "# Search queries can only be made on primary nodes\n",
    "query_params = {'':''}\n",
    "query = session.search(Experiment, query_params)\n",
    "print(query)"
   ]
  },
  {
   "cell_type": "markdown",
   "metadata": {},
   "source": [
    "Query fields for primary keys:\n",
    "* `User`: email, url\n",
    "* `Group`: name, users, url\n",
    "* `Collection`: group, name, public, url, notes, experiments, inventories, citations\n",
    "* `Experiment`: group, name, public, url, collection, funding, notes, processes, data,\n",
    "* `Inventory`: group, name, public, url, collection, description\n",
    "* `Material`: group, name, public, url, components, vendor, lot_number, keywords, notes, step, properties, citations\n",
    "* `Identity`: group, name, public, url, names, cas, smiles, bigsmiles, chem_formula, chem_repeat, pubchem_cid, inchi, inchi_key\n",
    "* `Process`: group, name, public, url, experiments, keywords, notes, steps\n",
    "* `Step`: group, public, url, process, step_id, type, description, intermediate_ingredients, material_ingredients, equipment, duration, time_position, properties, conditions, set_id, material_products, dependent_steps\n",
    "* `Data`: group, name, public, url, files, type, sample_prep, calibration, configuration, notes, experiments, materials, steps, citations\n",
    "* `File`: group, name, public, url, data, type, id, source, extension, external_source\n",
    "* `Reference`: group, public, url, title, doi, authors, journal, publisher, year, volume, pages, issn, arxiv_id, mpid, website, notes\n",
    "\n",
    "Types:\n",
    "* Name = String "
   ]
  },
  {
   "cell_type": "code",
   "execution_count": 4,
   "metadata": {},
   "outputs": [
    {
     "name": "stdout",
     "output_type": "stream",
     "text": [
      "{'count': 1, 'next': None, 'previous': None, 'results': [{'url': 'https://criptapp.herokuapp.com/api/group/7/', 'name': 'Citrine', 'users': ['https://criptapp.herokuapp.com/api/user/9/']}]}\n"
     ]
    }
   ],
   "source": [
    "query_params = {'name':'Citrine'}\n",
    "query = session.search(Group, query_params)\n",
    "print(query)"
   ]
  },
  {
   "cell_type": "code",
   "execution_count": null,
   "metadata": {},
   "outputs": [],
   "source": [
    "# create and register a collection node to the database\n",
    "collection_node = nodes.Collection(name='cborg_collection', group='https://criptapp.herokuapp.com/api/group/7/')\n",
    "session.save(collection_node)"
   ]
  },
  {
   "cell_type": "code",
   "execution_count": null,
   "metadata": {},
   "outputs": [],
   "source": []
  }
 ],
 "metadata": {
  "interpreter": {
   "hash": "20bf86570f699b180626fc8b98eca36cd71ada9ce585f80947f6f0e962d1ca23"
  },
  "kernelspec": {
   "display_name": "Python 3.9.7 ('base')",
   "language": "python",
   "name": "python3"
  },
  "language_info": {
   "codemirror_mode": {
    "name": "ipython",
    "version": 3
   },
   "file_extension": ".py",
   "mimetype": "text/x-python",
   "name": "python",
   "nbconvert_exporter": "python",
   "pygments_lexer": "ipython3",
   "version": "3.9.7"
  },
  "orig_nbformat": 4
 },
 "nbformat": 4,
 "nbformat_minor": 2
}
