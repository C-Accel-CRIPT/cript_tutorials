{
 "cells": [
  {
   "cell_type": "markdown",
   "id": "30f04501-2dbb-46a7-bff1-9b2b1807f2f2",
   "metadata": {},
   "source": [
    "# Part 1: Getting Started with CRIPT (A Community Resource for Innovation in Polymer Technology)\n",
    "\n",
    "---\n",
    "---\n",
    "\n",
    "**Welcome to CRIPT!**\n",
    "\n",
    "CRIPT's mission is to develop a digital ecosystem for polymers. As part of that mission, we have generated a data model which provides rules on how to format data so that data can be easily stored, shared, and searched. An additional aspect of a digital ecosystem is the database itself. For CRIPT we have chosen to use MongoDB (a cloud document database service). Attempting to manually, write data into the data model and upload it to the database can be a complex and time consuming process. To address this issue, we have built a Python API (Application Programming Interface) which provides a more simplified interface for entering data and handles a lot of the formatting for the user. Additionally, the API allows us to incorporate additional tools like data validation, data visualization, etc.\n",
    "\n",
    "<center><img src=\"https://raw.githubusercontent.com/C-Accel-CRIPT/cript_tutorials/master/supporting_files/pics/P1_data_to_cript.svg\"/></center>\n",
    "\n",
    "\n",
    "To help users learn CRIPT's API we have put together a series of tutorial. The tutorials will teach both the Python commands needed to use the API and also provide lessons about the underlying data model. The tutorial is written with the expectation that you have a very basic understanding of the Python programing language. (If you have no Python experience, fear not, they are many tutorials on YouTube where you can learn it within a day or so. Here's a recommend one: [link](https://www.youtube.com/watch?v=rfscVS0vtbw)) \n",
    "\n",
    "<u> **Main Tutorial Series:** </u>\n",
    "* Part 1: Will take you through the process of installing the CRIPT API, creating your user account and joining a group.\n",
    "* Part 2: Will take you through the process of creating a collection and experiment. It will also demonstrate how to input a basic experiment data for the anionic polymerization of styrene.\n",
    "\n",
    "<u>Additional Tutorials:</u>\n",
    "* Additional Experiment Example (diblock bottlebrush synthesis and material properties studies)\n",
    "* Advanced Searching\n",
    "* Exporting Data\n",
    "\n",
    "## <u>CRIPT API Overview</u>\n",
    "\n",
    "Before diving into the code let me give you some high level context on how the CRIPT API and data model is organized and works (Check out the figure below.). The main data structure consists of the following nodes:\n",
    "* User\n",
    "    * Contains information about an individual using the database\n",
    "    * Example: John Doe, Jane Doe\n",
    "* Group\n",
    "    * Contains information about group and ownership of collections and experiments lies with groups\n",
    "    * Example: CRIPT development team, Olsen Lab, MIT chemistry department\n",
    "* Collection (Coll.)\n",
    "    * Contains a grouping of experiments, with the purpose to provide a hierarchical organization to non-linear, but related experiments\n",
    "    * Example: ROMP Kinetic Experiments, Polyolefin Library\n",
    "* Experiment (Expt.)\n",
    "    * Contains complete set of references to all the nodes (Material, Process, Data, Simulation) of an experiment.\n",
    "    * Example: Synthesis of PS-b-PB, ATRP of styrene\n",
    "* Publication (Pub.)\n",
    "    * Contains Collections which embodies a literature publication\n",
    "    * Example: \n",
    "* Inventory\n",
    "    * Contains a list of Material Nodes\n",
    "    * Example: Olsen Lab Inventory, ROP monomers, Stockroom Chemicals\n",
    "* Material\n",
    "    * Contains identity and property data for a chemical\n",
    "    * Example: styrene, toluene, polystyrene, polyethylene\n",
    "* Process\n",
    "    * Contains ingredient list, quantities, and procedure information\n",
    "    * Example: Anionic Polymerization of styrene, \n",
    "* Data\n",
    "    * Contains meta data for raw or processed data\n",
    "    * Example: 1H NMR, SEC trace, IR spectrum\n",
    "* Simulation (Sim.)\n",
    "    * Under Construction\n",
    "\n",
    "<center><img src=\"https://raw.githubusercontent.com/C-Accel-CRIPT/cript_tutorials/master/supporting_files/pics/P1_high_level.svg\"/></center>\n",
    "\n",
    "These are the nodes that we will look to create with the API code and save to the database (which we can access the database through `CriptDB`). The first half of this list is mostly organizational tools, with the last 4 nodes (`Material`, `Process`, `Data`, `Simulation`) being where the bulk of the data will be stored.  \n",
    "\n",
    "<span style=\"color:SteelBlue\">  Everything in CRIPT is a `node` (`User`, `Group`, `Experiment`, `Material`, `Data`, ...). We use the word `node` as CRIPT can be thought of a graph with nodes holding a bunch of related information and lines showing the relationship between nodes. This idea of CRIPT being a graph will become more apparent you continue this tutorial. For now just remember that a node is just a group of related information or if you are an avid python user, a node is just a python class.</span> \n",
    "\n",
    "There are also a few additional helper nodes that we will use to assemble the mains nodes. These helper nodes consist of the following (they will be explained more later):\n",
    "* Identity (Iden)\n",
    "* Ingredient (Ingr)\n",
    "* File \n",
    "* Condition (Cond)\n",
    "* Property (Prop)\n",
    "* Unit\n",
    "\n",
    "There are also 3 other nodes that haven't been mentioned (`Version Control`, ` Data Lake`, `Model Lake`). `Version Control` is something we won't work with directly, but it is working in the background keeping track of the changes to every node (node history). The ` Data Lake` is the database location where all your raw data (NMR, SEC traces, images, etc.) live. It's not something you access direct, but it is indirectly accessed through the `Data` node. The `Model Lake` is currently still under construction.\n",
    "\n",
    "---\n",
    "---"
   ]
  },
  {
   "cell_type": "markdown",
   "id": "479b8530-f079-46a7-b49f-ef40f0eb90bc",
   "metadata": {},
   "source": [
    "## <u>Installation and Setup</u>:\n",
    "\n",
    "\n",
    "### Step 1: Downloading CRIPT python package\n",
    "Depending on whether you are a beta-version user or stable-version user, you will <u>**run one**</u> of the following code blocks.\n",
    "This will add the CRIPT python package to your python and download any dependencies that are needed for CRIPT to run correctly.\n",
    "\n",
    "<u>Action:</u> Proceed by running one of the following cells depending on your situation. \n",
    "<span style=\"color:gray\">(You can run a cell by either clicking on it and hitting the 'play/run' button in the toolbar or click the cell and hit \"shift\" + \"enter\".)</span>\n",
    "\n",
    "<u>Output:</u> You should see alot of stuff being printing to the screen. This is just letting you know all the stuff being installed. The important output text you are looking for to know that everything worked is : \"Successfully installed cript-#.#.#\"  <span style=\"color:Red\"> (may take ~1 min to run)</span> \n",
    "\n",
    "If you are running into issues here, it may be due to issues with how python is currently configured. Try googling or looking at StackOverflow for help on your error. \n",
    "\n",
    "---"
   ]
  },
  {
   "cell_type": "code",
   "execution_count": 1,
   "id": "2e34b138-7728-4fc3-8bb6-29f2c8f2c1e5",
   "metadata": {},
   "outputs": [
    {
     "name": "stdout",
     "output_type": "stream",
     "text": [
      "Processing c:\\cript-0.0.2.tar.gz\n",
      "  Installing build dependencies: started\n",
      "  Installing build dependencies: finished with status 'done'\n",
      "  Getting requirements to build wheel: started\n",
      "  Getting requirements to build wheel: finished with status 'done'\n",
      "    Preparing wheel metadata: started\n",
      "    Preparing wheel metadata: finished with status 'done'\n",
      "Requirement already satisfied: rxnpy>=0.0.1 in c:\\python39\\lib\\site-packages (from cript==0.0.2) (0.0.1)\n",
      "Requirement already satisfied: pint>=0.17 in c:\\python39\\lib\\site-packages (from cript==0.0.2) (0.17)\n",
      "Requirement already satisfied: pymongo[srv]>=3.11 in c:\\python39\\lib\\site-packages (from cript==0.0.2) (3.12.0)\n",
      "Requirement already satisfied: fuzzywuzzy>=0.18.0 in c:\\users\\nicep\\appdata\\roaming\\python\\python39\\site-packages (from cript==0.0.2) (0.18.0)\n",
      "Requirement already satisfied: jsonpatch>=1.32 in c:\\users\\nicep\\appdata\\roaming\\python\\python39\\site-packages (from cript==0.0.2) (1.32)\n",
      "Requirement already satisfied: jsonpointer>=1.9 in c:\\python39\\lib\\site-packages (from jsonpatch>=1.32->cript==0.0.2) (2.1)\n",
      "Requirement already satisfied: packaging in c:\\python39\\lib\\site-packages (from pint>=0.17->cript==0.0.2) (21.0)\n",
      "Requirement already satisfied: dnspython<2.0.0,>=1.16.0 in c:\\python39\\lib\\site-packages (from pymongo[srv]>=3.11->cript==0.0.2) (1.16.0)\n",
      "Requirement already satisfied: pyparsing>=2.0.2 in c:\\python39\\lib\\site-packages (from packaging->pint>=0.17->cript==0.0.2) (2.4.7)\n",
      "Building wheels for collected packages: cript\n",
      "  Building wheel for cript (PEP 517): started\n",
      "  Building wheel for cript (PEP 517): finished with status 'done'\n",
      "  Created wheel for cript: filename=cript-0.0.2-py3-none-any.whl size=54041 sha256=740fa6068721f14c40d40bfb787ed87a738f07f961eee41296ac45acec380075\n",
      "  Stored in directory: c:\\users\\nicep\\appdata\\local\\pip\\cache\\wheels\\76\\84\\1c\\69be6d54c36d00c072dfbe5e4ca3bee5a41c1c4a378e335adb\n",
      "Successfully built cript\n",
      "Installing collected packages: cript\n",
      "Successfully installed cript-0.0.2\n"
     ]
    }
   ],
   "source": [
    "# Beta-version user (you have a file named: cript-#.#.#.tar.gz)\n",
    "# This will add CRIPT from the file.\n",
    "\n",
    "# Important: Change the file location to match where you are storing the \".tar.gz\" file on your computer\n",
    "import sys\n",
    "!{sys.executable} -m pip install --user C:/################/cript-0.0.2.tar.gz"
   ]
  },
  {
   "cell_type": "code",
   "execution_count": 2,
   "id": "affc0b08-427b-456d-85e9-1c6eac4ee0ea",
   "metadata": {},
   "outputs": [],
   "source": [
    "# Stable-version user\n",
    "# This will import from PyPi (an online python package database)\n",
    "\n",
    "# import sys\n",
    "# !{sys.executable} -m pip install cript"
   ]
  },
  {
   "cell_type": "markdown",
   "id": "a804d90f-7f73-4900-8c39-0f93c788429c",
   "metadata": {},
   "source": [
    "---\n",
    "---\n",
    "\n",
    "###  Step 2: Importing CRIPT python package\n",
    "Once you have added the CRIPT python package to python, we can now imported into our notebook so we can access all the tools it contains.\n",
    "<span style=\"color:gray\">(We will import the CRIPT package as C, to minimize the amount of typing we will have to do.)</span>\n",
    "\n",
    "<u>Action:</u> Run the following cell.\n",
    "\n",
    "<u>Output:</u> You should see \"Import successful!\" printed bellow the cell. If not, try restarting the python kernal: in the menu bar -> Kernel -> Restart Kernel. Then directly re-run this cell.\n",
    "If that doesn't work, then there was an error in the previous step. \n",
    "\n",
    "---"
   ]
  },
  {
   "cell_type": "code",
   "execution_count": 2,
   "id": "abd24e09-8697-4c7a-bf2c-c38c45162f8a",
   "metadata": {},
   "outputs": [
    {
     "name": "stdout",
     "output_type": "stream",
     "text": [
      "Import successful!\n"
     ]
    }
   ],
   "source": [
    "import cript as C\n",
    "print(\"Import successful!\")"
   ]
  },
  {
   "cell_type": "markdown",
   "id": "d7ca2712-8d00-4c76-86a7-2a748dca7937",
   "metadata": {},
   "source": [
    "---\n",
    "---\n",
    "\n",
    "### Step 3: Connecting to the database\n",
    "\n",
    "You will need the following to log into the database:\n",
    "* Username\n",
    "* Password\n",
    "* Project\n",
    "* Database\n",
    "\n",
    "To get this information contact CRIPT Organization.\n",
    "\n",
    "<u>Action:</u> Fill in the following information with your information.\n",
    "\n",
    "<u>Output:</u> You should see \"Connection to database 'test' successful.\" and \"Not yet logged in.\". If you are not getting this result, double check that everything is written correctly, otherwise reach out to CRIPT Organization for help.\n",
    "\n",
    "---"
   ]
  },
  {
   "cell_type": "code",
   "execution_count": 3,
   "id": "7b835758-d7e8-44de-b347-0e80b8c7cad6",
   "metadata": {},
   "outputs": [
    {
     "name": "stdout",
     "output_type": "stream",
     "text": [
      "Connection to database 'test' successful.\n",
      "Not yet logged in.\n"
     ]
    }
   ],
   "source": [
    "# Connect to database\n",
    "db_username = \"#######\"\n",
    "db_password = \"#######\"\n",
    "db_project = \"#######\"\n",
    "db_database = \"#######\"\n",
    "db = C.CriptDB(db_username, db_password, db_project, db_database)"
   ]
  },
  {
   "cell_type": "markdown",
   "id": "061114c4-8bbc-4ebd-a8b1-ce59ae7bfe62",
   "metadata": {},
   "source": [
    "---\n",
    "---\n",
    "\n",
    "## <u>Creating your User node</u>\n",
    "\n",
    "The first thing a new user needs to do to work on the CRIPT is to create a user node. Everything they do on the database will be tied to this node.\n",
    "\n",
    "\n",
    "To create the `User node` your name and email are required. You can also provide additional information:\n",
    "* phone\n",
    "* website\n",
    "* twitter\n",
    "* orcid\n",
    "* organization\n",
    "* position\n",
    "\n",
    "<u>Action:</u> Update the `User node` in the next cell with your information. Delete any rows you don't want to fill out (remember that name and email are required). \n",
    "\n",
    "<u>Output:</u> You should see a printout of the user data you just entered.\n",
    "\n",
    "---"
   ]
  },
  {
   "cell_type": "code",
   "execution_count": 4,
   "id": "0975b398-9808-4452-b4df-5b73515aaa7e",
   "metadata": {},
   "outputs": [
    {
     "name": "stdout",
     "output_type": "stream",
     "text": [
      "{\n",
      "  \"orcid\": \"0000-0000-0000-0001\",\n",
      "  \"name\": \"John Doe2\",\n",
      "  \"position\": \"Postdoc\",\n",
      "  \"email\": \"johndoe2@cript.edu\",\n",
      "  \"class_\": \"User\",\n",
      "  \"model_version\": \"0.0.2\",\n",
      "  \"organization\": \"Mass. Institute of Technology\"\n",
      "}\n"
     ]
    }
   ],
   "source": [
    "# Generate your User node\n",
    "user_node = C.User(\n",
    "        name=\"John Doe2\",\n",
    "        email=\"johndoe2@cript.edu\",\n",
    "        orcid=\"0000-0000-0000-0001\",\n",
    "        organization=\"Mass. Institute of Technology\",\n",
    "        position=\"Postdoc\"\n",
    ")\n",
    "\n",
    "print(user_node)"
   ]
  },
  {
   "cell_type": "markdown",
   "id": "f0b18cb7-6e5e-4768-9a61-af1a3d8c7491",
   "metadata": {},
   "source": [
    "---\n",
    "We have just created the user node, however it has only been created locally, it has not been saved or added to the database yet. \n",
    "\n",
    "To add it to the database we will following commands: `db.save(user_node)` \n",
    "\n",
    "<span style=\"color:SteelBlue\">The `db.save()` will ask the database (abbreviated 'db') to save what's in the parenthesis; which we are giving it the `user_node` we just made. This command is one of the core commands when communicating with the database. When `db.save()` is run, validation codes will also be run. For the `User node`, this will double check to see if the email has been used before. The database doesn't allow the same email to be used for more than one user node. </span> \n",
    "\n",
    "<u>Action:</u> Run the following cell.\n",
    "\n",
    "<u>Output:</u> You should get \"Save of 'name' was successful.\" and \"Login as 'name' wasSuccessful.\" messages. \n",
    "\n",
    "---"
   ]
  },
  {
   "cell_type": "code",
   "execution_count": 5,
   "id": "d5773a21-aeec-45c0-b41e-23093bded86e",
   "metadata": {},
   "outputs": [
    {
     "name": "stdout",
     "output_type": "stream",
     "text": [
      "Save of 'John Doe2' was successful.\n",
      "Login as 'John Doe2' was successful.\n",
      "{\n",
      "  \"orcid\": \"0000-0000-0000-0001\",\n",
      "  \"name\": \"John Doe2\",\n",
      "  \"uid\": \"6168924b6323bea94a890e82\",\n",
      "  \"position\": \"Postdoc\",\n",
      "  \"email\": \"johndoe2@cript.edu\",\n",
      "  \"last_modified_date\": \"2021-10-14 20:25:47.139764\",\n",
      "  \"class_\": \"User\",\n",
      "  \"created_date\": \"2021-10-14 20:25:47.139764\",\n",
      "  \"model_version\": \"0.0.2\",\n",
      "  \"organization\": \"Mass. Institute of Technology\"\n",
      "}\n"
     ]
    }
   ],
   "source": [
    "# save user node to database\n",
    "db.save(user_node)\n",
    "print(user_node)"
   ]
  },
  {
   "cell_type": "markdown",
   "id": "9c39f38c-d499-4236-a533-6d24c3f46fc8",
   "metadata": {},
   "source": [
    "In the new output of the previous cell, you should now see the a \"uid\" has a 24 charaetor long id. This is your personal id for your user node. Also, during this step you were automatically logged into the CRIPT database which is required for all further CRIPT actions. Also, the created_date, and last_modified_date was automatically added.\n",
    "\n",
    "<span style=\"color:SteelBlue\">You can use this \"uid\" or your email address to login to the CRIPT database in the future (we'll go over this more later).</span> "
   ]
  },
  {
   "cell_type": "markdown",
   "id": "5e9df0c1-f3a7-4654-b694-4b82b7e9d266",
   "metadata": {},
   "source": [
    "---\n",
    "---\n",
    "\n",
    "## <u>Creating or Joining Group nodes</u>\n",
    "\n",
    "Next we will look at joining and creating `Group nodes`. \n",
    "\n",
    "<span style=\"color:SteelBlue\">The `Group node` is something like 'CRIPT Research team', 'Olsen Research Lab', or 'Massachusetts Institute of Technology'. Joining/Creating groups are important as experiments are tied to groups not users. The motivation behind this design choice was that a research lab/group tends to be long term with a continual turnover of scientists, and we didn't want a research groups data to be lost/moved as people move from one lab to another. </span> "
   ]
  },
  {
   "cell_type": "markdown",
   "id": "df846f70-de83-4780-8754-126fc5233db5",
   "metadata": {},
   "source": [
    "---\n",
    "\n",
    "### Creating a group\n",
    "\n",
    "To see what it takes to make a `Group node` we can ask for help: `help(node)`. \n",
    "\n",
    "<span style=\"color:SteelBlue\"> This works for all CRIPT nodes. So its useful to remember this whenever you are making a new node. </span> \n",
    "\n",
    "<u>Action:</u> Run the following cell.\n",
    "\n",
    "<u>Output:</u> You will get a large output of text. Lets digest the important parts of this output:\n",
    "* The first line is: \"__ init __ (name: str, email: str = None, website: str = None, c_owner:...\"\n",
    "    * This shows which parameters we can pass to the group node. (name, email, website, etc.)\n",
    "    * This also shows what Python type is accepted for each parameter. (str, list, float, int, etc.)\n",
    "    * We can also see what parameters are required by looking weather there is a defult parameter (= None) is present or not. \n",
    "        * name: str  ->  required parameter\n",
    "        * email: str = None  ->  not required parameter\n",
    "* The second part that is useful is where we see a list of \":param name\", \":param email\". This provides a short description for each of the parameters.  "
   ]
  },
  {
   "cell_type": "code",
   "execution_count": 6,
   "id": "cc84edd8-11d7-4255-ba37-229d9f18675a",
   "metadata": {},
   "outputs": [
    {
     "name": "stdout",
     "output_type": "stream",
     "text": [
      "Help on function __init__ in module cript.group:\n",
      "\n",
      "__init__(self, name: str, email: str = None, website: str = None, c_owner: list = None, c_collection: list = None, c_group: list = None, c_publication: list = None, c_inventory=None, notes: str = None, **kwargs)\n",
      "    :param name: The name of the group.\n",
      "    :param email: The email address of the group.\n",
      "    \n",
      "    :param website: The website of the group.\n",
      "    \n",
      "    :param c_owner:\n",
      "    :param c_collection: CRIPT collection\n",
      "    :param c_group: CRIPT groups that own this own\n",
      "    \n",
      "    :param notes: Any miscellaneous notes related to the user.\n",
      "    :param _class: class of node.\n",
      "    :param uid: The unique ID of the material.\n",
      "    :param model_version: Version of CRIPT data model.\n",
      "    :param version_control: Link to version control node.\n",
      "    :param last_modified_date: Last date the node was modified.\n",
      "    :param created_date: Date it was created.\n",
      "\n"
     ]
    }
   ],
   "source": [
    "help(C.Group.__init__)"
   ]
  },
  {
   "cell_type": "markdown",
   "id": "a0eb6051-b785-447f-bf72-207adfa3f336",
   "metadata": {},
   "source": [
    "---\n",
    "\n",
    "Now we can see what parameters that are accepted by the `Group node` we can make a new group. Here we will just make a tutorial node, where we will put all this tutorial expermients in.\n",
    "\n",
    "<u>Action:</u> Change the #### to your first name. Then, run the following cell.\n",
    "\n",
    "<u>Output:</u> The output will be small with just the name, model_version, and class of the new group.\n",
    "\n",
    "---"
   ]
  },
  {
   "cell_type": "code",
   "execution_count": 7,
   "id": "d84dcb48-2da1-46b1-b46d-09663a2bd737",
   "metadata": {},
   "outputs": [
    {
     "name": "stdout",
     "output_type": "stream",
     "text": [
      "{\n",
      "  \"name\": \"tutorial_john\",\n",
      "  \"class_\": \"Group\",\n",
      "  \"model_version\": \"0.0.2\"\n",
      "}\n"
     ]
    }
   ],
   "source": [
    "new_group = C.Group(\n",
    "    name=\"tutorial_john\"\n",
    ")\n",
    "print(new_group)"
   ]
  },
  {
   "cell_type": "markdown",
   "id": "707988aa-a9cc-4aac-8cc5-282eba38686e",
   "metadata": {},
   "source": [
    "---\n",
    "\n",
    "We can now save this `Group node` with the same command as used for the `User node`.\n",
    "\n",
    "<u>Action:</u> Run the following cell. \n",
    "\n",
    "<span style=\"color:SteelBlue\"> The `db.save()` will not only save the node, but it will automatically make your `User node` the owner of the node. (Ownership of the node can be transfered later). </span>\n",
    "\n",
    "<u>Output:</u> The output will let you know the group has been saved, then let you know that your user node has been updated. We will also print the two nodes. We can see the 'c_owner' is now filled out with your `User node` referance and we an see the 'c_group' is now filled out with the new `Group node`. \n",
    "\n",
    "<span style=\"color:SteelBlue\"> The 'c_' in front of 'owner' is to signify that this needs to be a CRIPT node referance. This means you need to provide either a 'uid', a CRIPT.node (python class) or a CRIPT.document (python dictionary) to set this value. In some cases, like here it may be set automatically. We will cover this more in detail later. </span>\n",
    "\n",
    "---"
   ]
  },
  {
   "cell_type": "code",
   "execution_count": 8,
   "id": "4f11df50-cf93-436d-a1db-f5a38fa784a0",
   "metadata": {},
   "outputs": [
    {
     "name": "stdout",
     "output_type": "stream",
     "text": [
      "Save of 'tutorial_john' was successful.\n",
      "Update of 'John Doe2' successful!\n",
      "Login as 'John Doe2' was successful.\n",
      "{\n",
      "  \"name\": \"tutorial_john\",\n",
      "  \"uid\": \"616892606323bea94a890e83\",\n",
      "  \"c_owner\": [\n",
      "    {\n",
      "      \"uid\": \"6168924b6323bea94a890e82\",\n",
      "      \"name\": \"John Doe2\",\n",
      "      \"class_\": \"User\"\n",
      "    }\n",
      "  ],\n",
      "  \"last_modified_date\": \"2021-10-14 20:26:08.171761\",\n",
      "  \"class_\": \"Group\",\n",
      "  \"created_date\": \"2021-10-14 20:26:08.171761\",\n",
      "  \"model_version\": \"0.0.2\"\n",
      "}\n",
      "{\n",
      "  \"orcid\": \"0000-0000-0000-0001\",\n",
      "  \"name\": \"John Doe2\",\n",
      "  \"uid\": \"6168924b6323bea94a890e82\",\n",
      "  \"position\": \"Postdoc\",\n",
      "  \"email\": \"johndoe2@cript.edu\",\n",
      "  \"last_modified_date\": \"2021-10-14 20:26:08.234727\",\n",
      "  \"class_\": \"User\",\n",
      "  \"c_group\": [\n",
      "    {\n",
      "      \"uid\": \"616892606323bea94a890e83\",\n",
      "      \"name\": \"tutorial_john\",\n",
      "      \"class_\": \"Group\"\n",
      "    }\n",
      "  ],\n",
      "  \"created_date\": \"2021-10-14 20:25:47.139764\",\n",
      "  \"model_version\": \"0.0.2\",\n",
      "  \"organization\": \"Mass. Institute of Technology\"\n",
      "}\n"
     ]
    }
   ],
   "source": [
    "db.save(new_group)\n",
    "print(new_group)\n",
    "print(user_node)"
   ]
  },
  {
   "cell_type": "markdown",
   "id": "9f0655b4-6b85-4fc6-bf8b-33f696b25dae",
   "metadata": {},
   "source": [
    "---\n",
    "---\n",
    "\n",
    "### Joining an existing group\n",
    "\n",
    "We will join the 'CRIPT_community' group. To do this, we can first view all current groups with the `db.view()`.\n",
    "\n",
    "<span style=\"color:SteelBlue\">`db.view()` is another one of the core CRIPT function. Its used for viewing what's in the database based on a node. You want to pass a generic CRIPT node to the function. In the example below, we want to see `Group nodes`, so we will pass it 'cript.Group'.  </span>\n",
    "\n",
    "<u>Action:</u> Run the following cell.\n",
    "\n",
    "<u>Output:</u> You should see a list of group names and uids. Depending on when you are doing this, there may only be a few groups or many.\n",
    "    \n",
    "---"
   ]
  },
  {
   "cell_type": "code",
   "execution_count": 9,
   "id": "049d5f3b-02c8-4dde-b1a6-9e957edd1cee",
   "metadata": {},
   "outputs": [
    {
     "name": "stdout",
     "output_type": "stream",
     "text": [
      "\n",
      "number  name                          uid                           \n",
      "------------------------------------------------------------\n",
      "0       CRIPT_development_team        614ba2b047d9fae19b8b0d55      \n",
      "1       Mass. Institute of Techno     614ba2b047d9fae19b8b0d56      \n",
      "2       Brad Olsen Research Group     614ba2b047d9fae19b8b0d57      \n",
      "3       Klavs Jensen Research Gro     614ba2b047d9fae19b8b0d58      \n",
      "4       CRIPT_community               614ba2b047d9fae19b8b0d59      \n",
      "5       tutorial_john                 614ba2ce8f5c6989f12629f9      \n",
      "6       tutorial_Haley                615e0631b45e47b4f9bddeb1      \n",
      "7       tutorial_john                 616892606323bea94a890e83      \n",
      "\n"
     ]
    }
   ],
   "source": [
    "# View Existing groups\n",
    "current_groups = db.view(C.Group, {\"scope\": \"all\"})"
   ]
  },
  {
   "cell_type": "markdown",
   "id": "3dd8617a-e133-4b43-98a5-ca28a9671612",
   "metadata": {},
   "source": [
    "<span style=\"color:SteelBlue\"> By defult, `db.view()` will show the first 50 nodes sorted by \"uid\". This may be sufficent for your search, but if its not we can preform many more specific searches. For our example, we will make a custom query. We will search all `Group nodes` specifically looking  for \"CRIPT\" in the parmaeter \"name\". This is a regular expression search. The regular expression search will look for 'CRIPT' to be in any part of a \"name\", middle, end, or begining of the string. This search needs to be written into a dictionary as follow below. We will cover more advance searching in another section.</span>\n",
    "\n",
    "<u>Action:</u> Run the following cell.\n",
    "\n",
    "<u>Output:</u> You should see a list of group names and uids. In this case it will only return `Group nodes` where 'CRIPT' is in the name parameter. We are looking for the \"CRIPT_community\" group.\n"
   ]
  },
  {
   "cell_type": "code",
   "execution_count": 10,
   "id": "4c011a52-6163-4afb-bc93-5bb7725a0e94",
   "metadata": {},
   "outputs": [
    {
     "name": "stdout",
     "output_type": "stream",
     "text": [
      "\n",
      "number  name                          uid                           \n",
      "------------------------------------------------------------\n",
      "0       CRIPT_development_team        614ba2b047d9fae19b8b0d55      \n",
      "1       CRIPT_community               614ba2b047d9fae19b8b0d59      \n",
      "\n"
     ]
    }
   ],
   "source": [
    "query = {\n",
    "    \"scope\": \"all\",     \n",
    "    \"key\": {\"name\": {'$regex': \"CRIPT\"}}\n",
    "}\n",
    "current_groups = db.view(C.Group, query)"
   ]
  },
  {
   "cell_type": "markdown",
   "id": "c51b1b42-397b-49eb-bc7f-5819662ef253",
   "metadata": {},
   "source": [
    "---\n",
    "\n",
    "You should see 'CRIPT_community' in the list. Now that we have found the group we want to join, we can join it by passing it into our `User node`, specifically add it to the 'c_group' parameter. This is done easily since we had our last view be stored in the `current_groups` variable. So we can just pass `current_groups`, with the select the number it was in the list, into `user.node.c_group`. \n",
    "\n",
    "<u>Action:</u> Change the number in the brackets to match the number in the result above that matchs \"CRIPT_community\". Then run the following cell.\n",
    "\n",
    "<u>Output:</u> We will print out your `User node` again, and we can see that the group has been added to 'c_group'. \n"
   ]
  },
  {
   "cell_type": "code",
   "execution_count": 11,
   "id": "770b5053-26aa-48bd-91cb-3301c601d1c2",
   "metadata": {},
   "outputs": [
    {
     "name": "stdout",
     "output_type": "stream",
     "text": [
      "Update of 'John Doe2' successful!\n",
      "{\n",
      "  \"orcid\": \"0000-0000-0000-0001\",\n",
      "  \"name\": \"John Doe2\",\n",
      "  \"uid\": \"6168924b6323bea94a890e82\",\n",
      "  \"position\": \"Postdoc\",\n",
      "  \"email\": \"johndoe2@cript.edu\",\n",
      "  \"last_modified_date\": \"2021-10-14 20:26:27.260644\",\n",
      "  \"class_\": \"User\",\n",
      "  \"c_group\": [\n",
      "    {\n",
      "      \"uid\": \"616892606323bea94a890e83\",\n",
      "      \"name\": \"tutorial_john\",\n",
      "      \"class_\": \"Group\"\n",
      "    },\n",
      "    {\n",
      "      \"uid\": \"614ba2b047d9fae19b8b0d59\",\n",
      "      \"name\": \"CRIPT_community\",\n",
      "      \"class_\": \"Group\"\n",
      "    }\n",
      "  ],\n",
      "  \"created_date\": \"2021-10-14 20:25:47.139764\",\n",
      "  \"model_version\": \"0.0.2\",\n",
      "  \"organization\": \"Mass. Institute of Technology\"\n",
      "}\n"
     ]
    }
   ],
   "source": [
    "user_node.c_group.add(current_groups[1])\n",
    "db.update(user_node)\n",
    "print(user_node)"
   ]
  },
  {
   "cell_type": "markdown",
   "id": "6ea1419b-3156-44d8-baeb-aa19114f25fe",
   "metadata": {},
   "source": [
    "---\n",
    "---\n",
    "\n",
    "## Key Takeaways\n",
    "\n",
    "* You have setup the CRIPT API, confirm you can connect to the database.\n",
    "* You have created your `user node` that you will use for all future project on CRIPT.\n",
    "* You learned the basics of creating nodes and referancing one node from another.\n",
    "* Learned the key database object: `C.CriptDB()`, `db.save()`, `db.view()`, `db.update()`"
   ]
  },
  {
   "cell_type": "markdown",
   "id": "9852caa7-23a8-4689-903f-ca25015ffe0e",
   "metadata": {},
   "source": [
    "---\n",
    "---\n",
    "\n",
    "## What's next?\n",
    "\n",
    "* Part 2: CRIPT_tutorial"
   ]
  },
  {
   "cell_type": "code",
   "execution_count": null,
   "id": "60426048-81de-45e5-a286-b674e0dacbfc",
   "metadata": {},
   "outputs": [],
   "source": []
  }
 ],
 "metadata": {
  "kernelspec": {
   "display_name": "Python 3",
   "language": "python",
   "name": "python3"
  },
  "language_info": {
   "codemirror_mode": {
    "name": "ipython",
    "version": 3
   },
   "file_extension": ".py",
   "mimetype": "text/x-python",
   "name": "python",
   "nbconvert_exporter": "python",
   "pygments_lexer": "ipython3",
   "version": "3.9.5"
  },
  "toc-autonumbering": false
 },
 "nbformat": 4,
 "nbformat_minor": 5
}
