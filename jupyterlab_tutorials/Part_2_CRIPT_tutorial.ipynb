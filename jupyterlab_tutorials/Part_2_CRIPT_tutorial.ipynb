{
 "cells": [
  {
   "cell_type": "markdown",
   "id": "810e06ce-54a8-4d89-a181-d8a73b81cb42",
   "metadata": {},
   "source": [
    "# Part 2: Creating your first Experiment in CRIPT \n",
    "\n",
    "---\n",
    "---\n",
    "If you haven't done part 1 of this tutorial series; do that first as there are some required steps that must be completed before begining this one.\n",
    "\n",
    "\n",
    "Part 2 of this tutorial series will focus on entering our first experiment and all the associated data into the database. We will use the anionic polymerization of styrene with secBuLi as our example.\n",
    "\n",
    "<p style=\"text-align:center;\"><img src=\"https://raw.githubusercontent.com/C-Accel-CRIPT/cript_tutorials/master/supporting_files/pics/P2_polystyrene_synthesis.svg\" alt=\"Polystyrene_synthesis\" width=\"600\" style=\"background-color:white;\" />\n",
    "\n",
    "\n",
    "This example will involve the following steps:\n",
    "    \n",
    "1. Create a `Collection node`\n",
    "2. Create a `Expieriment node`\n",
    "3. Create or find `Material nodes` <br>\n",
    "    a. Create styrene <br>\n",
    "    b. Create secBuLi solution <br>\n",
    "    c. The remaining materials we will find for the tutorial inventory\n",
    "4. Create 'Process node`\n",
    "5. Create 'Data nodes' <br>\n",
    "    a. 1H NMR <br>\n",
    "    b. SEC trace\n",
    "6. Create Polystyrene `Material node`\n",
    "    \n",
    "---\n",
    "By the end of Part 2, your CRIPT data graph will look something like this:\n",
    "\n",
    "    \n",
    "<p style=\"text-align:center;\"><img src=\"https://raw.githubusercontent.com/C-Accel-CRIPT/cript_tutorials/master/supporting_files/pics/P2_node_diagram.svg\" alt=\"Polystyrene_synthesis\" style=\"background-color:white;\" />\n",
    "    "
   ]
  },
  {
   "cell_type": "markdown",
   "id": "7320597d-e481-494b-867c-dbe4d99c8df7",
   "metadata": {},
   "source": [
    "---\n",
    "\n",
    "We will start with the basics: importing 'CRIPT module', and connecting to the CRIPT database. Time we will show an alternative way to import the cript package. This way allows us to drop the 'C.' on all the CRIPT objects which makes for easier typing, but can make it less clear of where objects are coming from. <span style=\"color:SteelBlue\"> (This should be done at the beginning of every program or jupyter notebook.)</span> \n",
    "\n",
    "<u>Action:</u> Replace 'user = ###@###.##' with the email address you used for your `User node` or 'user uid'. Then run the cell. <span style=\"color:gray\">(You can run a cell by either clicking on it and hitting the 'play/run' button in the toolbar or click the cell and hit \"shift\" + \"enter\".)</span>\n",
    "\n",
    "<u>Output:</u> You should see \"Import sucessful!\", \"Connection to database '####' successful.\", \"Login as \"###\" was sucessfully.\" "
   ]
  },
  {
   "cell_type": "code",
   "execution_count": 1,
   "id": "b336f3cc-7ad1-43a1-bad2-8227e9ffc740",
   "metadata": {},
   "outputs": [
    {
     "name": "stdout",
     "output_type": "stream",
     "text": [
      "Import successful!\n",
      "Connection to database 'test' successful.\n",
      "Login as 'John Doe' was successful.\n"
     ]
    }
   ],
   "source": [
    "from cript import *\n",
    "print(\"Import successful!\")\n",
    "\n",
    "# Connect to database\n",
    "db_username = \"Olsen_lab\"\n",
    "db_password = \"Brad_Olsen\"\n",
    "db_project = \"cript_testing\"\n",
    "db_database = \"test\"\n",
    "user = \"johndoe@cript.edu\"  # Put your email or uid here\n",
    "db = CriptDB(db_username, db_password, db_project, db_database, user)"
   ]
  },
  {
   "cell_type": "markdown",
   "id": "2ec2713a-80d1-46c2-a7bb-02bc7fa755c8",
   "metadata": {},
   "source": [
    "<span style=\"color:red\">A word of warning:</span> Don't run this block of code twice. You will get an error that you are trying to make a second connection to the database, which is not allowed. If it does happen, just reset the kernal. "
   ]
  },
  {
   "cell_type": "markdown",
   "id": "675dd4e2-7c97-4be7-935b-203ffc06d274",
   "metadata": {},
   "source": [
    "## <u>Collection Node</u>\n",
    "\n",
    "The first item to create for this example `Collection node`. The `Collection node` is a organizational tool, you can think of it as a 'folder' on your computer. It just a way to group experiments together. \n",
    "\n",
    "For example, if you are going to run a series of kinetic experiments on a reaction, you can group them all in a collection. Another example is, you are creating a libary of polyesters, that can all be grouped into a single collection. Or all the experiments that make up a publication can be grouped into a collection. Also note that you can have collections with collections. An example of that may be you find a new catalyst that can polymerize styrene. You could have a parent collection which holds several other collections child collections with each child collection deticated to a different aspect of the new catalyst reaseach (such as kinetics study, monomer scope, diblock polymer synthesis, etc.). \n",
    "\n",
    "We will create a collection that will hold all the tutorial examples.\n",
    "\n",
    "<u>Action:</u> Run the following cell.\n",
    "\n",
    "<u>Output:</u> Print out of the node. \n",
    "\n",
    "---"
   ]
  },
  {
   "cell_type": "code",
   "execution_count": 2,
   "id": "40df4cbb-db49-4bda-aeb4-72cc355788b3",
   "metadata": {},
   "outputs": [
    {
     "name": "stdout",
     "output_type": "stream",
     "text": [
      "{\n",
      "  \"model_version\": \"0.0.1\",\n",
      "  \"name\": \"Tutorials\",\n",
      "  \"class_\": \"Collection\"\n",
      "}\n"
     ]
    }
   ],
   "source": [
    "collection = Collection(\"Tutorials\")\n",
    "print(collection)"
   ]
  },
  {
   "cell_type": "markdown",
   "id": "393667d6-9217-46e0-a701-b405a2867596",
   "metadata": {},
   "source": [
    "Now that we create the collection we will want to save it and pick a group to own it. So lets view what groups we are apart of again. To do that, we can use the `db.view()` function again and pass it the generic CRIPT `Group node`. This will return just the groups you are apart of. Which at this point should just be two.\n",
    "\n",
    "<u>Action:</u> Run the following cell.\n",
    "\n",
    "<u>Output:</u> You should see two groups in the list. \"tutorial_###\" which is the node you created in part 1 and \"CRIPT_community\" the node you just joined in part 1.\n"
   ]
  },
  {
   "cell_type": "code",
   "execution_count": 3,
   "id": "560a2c78-874b-4e57-ac69-34a15cbe65ec",
   "metadata": {},
   "outputs": [
    {
     "name": "stdout",
     "output_type": "stream",
     "text": [
      "\n",
      "number  name                          uid                           \n",
      "------------------------------------------------------------\n",
      "0       tutorial_john                 614ba2ce8f5c6989f12629f9      \n",
      "1       CRIPT_community               614ba2b047d9fae19b8b0d59      \n",
      "\n"
     ]
    }
   ],
   "source": [
    "groups = db.view(Group)"
   ]
  },
  {
   "cell_type": "markdown",
   "id": "f0b6d338-beb6-4a58-9902-e6f531a49b30",
   "metadata": {},
   "source": [
    "We will put this collection into \"tutorial_####\". To do this, we just need to save the node and pass it the group we want to save it to with it.\n",
    "\n",
    "<span style=\"color:SteelBlue\">In the background it will save the collection and update the group in the database. </span> \n",
    "\n",
    "<u>Action:</u> Change the number in the brackets to select the \"tutorial_####\" group. Then run the following cell.\n",
    "\n",
    "<u>Output:</u> \"Save of 'Anionic Polymerizations' was successful.\" and \"Update of 'tutorial_john' successful!\". We will also see the \"uid\" of the collection node.\n"
   ]
  },
  {
   "cell_type": "code",
   "execution_count": 4,
   "id": "f647dae3-5a1b-4599-a418-529510031aac",
   "metadata": {},
   "outputs": [
    {
     "name": "stdout",
     "output_type": "stream",
     "text": [
      "Save of 'Tutorials' was successful.\n",
      "Update of 'tutorial_john' successful!\n"
     ]
    },
    {
     "data": {
      "text/plain": [
       "'614ba2f0e0a8c92e8daf6ab9'"
      ]
     },
     "execution_count": 4,
     "metadata": {},
     "output_type": "execute_result"
    }
   ],
   "source": [
    "db.save(collection, groups[0])"
   ]
  },
  {
   "cell_type": "markdown",
   "id": "7e4c71c5-5ecc-415a-86ee-aa171f35a9a6",
   "metadata": {},
   "source": [
    "---\n",
    "## <u>Experiment Node</u>\n",
    "\n",
    "Next, lets make our `Experiment node`. The `Experiment node` is just a grouping of `Material nodes`, `Process nodes` and `Data nodes`. You can think of an experiment as a page in the notebook, except it doesn't hold any of the data it just reference the nodes that do. The reason we break out the `Material nodes`, `Process nodes` and `Data nodes` and don't just group them into the `Experiment node` is because a single `Material` may be referenced in multiple experiments and this allows us to just refenence the `Material node` instead of duplicating the data. Additionally, this seperated data model is more flexable to cases where someone makes a material in one experiment and uses it or studies in a different experiment. There is also huge benfits in terms of search perferomance and reduced memory usage, but that's beyond the scope of this tutorial.\n",
    "\n",
    "Let's now create our `Experiment node` for our example.\n",
    "\n",
    "<u>Action:</u> Run the following cell.\n",
    "\n",
    "<u>Output:</u> Print out of the `Experiment node`.\n",
    "\n",
    "---"
   ]
  },
  {
   "cell_type": "code",
   "execution_count": 5,
   "id": "0d949e9c-c7a7-45e1-90df-fe024a95b3c6",
   "metadata": {},
   "outputs": [
    {
     "name": "stdout",
     "output_type": "stream",
     "text": [
      "{\n",
      "  \"model_version\": \"0.0.1\",\n",
      "  \"name\": \"Anionic Polymerization of Styrene with SecBuLi\",\n",
      "  \"class_\": \"Experiment\"\n",
      "}\n"
     ]
    }
   ],
   "source": [
    "expt = Experiment(\"Anionic Polymerization of Styrene with SecBuLi\")\n",
    "print(expt)"
   ]
  },
  {
   "cell_type": "markdown",
   "id": "0774a4f9-b59a-472b-ac78-66bd6aea822d",
   "metadata": {},
   "source": [
    "We now can save the `Experiment` to the `Collection` that we just created.\n",
    "\n",
    "<u>Action:</u> Run the following cell.\n",
    "\n",
    "<u>Output:</u> Print out of the `collection node`.\n"
   ]
  },
  {
   "cell_type": "code",
   "execution_count": 6,
   "id": "630896b5-6090-43d2-812c-585e46aabe80",
   "metadata": {},
   "outputs": [
    {
     "name": "stdout",
     "output_type": "stream",
     "text": [
      "Save of 'Anionic Polymerization of Styrene with SecBuLi' was successful.\n",
      "Update of 'Tutorials' successful!\n",
      "{\n",
      "  \"model_version\": \"0.0.1\",\n",
      "  \"created_date\": \"2021-09-22 21:41:04.709263\",\n",
      "  \"name\": \"Tutorials\",\n",
      "  \"c_experiment\": [\n",
      "    {\n",
      "      \"uid\": \"614ba2f0e0a8c92e8daf6aba\",\n",
      "      \"name\": \"Anionic Polymerization of Styrene with SecBuLi\",\n",
      "      \"class_\": \"Experiment\"\n",
      "    }\n",
      "  ],\n",
      "  \"class_\": \"Collection\",\n",
      "  \"uid\": \"614ba2f0e0a8c92e8daf6ab9\",\n",
      "  \"last_modified_date\": \"2021-09-22 21:41:04.868566\"\n",
      "}\n"
     ]
    }
   ],
   "source": [
    "db.save(expt, collection)\n",
    "print(collection)"
   ]
  },
  {
   "cell_type": "markdown",
   "id": "ade9eabf-24ce-4489-aa41-537173fa06c0",
   "metadata": {},
   "source": [
    "---\n",
    "\n",
    "So far through we have created this node graph. \n",
    "\n",
    "<p style=\"text-align:center;\"><img src=\"https://raw.githubusercontent.com/C-Accel-CRIPT/cript_tutorials/master/supporting_files/pics/P2_node_diagram_user_to_expt.svg\" alt=\"Polystyrene_synthesis\" style=\"background-color:white;\" />\n",
    "\n",
    "\n",
    "Now that we have our orgaization nodes setup, its time to work on the core nodes that store the data.\n"
   ]
  },
  {
   "cell_type": "markdown",
   "id": "96df6c48-7ad4-4b04-9a56-6759115d2ee6",
   "metadata": {},
   "source": [
    "---\n",
    "---\n",
    "\n",
    "## <u>Materal Node</u>\n",
    "\n",
    "The `Material node` contains identity and property data for a chemical. This can be a polymer, a small molecule, or a mixture of multiple components. CRIPT is already prepopulated with the most common small molecules (including some property data). You can of course add a material if it doesn't already exist in the database, or reference an existing material and add new data, or completely copy a whole material and modify it to suit your own requirements. In terms of best practices (for small molecules), using existing materials is always prefered, followed by referencing, and coping as the least prefered method as duplicates of the same material hinders the effectiveness of the database. When it comes to polymers, polymers should aways be treated as a new material as the molecular weight distribution, composition, topolology is never perfectly the same.\n",
    "\n",
    "### Creating a Material Node\n",
    "\n",
    "For our experiment we will go through how to enter styrene into the database. Styrene is already in the database, so we will just setup this `Material node` as an example and not save it. We will then just reference the existing styrene that's in the database.\n",
    "\n",
    "When it comes to creating a `Material node`, we start by using the `help()` to see what data is required and to see what data is optional.\n",
    "\n",
    "<u>Action:</u> Run the following cell.\n",
    "\n",
    "<u>Output:</u> You will get a large output of text. Lets digest the important parts of this output:\n",
    "\n",
    "* The first line is: \"__ init __ (self, iden: 'Union[list[Iden], Iden, list[Material], Material]', name: str = None ...\"\n",
    "    * Here we can see that `iden` is the only required parameter as its the only parameter that doesn't have a '= None'.\n",
    "    * If we look at the description of `iden`, it says to run `help(Iden.__init__)`. This is because `Iden` is a helper node for all a materials idenifiers. \n"
   ]
  },
  {
   "cell_type": "code",
   "execution_count": 7,
   "id": "aa96457b-4d67-4093-bb49-617d21e1349b",
   "metadata": {},
   "outputs": [
    {
     "name": "stdout",
     "output_type": "stream",
     "text": [
      "Help on function __init__ in module cript.material:\n",
      "\n",
      "__init__(self, iden, name: str = None, prop: Union[list[cript.prop.Prop], cript.prop.Prop] = None, c_process=None, c_parent_material=None, keywords: list = None, source: str = None, lot_number: str = None, storage: Union[list[cript.cond.Cond], cript.cond.Cond] = None, hazard: list = None, notes: str = None, **kwargs)\n",
      "    :param iden: See help(Iden.__init__) for details\n",
      "    \n",
      "    :param name: The name of the user. (automatic populated from identifier if not given)\n",
      "    :param prop: properties\n",
      "    :param keywords:\n",
      "    :param source:\n",
      "    :param lot_number:\n",
      "    :param storage:\n",
      "    :param hazard:\n",
      "    \n",
      "    :param notes: Any miscellaneous notes related to the user.\n",
      "    :param _class: class of node.\n",
      "    :param uid: The unique ID of the material.\n",
      "    :param model_version: Version of CRIPT data model.\n",
      "    :param version_control: Link to version control node.\n",
      "    :param last_modified_date: Last date the node was modified.\n",
      "    :param created_date: Date it was created.\n",
      "\n"
     ]
    }
   ],
   "source": [
    "help(Material.__init__)"
   ]
  },
  {
   "cell_type": "markdown",
   "id": "9abe293b-0a67-4f42-b2c9-45abf3cec6f9",
   "metadata": {},
   "source": [
    "\n",
    "<u>Action:</u> Run the following cell.\n",
    "\n",
    "<u>Output:</u> You will get a large output of text. Lets digest the important parts of this output:\n",
    "\n",
    "* The first line is: \"__ init __ (self, ref_material=None, name: str = None, names: list = None...\"\n",
    "    * Here there are no required properties. However, best practice is to enter as much data as you can."
   ]
  },
  {
   "cell_type": "code",
   "execution_count": 8,
   "id": "d8dd71e5-4a07-4cf1-af73-0b306e512ab0",
   "metadata": {},
   "outputs": [
    {
     "name": "stdout",
     "output_type": "stream",
     "text": [
      "Help on function __init__ in module cript.material:\n",
      "\n",
      "__init__(self, ref_material=None, name: str = None, names: list = None, cas: str = None, bigsmiles: str = None, smiles: str = None, chem_formula: str = None, chem_repeat: str = None, pubchem_cid: str = None, inchi: str = None, inchi_key: str = None, mat_id: int = None)\n",
      "    :param name: preferred name\n",
      "    :param names: additional names, abbreviations, short hands for the material\n",
      "    :param cas: CAS number\n",
      "    :param bigsmiles: bigSMILES Line Notation\n",
      "    :param smiles: simplified molecular-input line-entry system\n",
      "    :param chem_formula: chemical formula\n",
      "    :param chem_repeat: chemical formula of repeating unit\n",
      "    :param pubchem_cid: PubChem CID\n",
      "    :param inchi: IUPAC International Chemical Identifier\n",
      "    :param inchi_key: a hashed version of the full InChI\n",
      "\n"
     ]
    }
   ],
   "source": [
    "help(Iden.__init__)"
   ]
  },
  {
   "cell_type": "markdown",
   "id": "4a2117be-9bfb-4921-b31c-4894dafb4cae",
   "metadata": {},
   "source": [
    "---\n",
    "\n",
    "Using the help from the previous outputs, lets now fill out an `Iden helper node` for styrene. Again, best practice here is to fill out as much as you can as this will significant help other find the material when searching.\n",
    "\n",
    "\n",
    "<u>Action:</u> Run the following cell.\n",
    "\n",
    "<u>Output:</u> You will get a printout of the node.\n"
   ]
  },
  {
   "cell_type": "code",
   "execution_count": 9,
   "id": "85683cd7-8394-49fe-aa61-7994330c2784",
   "metadata": {},
   "outputs": [
    {
     "name": "stdout",
     "output_type": "stream",
     "text": [
      "{\n",
      "  \"pubchem_cid\": \"7501\",\n",
      "  \"name\": \"styrene\",\n",
      "  \"cas\": \"100-42-5\",\n",
      "  \"smiles\": \"C=Cc1ccccc1\",\n",
      "  \"chem_formula\": \"C8H8\",\n",
      "  \"inchi_key\": \"PPBRXRYQALVLMV-UHFFFAOYSA-N\",\n",
      "  \"names\": [\n",
      "    \"vinylbenzene\",\n",
      "    \"phenylethylene\",\n",
      "    \"ethenylbenzene\",\n",
      "    \"styrene\"\n",
      "  ]\n",
      "}\n"
     ]
    }
   ],
   "source": [
    "iden = Iden(\n",
    "        name=\"styrene\",\n",
    "        names=[\"vinylbenzene\", \"phenylethylene\", \"ethenylbenzene\"],\n",
    "        chem_formula=\"C8H8\",\n",
    "        smiles=\"C=Cc1ccccc1\",\n",
    "        cas=\"100-42-5\",\n",
    "        pubchem_cid=\"7501\",\n",
    "        inchi_key=\"PPBRXRYQALVLMV-UHFFFAOYSA-N\"\n",
    "    )\n",
    "\n",
    "print(iden)"
   ]
  },
  {
   "cell_type": "markdown",
   "id": "000b8fa5-4d2f-49ef-9431-a7b3e15082f9",
   "metadata": {},
   "source": [
    "Now that we have specified the identifiers, we can pass it into the `Material node`. We will also add one of the offical CRIPT keywords, and reccomended storage condition (more information on these later). \n",
    "\n",
    "<u>Action:</u> Run the following cell.\n",
    "\n",
    "<u>Output:</u> You will get a printout of the node. We can notice that the idenifiers have been succesfully added to the node along with the new data."
   ]
  },
  {
   "cell_type": "code",
   "execution_count": 10,
   "id": "7f1634df-fd2a-4a66-a196-c781fd13d099",
   "metadata": {},
   "outputs": [
    {
     "name": "stdout",
     "output_type": "stream",
     "text": [
      "{\n",
      "  \"model_version\": \"0.0.1\",\n",
      "  \"iden\": [\n",
      "    {\n",
      "      \"pubchem_cid\": \"7501\",\n",
      "      \"name\": \"styrene\",\n",
      "      \"cas\": \"100-42-5\",\n",
      "      \"smiles\": \"C=Cc1ccccc1\",\n",
      "      \"chem_formula\": \"C8H8\",\n",
      "      \"inchi_key\": \"PPBRXRYQALVLMV-UHFFFAOYSA-N\",\n",
      "      \"names\": [\n",
      "        \"vinylbenzene\",\n",
      "        \"phenylethylene\",\n",
      "        \"ethenylbenzene\",\n",
      "        \"styrene\"\n",
      "      ],\n",
      "      \"mat_id\": 1\n",
      "    }\n",
      "  ],\n",
      "  \"name\": \"styrene\",\n",
      "  \"class_\": \"Material\",\n",
      "  \"keywords\": [\n",
      "    \"styrene\"\n",
      "  ],\n",
      "  \"storage\": [\n",
      "    {\n",
      "      \"key\": \"temp\",\n",
      "      \"value\": \"-20 degree_Celsius\"\n",
      "    }\n",
      "  ]\n",
      "}\n"
     ]
    }
   ],
   "source": [
    "mat_styrene = Material(\n",
    "    iden=iden,\n",
    "    keywords=[\"styrene\"],\n",
    "    storage=[\n",
    "        Cond(key=\"temp\", value=-20 * Unit(\"degC\"))\n",
    "    ]\n",
    ")\n",
    "\n",
    "print(mat_styrene)"
   ]
  },
  {
   "cell_type": "markdown",
   "id": "9ae772e2-3991-4399-aaf8-b6468cfedcae",
   "metadata": {},
   "source": [
    "#### <u>Keywords</u>\n",
    "\n",
    "We saw that we can add keywords to the material node, we can view the offically supported keywords with the following code `Material.key_table()`. \n",
    "These keys are an additional tool to aid in seaching, so its reccommended to add them when possible. You can also specify a custom key if the offical keys don't cover your materal. To enter a custom key add a \"+\" plus sign at the front of the key to signify that it's not from the offical list (if you don't add the \"+\" it will raise an error). Example of a custom key: \"+soft_polymer\" or \"+yellow_polymer\".\n",
    "\n",
    "To see the offical list of keys use the `key_table()` call.\n",
    "\n",
    "<u>Action:</u> Run the following cell.\n",
    "\n",
    "<u>Output:</u> A table of offical keys will be printed out with a short description."
   ]
  },
  {
   "cell_type": "code",
   "execution_count": 11,
   "id": "3e8ca627-5072-4fbf-9180-f4d10a58960b",
   "metadata": {},
   "outputs": [
    {
     "name": "stdout",
     "output_type": "stream",
     "text": [
      "key                           description                                                                                                             \n",
      "------------------------------------------------------------------------------------------------------------------------------------------------------\n",
      "thermoset                     a cross-linked polymer                                                                                                  \n",
      "thermoplastic                 a polymer that becomes pliable at elevated temperature adn solidifies upon cooling to room temperature                  \n",
      "semicrystalline               a polymer that does exhibit some crystalline structure                                                                  \n",
      "elastomer                     a cross-linked polymer with a glass transition well below room temperature                                              \n",
      "amorphous                     a polymer that does not exhibit any crystalline structure                                                               \n",
      "homopolymer                   a polymer with a single repeating structure                                                                             \n",
      "copolymer                     a polymer with a two or more repeating structures                                                                       \n",
      "random                        a polymer with a two or more repeating structures are randomly distributed                                              \n",
      "block                         a polymer with a two or more repeating structures are distributed in groups                                             \n",
      "alternating                   a polymer where the composition oscillates between two repeating structures                                             \n",
      "gradient                      a polymer where the composition gradually transitions from one repeating structure into another                         \n",
      "isotactic                     a polymer with all substituent having the same stereoconfiguration                                                      \n",
      "syndiotactic                  a polymer with substituent alternating stereoconfiguration                                                              \n",
      "atactic                       a polymer with substituent having a random distribution of stereoconfiguration                                          \n",
      "regio_regular                 a polymer with one positional isomer; all head-to-tail or tail-to-tail and head-to-head                                 \n",
      "regio_irregular               a polymer with more than one positional isomer; mixture of head-to-tail, tail-to-tail, and head-to-head                 \n",
      "linear                        a polymer with a single line of repeat units                                                                            \n",
      "star                          a polymer with 3 or more arms originating from a single point                                                           \n",
      "ring                          a polymer with no ends or a loop of repeat units                                                                        \n",
      "comb                          a polymer with a main chain with small chains branching off the main chain                                              \n",
      "bottlebrush                   a polymer with a very high density of chains branching off the main linear chain                                        \n",
      "hyperbranch                   a polymer with a very high degree of branches and branches have more branching                                          \n",
      "network                       a polymer with a where a molecular structure percolates through the full macroscopic sample                             \n",
      "conjugated_poly               a polymer with delocalized electrons in the p orbital along the backbone                                                \n",
      "polymer_blend                 a material with two or more composed of two or more polymers                                                            \n",
      "composite                     a material with two or more components                                                                                  \n",
      "polyolefins                   a polymer with [$]CC(R)[$] structure and the locally surrounding is C and H                                             \n",
      "polystyrenes                  a polymer with [$]CC(c1ccccc1)[$] structure                                                                             \n",
      "polyphenylenes                a polymer with [$]c1cccc(c1)[$] structure                                                                               \n",
      "polyvinyls                    a polymer with [$]CC(R)[$] structure and the locally surrounding by elements other than C and H                         \n",
      "polyacrylates                 a polymer with [$]CC(C(=O)O-R)[$] structure                                                                             \n",
      "polymethacrylates             a polymer with [$]CC(C)(C(=O)O-R)[$] structure                                                                          \n",
      "polyvinyl_ethers              a polymer with [$]CC(OR)[$] structure                                                                                   \n",
      "polyvinyl_esters              a polymer with [$]CC(OC(=O)-R)[$] structure                                                                             \n",
      "polyesters                    a polymer with R-C(=O)O-R within the backbone                                                                           \n",
      "polycarbonates                a polymer with R-O-C(=O)O-R within the backbone                                                                         \n",
      "polyethers                    a polymer with R-O-R within the backbone                                                                                \n",
      "polyanydrides                 a polymer with R-C(=O)-O-C(=O)-R within the backbone                                                                    \n",
      "polyketones                   a polymer with R-C(=O)-R with the backbone                                                                              \n",
      "polyamines                    a polymer with R-N(R)-R within the backbone                                                                             \n",
      "polyurethanes                 a polymer with R-N(R)-C(=O)O-R within the backbone                                                                      \n",
      "polyamides                    a polymer with R-C(=O)N(R)-R within the backbone                                                                        \n",
      "polyureas                     a polymer with R-N(R)-C(=O)-N(R)-R within the backbone                                                                  \n",
      "silicones                     a polymer with R-Si(R)(R)-R within the backbone                                                                         \n",
      "polysulfides                  a polymer with R-S-R within the backbone                                                                                \n",
      "polysulfones                  a polymer with R-S(=O)(=O)-R within the backbone                                                                        \n",
      "polysulfoxides                a polymer with R-S(=O)-R within the backbone                                                                            \n",
      "polythiophenes                a polymer with C=C1=CC=CS1 5 member ring within the backbone                                                            \n",
      "polyphosphazenes              a polymer with R-P(R)(R)=N-R within the backbone                                                                        \n",
      "olefin                        a chemical with one double bond and is locally surrounded by only C and H                                               \n",
      "diene                         a chemical with two or more double bonds                                                                                \n",
      "styrene                       a chemical with C=C-(c1ccccc1) structure                                                                                \n",
      "cyclic_olefin                 a chemical where at least one double bond is found in a ring (excluding aromatic rings)                                 \n",
      "acetylene                     a chemical with one or more triple bounds (C≡C)                                                                         \n",
      "vinyl                         a chemical with C=C-R structure and the local surrounding contains elements other than C and H                          \n",
      "vinyl_ether                   a chemical with C=C-O-R structure                                                                                       \n",
      "vinyl_ester                   a chemical with C=C-O-(C=O)-R structure                                                                                 \n",
      "acrylate                      a chemical with C=C-C(=O)O-R structure                                                                                  \n",
      "methylacrylate                a chemical with C=C(C)-C(=O)O-R structure                                                                               \n",
      "lactone                       (cyclic ester) a chemical with R-C(=O)O-R within a ring                                                                 \n",
      "cyclic_ether                  a chemical with R-O-R within a ring                                                                                     \n",
      "cyclic_carbonate              a chemical with R-O-C(=O)O-R within a ring                                                                              \n",
      "cyclic_anhydride              a chemical with R-C(=O)-O-C(=O)-R with a ring (includes N-carboxy anhydrides)                                           \n",
      "oxazoline                     a chemical with a R-N=C(R)-O-R within a five membered ring                                                              \n",
      "lactam                        (cyclic amide) a chemical with R-C(=O)N(R)-R within a ring                                                              \n",
      "cyclic_amine                  a chemical with R-N(R)-R within a ring                                                                                  \n",
      "cyclic_sulfur                 a chemical with R-S-R or R-S(=O)-R within a ring                                                                        \n",
      "thiophene                     a chemical with C=C1=CC=CS1 5 member ring                                                                               \n",
      "phosphoesters                 a chemical with R-O-P(=O)(OR)-O-R within a ring                                                                         \n",
      "phosphonate                   a chemical with R-O-P(=O)(C(R)(R)R)-O-R within a ring                                                                   \n",
      "phostone                      a chemical with R-P(=O)(R)-O-R within a ring                                                                            \n",
      "phosphazenes                  a chemical with R-P(R)(R)=N-R within a ring                                                                             \n",
      "siloxane                      a chemical with R-O-Si(R)(R)-O-R within a ring                                                                          \n",
      "carbosiloxane                 a chemical with R-Si(R)(R)-R within a ring                                                                              \n",
      "diol                          a chemical with two or more -OH groups                                                                                  \n",
      "dicarboxylic_acid             a chemical with two or more -C(=O)OH groups                                                                             \n",
      "diamines                      a chemical with two or more -NH2 groups                                                                                 \n",
      "diacid chloride               a chemical with two or more -COCl groups                                                                                \n",
      "filler                        a substance that is added to resins                                                                                     \n",
      "matrix                        a substance for binding and holding reinforcements together                                                             \n",
      "\n",
      "Add '+' to the front of custom keys.\n"
     ]
    }
   ],
   "source": [
    "Material.key_table()"
   ]
  },
  {
   "cell_type": "markdown",
   "id": "6cc7e345-5333-4c49-8577-92b1bf9ad5ab",
   "metadata": {},
   "source": [
    "#### <u>Conditions</u>\n",
    "\n",
    "We saw that storage used another one of our helper nodes `Cond`. `Cond` is short for condition and is used any time there is a need to specify something about an enviorment. To be more specific we can investigate the `Cond` and the `Cond` keys.  \n",
    "\n",
    "<u>Action:</u> Run the following cell.\n",
    "\n",
    "<u>Output:</u> The `help()` will print out parameters that make up a condition. We can see that both 'key' and 'value' are required. Using the `key_table` function once again we can see a list of offically supported keys along with data type, range, database units, and a short discription."
   ]
  },
  {
   "cell_type": "code",
   "execution_count": 12,
   "id": "9b7b0924-7db5-4827-be99-7cc85511d537",
   "metadata": {},
   "outputs": [
    {
     "name": "stdout",
     "output_type": "stream",
     "text": [
      "Help on function __init__ in module cript.cond:\n",
      "\n",
      "__init__(self, key: str, value, uncer: Union[float, int, pint.quantity.build_quantity_class.<locals>.Quantity] = None, c_data=None, _loading: bool = False)\n",
      "    :param key: Unique key to define what the condition is. See Cond.key_table() for official list.\n",
      "    :param value: numerical, text or material\n",
      "    :param uncer: uncertainty\n",
      "    :param data_uid: Referance to data node.\n",
      "\n",
      "keys            type                  range                    unit        descr                         \n",
      "------------------------------------------------------------------------------------------------------------------------------------------------------\n",
      "time            <class 'pint.quan...  [0, 1.79e+308]           min         Time                          \n",
      "temp            <class 'pint.quan...  [-273.15, 1.79e+308]     degC        Temperature                   \n",
      "pres            <class 'pint.quan...  [0, 1.79e+308]           kPa         Absolute pressure             \n",
      "light_power     <class 'pint.quan...  [0, 1.79e+308]           watt        Light power hitting a surface (Not electrical power)\n",
      "light_power_e   <class 'pint.quan...  [0, 1.79e+308]           watt        Electric power driving the light\n",
      "light_irradiance<class 'pint.quan...  [0, 1.79e+308]           mW/cm**2    Light power per area          \n",
      "light_wlength   <class 'pint.quan...  [0, 1.79e+308]           nm          wave length of light          \n",
      "stirring        <class 'float'>       [0, 1.79e+308]           rpm         rate of stirrer               \n",
      "potential       <class 'pint.quan...  [0, 1.79e+308]           V           electrical potential          \n",
      "solvent         <class 'cript.mat...  []                                   Material relevant to condition\n",
      "atm             <class 'cript.mat...  []                                   Reaction occurred under an inert atmosphere (N2, Ar).\n",
      "\n",
      "Add '+' to the front of custom keys.\n"
     ]
    }
   ],
   "source": [
    "help(Cond.__init__)\n",
    "Cond.key_table()"
   ]
  },
  {
   "cell_type": "markdown",
   "id": "f2983c61-dd1d-4f89-912b-0d49d20bd133",
   "metadata": {},
   "source": [
    "#### <u>Property</u>\n",
    "\n",
    "One additional helper node that we will want to use is `Prop`. `Prop` is short for property, in which CRIPT currently supports three subclasses of properties:\n",
    "* Molecular Properties\n",
    "* Polymer Properties\n",
    "* Reaction Properties.\n",
    "\n",
    "Just like `Cond` lets view are required and optional attributes, and what keywords are accepted. \n",
    "\n",
    "<u>Action:</u> Run the following cell.\n",
    "\n",
    "<u>Output:</u> The `help()` will print out attributes that make up a property. We can see that both 'key' and 'value' are required. Using the `key_table` function once again we can see a list of offically supported keys along with type, range, database units, method, conditions and a short discription.\n"
   ]
  },
  {
   "cell_type": "code",
   "execution_count": 13,
   "id": "7148271e-12e2-4be1-ad15-6d93967f23bd",
   "metadata": {},
   "outputs": [
    {
     "name": "stdout",
     "output_type": "stream",
     "text": [
      "Help on function __init__ in module cript.prop:\n",
      "\n",
      "__init__(self, key: str, value, uncer=None, method: str = None, mat_id: int = 0, component: str = None, c_data=None, cond: Union[list[cript.cond.Cond], cript.cond.Cond] = None, _loading: bool = False)\n",
      "    :param mat_id: mat_id=0 is for bulk (default)\n",
      "    :param key:\n",
      "    :param value:\n",
      "    :param uncer:\n",
      "    :param component:\n",
      "    :param method:\n",
      "    :param c_data:\n",
      "    :param cond:\n",
      "\n",
      "\n",
      "Molecular Properties\n",
      "--------------------\n",
      "keys            type                  range                    unit        method                   cond                  required            descr                         names                         \n",
      "------------------------------------------------------------------------------------------------------------------------------------------------------\n",
      "phase           <class 'str'>         ['gas', 'liquid', 's...  None        ['visual']               ['pres', 'temp']      []                  phase of matter               ['phase of matter']           \n",
      "color           <class 'str'>         [0, 500]                 None        ['visual']               []                    []                  visual appearance of substance[]                            \n",
      "color_RGB       list[float]           [0, 255]                 None        []                       []                    []                  visual appearance of substance on Red-Green-Blue scale[]                            \n",
      "density         <class 'pint.quan...  [0, 23]                  g/ml        []                       ['pres', 'temp']      []                  quantity of mass per unit volume['specific mass']             \n",
      "molar_mass      <class 'pint.quan...  [0, 1.79e+308]           g/mol       ['prescribed']           []                    []                  mass of one mole of a compound; computed from the standard atomic weights and is thus a terrestrial average.[]                            \n",
      "mass_conc       <class 'pint.quan...  [0, 1.79e+308]           g/ml        []                       []                    ['mat_id']          mass of constituent divided by the volume of mixture['concentration']             \n",
      "molar_conc      <class 'pint.quan...  [0, 1.79e+308]           M           []                       []                    ['mat_id']          moles of constituent divided by the volume of mixture['concentration']             \n",
      "number_conc     <class 'pint.quan...  [0, 1.79e+308]           1/ml        []                       []                    ['mat_id']          number of entities of a constituent divided by the volume of mixture['concentration']             \n",
      "vol_conc        <class 'float'>       [0, 1.79e+308]                       []                       []                    ['mat_id']          volume of constituent divided by the volume of mixture['concentration']             \n",
      "bp              <class 'pint.quan...  [0, 1.79e+308]           degC        []                       ['pres']              []                  temperature where a liquid turns into a gas['boiling point', 'boilin...  \n",
      "mp              <class 'pint.quan...  [0, 1.79e+308]           degC        []                       ['pres']              []                  temperature where a solid turns into a liquid['melting point', 'meltin...  \n",
      "ref_index       <class 'float'>       [0, 1.79e+308]                       []                       ['temp']              []                  A dimensionless number that describes how fast light travels through the material.['refractive index']          \n",
      "solubility      <class 'pint.quan...  [0, 1.79e+308]           g/ml        []                       ['temp', 'solvent']   []                  A dimensionless number that describes how fast light travels through the material.['refractive index']          \n",
      "\n",
      "\n",
      "Polymer Properties\n",
      "------------------\n",
      "keys            type                  range                    unit        methods                       cond                  required            descr                         names                         \n",
      "------------------------------------------------------------------------------------------------------------------------------------------------------\n",
      "m_n             <class 'pint.quan...  [0, 1.79e+308]           g/mol       ['nmr', 'sec', 'maldi', 'osmtic_pres'][]                    []                  Average molecular weight on the bases of moles or first moment of the molecular weight distribution.['number average molecula...  \n",
      "m_w             <class 'pint.quan...  [0, 1.79e+308]           g/mol       ['nmr', 'sec', 'maldi', 'ls'] []                    []                  Average molecular weight on the bases of weight.['weight average molecula...  \n",
      "m_z             <class 'pint.quan...  [0, 1.79e+308]           g/mol       ['nmr', 'sec', 'maldi', 'osmtic_pres'][]                    []                  z average molecular weight    ['Z Average Molecular Weight']\n",
      "d               <class 'pint.quan...  [1, 1.79e+308]                       ['nmr', 'sec', 'maldi']       []                    []                  Ratio of weight averaged molecular weight over number average molecular weight.['dispersity', 'pdi', 'po...  \n",
      "m_v             <class 'pint.quan...  [0, 1.79e+308]           g/mol       ['viscometer']                []                    []                  Average molecular weight determined from viscosity['viscosity average molec...  \n",
      "mw_std_dev      <class 'pint.quan...  [0, 1.79e+308]           g/mol       ['nmr', 'sec', 'maldi']       []                    []                  Standard deviation of molecular weight distribution or square root of the second moment of the molecular weight distribution['molecular weight standa...  \n",
      "mw_var          <class 'pint.quan...  [0, 1.79e+308]           g/mol       ['nmr', 'sec', 'maldi']       []                    []                  Variance of molecular weight distribution or the second moment of the molecular weight distribution['molecular weight variance'] \n",
      "mw_skew         <class 'pint.quan...  [0, 1.79e+308]           g/mol       ['nmr', 'sec', 'maldi']       []                    []                  skewness of molecular weight distribution or the third moment of the molecular weight distribution['molecular weight skewness'] \n",
      "mw_kurtosis     <class 'pint.quan...  [0, 1.79e+308]           g/mol       ['nmr', 'sec', 'maldi']       []                    []                  Kurtosis of molecular weight distribution or the fourth moment of the molecular weight distribution['molecular weight kurtosis'] \n",
      "t_m             <class 'pint.quan...  [-273.15, 1.79e+308]     degC        ['dsc']                       []                    []                  The transition temperature where crystal structures are destroyed.['melting temperature']       \n",
      "t_g             <class 'pint.quan...  [-273.15, 1.79e+308]     degC        ['dsc']                       []                    []                  The transition temperature where a substances turns into a glass; vitrification.['glass transition temper...  \n",
      "crys_frac       <class 'float'>       [0, 1.2]                             ['dsc']                       []                    []                  Fraction of crystallinity by weight['fraction crystallinity ...  \n",
      "enth_crys       <class 'pint.quan...  [-1.79e+308, 1.79e+308]  J/mol       ['dsc']                       []                    []                  Enthalpy of crystallization, molar basis['enthalpy of crystalliza...  \n",
      "entr_crys       <class 'pint.quan...  [-1.79e+308, 1.79e+308]  J/mol/K     ['dsc']                       []                    []                  Entropy of crystallization, molar basis['entropy of crystallization']\n",
      "therm_cond      <class 'pint.quan...  [-1.79e+308, 1.79e+308]  W/m/k       []                            []                    []                  Measure of a materials ability to conduct heat['specific thermal conduc...  \n",
      "therm_expand_v  <class 'pint.quan...  [-1.79e+308, 1.79e+308]  1/k         []                            []                    []                  A change in volume in response to a change in temperature (not including phase transitions)['volumetric thermal expa...  \n",
      "therm_expand_l  <class 'pint.quan...  [-1.79e+308, 1.79e+308]  1/k         []                            []                    []                  A change in dimension in response to a change in temperature (not including phase transitions)['linear thermal expansion']  \n",
      "c_p             <class 'pint.quan...  [-1.79e+308, 1.79e+308]  J/mol/K     ['calorimetry', 'dsc']        []                    []                  The amount of heat needed to be supplied to a given mole (based on repeat unit) to produce a change in temperature at constant pressure['molar heat capacity con...  \n",
      "c_v             <class 'pint.quan...  [-1.79e+308, 1.79e+308]  J/mol/K     ['calorimetry', 'dsc']        []                    []                  The amount of heat needed to be supplied to a given mole (based on repeat unit) to produce a change in temperature at constant volume['molar heat capacity con...  \n",
      "therm_diff      <class 'pint.quan...  [-1.79e+308, 1.79e+308]  m**2/s      ['calorimetry', 'dsc']        []                    []                  A measures the rate of transfer of heat of a material from the hot end to the cold end.['thermal diffusivity']       \n",
      "\n",
      "\n",
      "Reaction Properties\n",
      "-------------------\n",
      "keys            type                  range                    unit        method                   cond                  required            descr                         names                         \n",
      "------------------------------------------------------------------------------------------------------------------------------------------------------\n",
      "conv            <class 'float'>       [0, 1.2]                             ['nmr', 'sec']           ['mat_uid']           []                  Conversion; (moles consumed)/(initial moles) = conv[]                            \n",
      "init_eff        <class 'float'>       [0, 1.79e+308]                       ['nmr', 'sec']           []                    []                  Initiator efficiency; The proportion of initiators that result in an active propagating species.[]                            \n",
      "selectivity     <class 'float'>       [0, 1.79e+308]                       ['nmr', 'sec']           []                    ['mat_id']          Selectivity; (final moles)/(moles consumed) = selectivity[]                            \n",
      "yield           <class 'float'>       [0, 1.2]                             ['nmr', 'sec']           []                    ['mat_id']          Yield; (final moles)/(initial moles) = yield[]                            \n",
      "yield_mass      <class 'float'>       [0, 1.79e+308]           g           ['scale']                []                    ['mat_id']          Yield; mass of product recovered = yield_mass[]                            \n",
      "\n"
     ]
    }
   ],
   "source": [
    "help(Prop.__init__)\n",
    "Prop.key_table()"
   ]
  },
  {
   "cell_type": "markdown",
   "id": "22892742-1d1c-4238-8946-ba555d08aaa9",
   "metadata": {},
   "source": [
    "---\n",
    "\n",
    "If we come back to styrene, we can add several properties to complete the construction of the 'material node'.\n",
    "\n",
    "<u>Action:</u> Run the following cell.\n",
    "\n",
    "<u>Output:</u> You will get a printout of the node."
   ]
  },
  {
   "cell_type": "code",
   "execution_count": 14,
   "id": "6e8e25c6-0596-4292-89af-03407543d99f",
   "metadata": {},
   "outputs": [
    {
     "name": "stdout",
     "output_type": "stream",
     "text": [
      "{\n",
      "  \"model_version\": \"0.0.1\",\n",
      "  \"iden\": [\n",
      "    {\n",
      "      \"pubchem_cid\": \"7501\",\n",
      "      \"name\": \"styrene\",\n",
      "      \"cas\": \"100-42-5\",\n",
      "      \"smiles\": \"C=Cc1ccccc1\",\n",
      "      \"chem_formula\": \"C8H8\",\n",
      "      \"inchi_key\": \"PPBRXRYQALVLMV-UHFFFAOYSA-N\",\n",
      "      \"names\": [\n",
      "        \"vinylbenzene\",\n",
      "        \"phenylethylene\",\n",
      "        \"ethenylbenzene\",\n",
      "        \"styrene\"\n",
      "      ],\n",
      "      \"mat_id\": 1\n",
      "    }\n",
      "  ],\n",
      "  \"name\": \"styrene\",\n",
      "  \"class_\": \"Material\",\n",
      "  \"prop\": [\n",
      "    {\n",
      "      \"key\": \"phase\",\n",
      "      \"value\": \"liquid\",\n",
      "      \"mat_id\": 0\n",
      "    },\n",
      "    {\n",
      "      \"key\": \"color\",\n",
      "      \"value\": \"colorless\",\n",
      "      \"mat_id\": 0\n",
      "    },\n",
      "    {\n",
      "      \"key\": \"molar_mass\",\n",
      "      \"method\": \"prescribed\",\n",
      "      \"value\": \"104.15 gram / mole\",\n",
      "      \"mat_id\": 0\n",
      "    },\n",
      "    {\n",
      "      \"key\": \"density\",\n",
      "      \"value\": \"0.906 gram / milliliter\",\n",
      "      \"cond\": [\n",
      "        {\n",
      "          \"key\": \"temp\",\n",
      "          \"value\": \"25 degree_Celsius\"\n",
      "        }\n",
      "      ],\n",
      "      \"mat_id\": 0\n",
      "    },\n",
      "    {\n",
      "      \"key\": \"bp\",\n",
      "      \"value\": \"145 degree_Celsius\",\n",
      "      \"cond\": [\n",
      "        {\n",
      "          \"key\": \"pres\",\n",
      "          \"value\": \"1 standard_atmosphere\"\n",
      "        }\n",
      "      ],\n",
      "      \"mat_id\": 0\n",
      "    },\n",
      "    {\n",
      "      \"key\": \"mp\",\n",
      "      \"value\": \"-30 degree_Celsius\",\n",
      "      \"cond\": [\n",
      "        {\n",
      "          \"key\": \"pres\",\n",
      "          \"value\": \"1 bar\"\n",
      "        }\n",
      "      ],\n",
      "      \"mat_id\": 0\n",
      "    }\n",
      "  ],\n",
      "  \"keywords\": [\n",
      "    \"styrene\"\n",
      "  ],\n",
      "  \"storage\": [\n",
      "    {\n",
      "      \"key\": \"temp\",\n",
      "      \"value\": \"-20 degree_Celsius\"\n",
      "    }\n",
      "  ]\n",
      "}\n"
     ]
    }
   ],
   "source": [
    "mat_styrene.prop = [\n",
    "    Prop(key=\"phase\", value=\"liquid\"),\n",
    "    Prop(key=\"color\", value=\"colorless\"),\n",
    "    Prop(key=\"molar_mass\", value=104.15 * Unit(\"g/mol\"), method=\"prescribed\"),\n",
    "    Prop(key=\"density\", value=0.906 * Unit(\"g/ml\"), cond=[Cond(key=\"temp\", value=25 * Unit(\"degC\"))]),\n",
    "    Prop(key=\"bp\", value=145 * Unit(\"degC\"), cond=[Cond(key=\"pres\", value=1 * Unit(\"atm\"))]),\n",
    "    Prop(key=\"mp\", value=-30 * Unit(\"degC\"), cond=[Cond(key=\"pres\", value=1 * Unit(\"bar\"))])\n",
    "]\n",
    "\n",
    "print(mat_styrene)"
   ]
  },
  {
   "cell_type": "markdown",
   "id": "6c8a6117-f6d1-403b-95e2-8e032a5751be",
   "metadata": {},
   "source": [
    "With that, we have completed the construction of the styrene `Material Node`! That was alot of information to take in. So let me do some wrapping up disscusion on this. First we create material identifers, then we passed then into the `Material Node`, and finished by adding the properties. We broke it into these steps to help communicate the process of creating a `Material Node`, however it can be more sinsincly done in one step, as shown below. The last step is to save this material; but as I mentioned before styrene is already in the database. So we will use that styrene node instead."
   ]
  },
  {
   "cell_type": "code",
   "execution_count": 15,
   "id": "d7199e0a-5282-4bc2-aebc-fcdee164df2c",
   "metadata": {},
   "outputs": [],
   "source": [
    "# mat_styrene = Material(\n",
    "#     iden = Iden(\n",
    "#         name=\"styrene\",\n",
    "#         names=[\"vinylbenzene\", \"phenylethylene\", \"ethenylbenzene\"],\n",
    "#         chem_formula=\"C8H8\",\n",
    "#         smiles=\"C=Cc1ccccc1\",\n",
    "#         cas=\"100-42-5\",\n",
    "#         pubchem_cid=\"7501\",\n",
    "#         inchi_key=\"PPBRXRYQALVLMV-UHFFFAOYSA-N\"\n",
    "#     ),\n",
    "#     prop = [\n",
    "#         Prop(\"phase\", \"liquid\"),\n",
    "#         Prop(\"color\", \"colorless\"),\n",
    "#         Prop(\"molar_mass\", value=104.15 * Unit(\"g/mol\"), method=\"prescribed\"),\n",
    "#         Prop(\"density\", value=0.906 * Unit(\"g/ml\"), cond=[Cond(\"temp\", 25 * Unit(\"degC\"))]),\n",
    "#         Prop(\"bp\", 145 * Unit(\"degC\"), cond=[Cond(\"pres\", 1 * Unit(\"atm\"))]),\n",
    "#         Prop(\"mp\", -30 * Unit(\"degC\"), cond=[Cond(\"pres\", 1 * Unit(\"bar\"))])\n",
    "#     ],\n",
    "#     keywords=[\"styrene\"],\n",
    "#     storage=[Cond(\"temp\", -20 * Unit(\"degC\"))]\n",
    "# )\n",
    "\n",
    "# db.save(mat_styrene, expt)\n",
    "# print(mat_styrene)"
   ]
  },
  {
   "cell_type": "markdown",
   "id": "53d46cc3-16d5-41c3-b738-15cf5e6378da",
   "metadata": {},
   "source": [
    "---\n",
    "\n",
    "### <u>Inventory Node</u>\n",
    "\n",
    "THe `Inventory Node` is a collection of `Material Nodes`. This can represent a whole labs inventory of chemicals, or just a small list of specific chemicals (for exmple ROP monomers). They are very useful as an orgniational tool, and they to can reduce the time it takes to write up an experiment.  \n",
    "\n",
    "To demonstrate the utility of the `Inventory Node`, we will use it here to get all the `Material Nodes` we need for this tutorial. An `Inventory` with all the materials for this tutorial was already created and can be found in the 'CRIPT_community'. Since we joined the 'CRIPT_community' we can just use `db.view()` to retrieve the inventory.    \n",
    "\n",
    "<u>Action:</u> Run the following cell.\n",
    "\n",
    "<u>Output:</u> The print out attributes should show multiple materials in the 'c_material' section. We will then reference these materials in the `Process Node` section.\n"
   ]
  },
  {
   "cell_type": "code",
   "execution_count": 16,
   "id": "13e0eb81-f255-45d3-a9bd-d00227e9b5a4",
   "metadata": {},
   "outputs": [
    {
     "name": "stdout",
     "output_type": "stream",
     "text": [
      "\n",
      "number  key                           name                          uid                           \n",
      "------------------------------------------------------------\n",
      "0       .CRIPT_community              Tutorial Materials            614ba2b047d9fae19b8b0d5c      \n",
      "\n",
      "{\n",
      "  \"model_version\": \"0.0.1\",\n",
      "  \"created_date\": \"2021-09-22 21:40:00.647000\",\n",
      "  \"c_material\": [\n",
      "    {\n",
      "      \"uid\": \"614ba2b047d9fae19b8b0d5d\",\n",
      "      \"name\": \"water\",\n",
      "      \"class_\": \"Material\"\n",
      "    },\n",
      "    {\n",
      "      \"uid\": \"614ba2b047d9fae19b8b0d5e\",\n",
      "      \"name\": \"deuterated chloroform\",\n",
      "      \"class_\": \"Material\"\n",
      "    },\n",
      "    {\n",
      "      \"uid\": \"614ba2b047d9fae19b8b0d5f\",\n",
      "      \"name\": \"nitrogen\",\n",
      "      \"class_\": \"Material\"\n",
      "    },\n",
      "    {\n",
      "      \"uid\": \"614ba2b047d9fae19b8b0d60\",\n",
      "      \"name\": \"argon\",\n",
      "      \"class_\": \"Material\"\n",
      "    },\n",
      "    {\n",
      "      \"uid\": \"614ba2b147d9fae19b8b0d61\",\n",
      "      \"name\": \"styrene\",\n",
      "      \"class_\": \"Material\"\n",
      "    },\n",
      "    {\n",
      "      \"uid\": \"614ba2b147d9fae19b8b0d62\",\n",
      "      \"name\": \"toluene\",\n",
      "      \"class_\": \"Material\"\n",
      "    },\n",
      "    {\n",
      "      \"uid\": \"614ba2b147d9fae19b8b0d63\",\n",
      "      \"name\": \"tetrahydrofuran\",\n",
      "      \"class_\": \"Material\"\n",
      "    },\n",
      "    {\n",
      "      \"uid\": \"614ba2b147d9fae19b8b0d64\",\n",
      "      \"name\": \"1-butanol\",\n",
      "      \"class_\": \"Material\"\n",
      "    },\n",
      "    {\n",
      "      \"uid\": \"614ba2b147d9fae19b8b0d65\",\n",
      "      \"name\": \"methanol\",\n",
      "      \"class_\": \"Material\"\n",
      "    },\n",
      "    {\n",
      "      \"uid\": \"614ba2b147d9fae19b8b0d66\",\n",
      "      \"name\": \"cyclohexane\",\n",
      "      \"class_\": \"Material\"\n",
      "    },\n",
      "    {\n",
      "      \"uid\": \"614ba2b147d9fae19b8b0d67\",\n",
      "      \"name\": \"sec-butyllithium\",\n",
      "      \"class_\": \"Material\"\n",
      "    },\n",
      "    {\n",
      "      \"uid\": \"614ba2b147d9fae19b8b0d68\",\n",
      "      \"name\": \"SecBuLi solution 1.4M cHex\",\n",
      "      \"class_\": \"Material\"\n",
      "    }\n",
      "  ],\n",
      "  \"name\": \"Tutorial Materials\",\n",
      "  \"class_\": \"Inventory\",\n",
      "  \"uid\": \"614ba2b047d9fae19b8b0d5c\",\n",
      "  \"last_modified_date\": \"2021-09-22 21:40:00.647000\"\n",
      "}\n"
     ]
    }
   ],
   "source": [
    "inv_doc = db.view(Inventory)\n",
    "inv = load(inv_doc[0]) # You may need to change the index if .CRIPT_community is not the first one \n",
    "print(inv)"
   ]
  },
  {
   "cell_type": "markdown",
   "id": "b8a026b3-2732-447c-81d8-a162a25eb5db",
   "metadata": {},
   "source": [
    "---\n",
    "\n",
    "### <u>Process Node</u>\n",
    "\n",
    "The `process node` contains the ingredients, quantities, and procedure information for a given process. A process can be anything from a reaction to a material processing step. \n",
    "\n",
    "Just like with other nodes lets view what are the required and optional attributes, and what keywords are accepted. \n",
    "\n",
    "<u>Action:</u> Run the following cell.\n",
    "\n",
    "<u>Output:</u> The `help()` will print out attributes that make up a process. We can see that both 'name', 'ingr', 'procedure' are required. Using the `key_table` function once again we can see a list of offically supported keys along with  a short discription."
   ]
  },
  {
   "cell_type": "code",
   "execution_count": 17,
   "id": "ba3a9f2d-b4d5-484d-8bc3-a84c78409d3e",
   "metadata": {},
   "outputs": [
    {
     "name": "stdout",
     "output_type": "stream",
     "text": [
      "Help on function __init__ in module cript.process:\n",
      "\n",
      "__init__(self, name: str, ingr, procedure: str, cond: list = None, prop: list = None, keywords: list = None, notes: str = None, **kwargs)\n",
      "    :param name: The user-defined name for the process.\n",
      "    :param ingr: See help(Ingr.__init__)\n",
      "    :param procedure: Text write up of procedure\n",
      "    :param cond: Condition. See help(Cond.__init__) and Cond.key_table()\n",
      "    :param prop: Property. See help(Prop.__init__) and Prop.key_table()\n",
      "    :param keywords: See Process.key_table()\n",
      "    :param notes: Any miscellaneous notes related to the user.\n",
      "    \n",
      "    :param _class: class of node.\n",
      "    :param uid: The unique ID of the material.\n",
      "    :param model_version: Version of CRIPT data model.\n",
      "    :param version_control: Link to version control node.\n",
      "    :param last_modified_date: Last date the node was modified.\n",
      "    :param created_date: Date it was created.\n",
      "\n",
      "key                           description                                                                                                             \n",
      "------------------------------------------------------------------------------------------------------------------------------------------------------\n",
      "polymerization                a chemical reaction that convert monomer(s) to a polymer                                                                \n",
      "kinetics                      an experiment were multiple data points are take over a span of time                                                    \n",
      "chain_growth                  chain growth polymerization                                                                                             \n",
      "step_growth                   step-growth polymerization                                                                                              \n",
      "post_poly_mod                 a chemical reaction preformed on a polymer to modify the chemical functionality                                         \n",
      "living_poly                   living polymerization                                                                                                   \n",
      "controlled_poly               a polymerization that produce narrowly dispersed polymers (Ð<1.2)                                                       \n",
      "immortal_poly                 a polymerization where chain transfer reaction and termination is reversible                                            \n",
      "radical_poly                  Free radical polymerization                                                                                             \n",
      "rop                           ring-opening polymerization (excluding ROMP)                                                                            \n",
      "romp                          ring-opening metathesis polymerization                                                                                  \n",
      "atrp                          atom transfer radical polymerization                                                                                    \n",
      "nmp                           nitroxide-mediated radical polymerization                                                                               \n",
      "raft                          reversible addition−fragmentation chain-transfer polymerization                                                         \n",
      "anionic                       anionic addition polymerization                                                                                         \n",
      "cationic                      cationic polymerization                                                                                                 \n",
      "insertion                     coordination insertion polymerization                                                                                   \n",
      "lewis-pairs                   a polymerization that employs a Lewis acid and a Lewis base to activate/initiate the polymerization                     \n",
      "group-transfer                a polymerization that proceeds through the repetitive Michael addition                                                  \n",
      "bulk                          bulk polymerization                                                                                                     \n",
      "emulsion                      emulsion polymerization                                                                                                 \n",
      "suspension                    suspension polymerization                                                                                               \n",
      "solution                      solution polymerization                                                                                                 \n",
      "interfacial                   interfacial polymerization                                                                                              \n",
      "reactive_processing                                                                                                                                   \n",
      "extrusion                                                                                                                                             \n",
      "blow_molding                                                                                                                                          \n",
      "self_assembly                                                                                                                                         \n",
      "curing                                                                                                                                                \n",
      "forming                                                                                                                                               \n",
      "coating                                                                                                                                               \n",
      "annealing                                                                                                                                             \n",
      "sol_annealing                                                                                                                                         \n",
      "\n",
      "Add '+' to the front of custom keys.\n"
     ]
    }
   ],
   "source": [
    "help(Process.__init__)\n",
    "Process.key_table()"
   ]
  },
  {
   "cell_type": "markdown",
   "id": "e2cefc1e-8e2a-434e-9646-09b3416fa8ad",
   "metadata": {},
   "source": [
    "The process for our example, is the anionic polymerization of styrene.\n",
    "\n",
    "<u>Action:</u> Run the following cell.\n",
    "\n",
    "<u>Output:</u> Print out of the process node."
   ]
  },
  {
   "cell_type": "code",
   "execution_count": 18,
   "id": "d8680dcf-8052-4c80-ba26-796591767595",
   "metadata": {},
   "outputs": [
    {
     "name": "stdout",
     "output_type": "stream",
     "text": [
      "{\n",
      "  \"model_version\": \"0.0.1\",\n",
      "  \"ingr\": [\n",
      "    {\n",
      "      \"uid\": \"614ba2b147d9fae19b8b0d68\",\n",
      "      \"name\": \"SecBuLi solution 1.4M cHex\",\n",
      "      \"class_\": \"Material\",\n",
      "      \"keyword\": \"initiator\",\n",
      "      \"mat_id\": 2,\n",
      "      \"volume\": \"0.017 milliliter\",\n",
      "      \"mole\": \"0.0238 millimole\"\n",
      "    },\n",
      "    {\n",
      "      \"uid\": \"614ba2b147d9fae19b8b0d62\",\n",
      "      \"name\": \"toluene\",\n",
      "      \"class_\": \"Material\",\n",
      "      \"keyword\": \"solvent\",\n",
      "      \"mass\": \"8.7 gram\",\n",
      "      \"volume\": \"10 milliliter\",\n",
      "      \"mole\": \"94.42050770015518 millimole\"\n",
      "    },\n",
      "    {\n",
      "      \"uid\": \"614ba2b147d9fae19b8b0d61\",\n",
      "      \"name\": \"styrene\",\n",
      "      \"class_\": \"Material\",\n",
      "      \"keyword\": \"monomer\",\n",
      "      \"mass\": \"0.455 gram\",\n",
      "      \"volume\": \"0.5022075055187638 milliliter\",\n",
      "      \"mole\": \"4.368698991838694 millimole\"\n",
      "    },\n",
      "    {\n",
      "      \"uid\": \"614ba2b147d9fae19b8b0d64\",\n",
      "      \"name\": \"1-butanol\",\n",
      "      \"class_\": \"Material\",\n",
      "      \"keyword\": \"quench\",\n",
      "      \"mass\": \"0.008820637000000001 gram\",\n",
      "      \"volume\": \"0.010889675308641976 milliliter\",\n",
      "      \"mole\": \"0.11900000000000001 millimole\"\n",
      "    },\n",
      "    {\n",
      "      \"uid\": \"614ba2b147d9fae19b8b0d65\",\n",
      "      \"name\": \"methanol\",\n",
      "      \"class_\": \"Material\",\n",
      "      \"keyword\": \"workup\",\n",
      "      \"mass\": \"79.2 gram\",\n",
      "      \"volume\": \"100 milliliter\",\n",
      "      \"mole\": \"2471.910112359551 millimole\"\n",
      "    }\n",
      "  ],\n",
      "  \"name\": \"Anionic of Styrene\",\n",
      "  \"procedure\": \"In an argon filled glovebox, a round bottom flask was filled with 216 ml of dried toluene. The solution of secBuLi (3 ml, 3.9 mmol) was added next, followed by styrene (22.3 g, 176 mmol) to initiate the polymerization. The reaction mixture immediately turned orange. After 30 min, the reaction was quenched with the addition of 3 ml of methanol. The polymer was isolated by precipitation in methanol 3 times and dried under vacuum.\",\n",
      "  \"class_\": \"Process\",\n",
      "  \"prop\": [\n",
      "    {\n",
      "      \"uncer\": \"0.02 gram\",\n",
      "      \"key\": \"yield_mass\",\n",
      "      \"method\": \"scale\",\n",
      "      \"value\": \"0.47 gram\",\n",
      "      \"mat_id\": 0\n",
      "    }\n",
      "  ],\n",
      "  \"cond\": [\n",
      "    {\n",
      "      \"key\": \"temp\",\n",
      "      \"value\": \"25 degree_Celsius\"\n",
      "    },\n",
      "    {\n",
      "      \"key\": \"time\",\n",
      "      \"value\": \"60 minute\"\n",
      "    },\n",
      "    {\n",
      "      \"key\": \"atm\",\n",
      "      \"value\": {\n",
      "        \"uid\": \"614ba2b047d9fae19b8b0d60\",\n",
      "        \"name\": \"argon\",\n",
      "        \"class_\": \"Material\"\n",
      "      }\n",
      "    }\n",
      "  ],\n",
      "  \"keywords\": [\n",
      "    \"polymerization\",\n",
      "    \"living_poly\",\n",
      "    \"anionic\",\n",
      "    \"solution\"\n",
      "  ]\n",
      "}\n"
     ]
    },
    {
     "name": "stderr",
     "output_type": "stream",
     "text": [
      "Warning: Perfect match not found for '1BuOH', but close match found: '1-butanol' and used.\n",
      "Warning: Perfect match not found for 'Argon', but close match found: 'argon' and used.\n",
      "Warning: Default density used for 'SecBuLi solution 1.4M cHex' when calculating mass fraction.\n"
     ]
    }
   ],
   "source": [
    "rxn = Process(\n",
    "    name=\"Anionic of Styrene\",\n",
    "    ingr=[\n",
    "        [inv.get(\"SecBuLi solution 1.4M cHex\"), 0.017 * Unit(\"ml\"), \"initiator\", {\"mat_id\": \"secBuLi\"}],\n",
    "        [inv.get(\"toluene\"), 10 * Unit(\"ml\"), \"solvent\"],\n",
    "        [inv.get(\"styrene\"), 0.455 * Unit(\"g\"), \"monomer\"],\n",
    "        [inv.get(\"1BuOH\"), 5, \"quench\", {\"eq_mat\": \"SecBuLi solution\"}],\n",
    "        [inv.get(\"MeOH\"), 100 * Unit(\"ml\"), \"workup\"]\n",
    "    ],\n",
    "    procedure=\"In an argon filled glovebox, a round bottom flask was filled with 216 ml of dried toluene. The \"\n",
    "              \"solution of secBuLi (3 ml, 3.9 mmol) was added next, followed by styrene (22.3 g, 176 mmol) to \"\n",
    "              \"initiate the polymerization. The reaction mixture immediately turned orange. After 30 min, \"\n",
    "              \"the reaction was quenched with the addition of 3 ml of methanol. The polymer was isolated by \"\n",
    "              \"precipitation in methanol 3 times and dried under vacuum.\",\n",
    "    cond=[\n",
    "        Cond(\"temp\", 25 * Unit(\"degC\")),\n",
    "        Cond(\"time\", 60 * Unit(\"min\")),\n",
    "        Cond(key=\"atm\", value=inv.get(\"Argon\"))\n",
    "    ],\n",
    "    prop=[\n",
    "        Prop(\"yield_mass\", 0.47 * Unit(\"g\"), 0.02 * Unit(\"g\"), method=\"scale\")\n",
    "    ],\n",
    "    keywords=[\"polymerization\", \"living_poly\", \"anionic\", \"solution\"]\n",
    ")\n",
    "\n",
    "print(rxn)"
   ]
  },
  {
   "cell_type": "markdown",
   "id": "ba16f2af-4e94-45dc-a2c1-e8f9d3fac020",
   "metadata": {},
   "source": [
    "One key thing you might note in the previous out put is there are additional quatnities calculate for some of the ingredients. The CRIPT API has imbeded an auto-calculate tool. When it pass a material into the `Process Node` it will look for properties in the `Material Node` like 'molar_mass', 'density', and 'molar_conc'. With the provided quantity for the ingredient and these other properties, it can complete the remaining calculations for us.\n",
    "\n",
    "We can also view a nicer output of the ingredients.\n",
    "\n",
    "<u>Action:</u> Run the following cell.\n",
    "\n",
    "<u>Output:</u> Table of ingredients."
   ]
  },
  {
   "cell_type": "code",
   "execution_count": 19,
   "id": "b840b507-c14d-4ab7-a9db-b71d17774b27",
   "metadata": {},
   "outputs": [
    {
     "name": "stdout",
     "output_type": "stream",
     "text": [
      "#  name        volume      mole        mass        molarity    equivalence mass_fract  density     molar_mass  molar_conc  uid         class_      phase       mat_id      keyword     \n",
      "               (ml)        (mmole)     (g)         (M)                                 (g/ml)      (g/mol)     (M)                                                                     \n",
      "------------------------------------------------------------------------------------------------------------------------------------------------------------------------------------------------\n",
      "0  SecBuLi so  0.017       0.0238      ---         0.00226     1           ---         0.769       ---         1.4         614ba2b147  Material    solution    2           initiator   \n",
      "1  toluene     10          94.4        8.7         8.98        3970        0.949       0.87        92.1        ---         614ba2b147  Material    liquid      ---         solvent     \n",
      "2  styrene     0.502       4.37        0.455       0.415       184         0.0496      0.906       104         ---         614ba2b147  Material    liquid      ---         monomer     \n",
      "3  1-butanol   0.0109      0.119       0.00882     ---         5           ---         0.81        74.1        ---         614ba2b147  Material    liquid      ---         quench      \n",
      "4  methanol    100         2470        79.2        ---         104000      ---         0.792       32          ---         614ba2b147  Material    liquid      ---         workup      \n",
      "\n",
      "\n"
     ]
    }
   ],
   "source": [
    "print(rxn.ingr)"
   ]
  },
  {
   "cell_type": "markdown",
   "id": "64598e08-b929-4226-be3d-0ad296d8ee8b",
   "metadata": {},
   "source": [
    "We can also increase the value of a single ingredient, and the API will re-calcuate everything automatically.\n",
    "\n",
    "<u>Action:</u> Run the following cell.\n",
    "\n",
    "<u>Output:</u> Table of ingredients."
   ]
  },
  {
   "cell_type": "code",
   "execution_count": 20,
   "id": "20844c8b-6e56-48de-9884-b9ff73217dca",
   "metadata": {},
   "outputs": [
    {
     "name": "stdout",
     "output_type": "stream",
     "text": [
      "#  name        volume      mole        mass        molarity    equivalence mass_fract  density     molar_mass  molar_conc  uid         class_      phase       mat_id      keyword     \n",
      "               (ml)        (mmole)     (g)         (M)                                 (g/ml)      (g/mol)     (M)                                                                     \n",
      "------------------------------------------------------------------------------------------------------------------------------------------------------------------------------------------------\n",
      "0  SecBuLi so  0.017       0.0238      ---         0.00216     1           ---         0.769       ---         1.4         614ba2b147  Material    solution    2           initiator   \n",
      "1  toluene     10          94.4        8.7         8.57        3970        0.904       0.87        92.1        ---         614ba2b147  Material    liquid      ---         solvent     \n",
      "2  styrene     1           8.74        0.91        0.793       367         0.0945      0.906       104         ---         614ba2b147  Material    liquid      ---         monomer     \n",
      "3  1-butanol   0.0109      0.119       0.00882     ---         5           ---         0.81        74.1        ---         614ba2b147  Material    liquid      ---         quench      \n",
      "4  methanol    100         2470        79.2        ---         104000      ---         0.792       32          ---         614ba2b147  Material    liquid      ---         workup      \n",
      "\n",
      "\n"
     ]
    }
   ],
   "source": [
    "rxn.ingr.scale_one(\"styrene\", 2)\n",
    "print(rxn.ingr)"
   ]
  },
  {
   "cell_type": "markdown",
   "id": "f74135ca-5727-42f5-a4bf-ce3e554ad7d8",
   "metadata": {},
   "source": [
    "Alternatively, we can the re-scale the whole reaction, and once again the API will re-calcuate everything automatically.\n",
    "\n",
    "<u>Action:</u> Run the following cell.\n",
    "\n",
    "<u>Output:</u> Table of ingredients."
   ]
  },
  {
   "cell_type": "code",
   "execution_count": 21,
   "id": "c30f65d5-78bd-49bb-b4b2-8bc715071d64",
   "metadata": {},
   "outputs": [
    {
     "name": "stdout",
     "output_type": "stream",
     "text": [
      "#  name        volume      mole        mass        molarity    equivalence mass_fract  density     molar_mass  molar_conc  uid         class_      phase       mat_id      keyword     \n",
      "               (ml)        (mmole)     (g)         (M)                                 (g/ml)      (g/mol)     (M)                                                                     \n",
      "------------------------------------------------------------------------------------------------------------------------------------------------------------------------------------------------\n",
      "0  SecBuLi so  0.0085      0.0119      ---         0.00216     1           ---         0.769       ---         1.4         614ba2b147  Material    solution    2           initiator   \n",
      "1  toluene     5           47.2        4.35        8.57        3970        0.904       0.87        92.1        ---         614ba2b147  Material    liquid      ---         solvent     \n",
      "2  styrene     0.502       4.37        0.455       0.793       367         0.0945      0.906       104         ---         614ba2b147  Material    liquid      ---         monomer     \n",
      "3  1-butanol   0.00544     0.0595      0.00441     ---         5           ---         0.81        74.1        ---         614ba2b147  Material    liquid      ---         quench      \n",
      "4  methanol    50          1240        39.6        ---         104000      ---         0.792       32          ---         614ba2b147  Material    liquid      ---         workup      \n",
      "\n",
      "\n"
     ]
    }
   ],
   "source": [
    "rxn.ingr.scale(0.5)\n",
    "print(rxn.ingr)"
   ]
  },
  {
   "cell_type": "markdown",
   "id": "b7f06084-6df1-4497-a358-bfd6b1743352",
   "metadata": {},
   "source": [
    "The last thing we want to do with the `Process Node` is save it. One nice feature of the API is when we save the node, it will also add all the `Material Nodes` that aren't part of the `Experiment Node` for us.\n",
    "\n",
    "<u>Action:</u> Run the following cell.\n",
    "\n",
    "<u>Output:</u> \n",
    "* The first line \"Save of 'Anionic of Styrene' was successful.\" says that the `Process Node` was saved.\n",
    "* The next few lines show what `Material Nodes` were added to the `Experiment Node` since they weren't already present.\n",
    "* The last text line \"Update of 'Anionic Polymerization of Styrene with SecBuLi' successful!\" says that the updates to the `Experiment Node` have been save to the database.\n",
    "* We can also see the printout of the `Experiment node` now has the `Materials` and `Process` added to it."
   ]
  },
  {
   "cell_type": "code",
   "execution_count": 22,
   "id": "56a134ef-70d4-4f1d-98ba-cdf6e8e4271d",
   "metadata": {},
   "outputs": [
    {
     "name": "stdout",
     "output_type": "stream",
     "text": [
      "Save of 'Anionic of Styrene' was successful.\n",
      "SecBuLi solution 1.4M cHex was add to Anionic Polymerization of Styrene with SecBuLi\n",
      "toluene was add to Anionic Polymerization of Styrene with SecBuLi\n",
      "styrene was add to Anionic Polymerization of Styrene with SecBuLi\n",
      "1-butanol was add to Anionic Polymerization of Styrene with SecBuLi\n",
      "methanol was add to Anionic Polymerization of Styrene with SecBuLi\n",
      "Update of 'Anionic Polymerization of Styrene with SecBuLi' successful!\n",
      "{\n",
      "  \"model_version\": \"0.0.1\",\n",
      "  \"c_process\": [\n",
      "    {\n",
      "      \"uid\": \"614ba2f1e0a8c92e8daf6abb\",\n",
      "      \"name\": \"Anionic of Styrene\",\n",
      "      \"class_\": \"Process\"\n",
      "    }\n",
      "  ],\n",
      "  \"created_date\": \"2021-09-22 21:41:04.827590\",\n",
      "  \"c_material\": [\n",
      "    {\n",
      "      \"uid\": \"614ba2b147d9fae19b8b0d68\",\n",
      "      \"name\": \"SecBuLi solution 1.4M cHex\",\n",
      "      \"class_\": \"Material\"\n",
      "    },\n",
      "    {\n",
      "      \"uid\": \"614ba2b147d9fae19b8b0d62\",\n",
      "      \"name\": \"toluene\",\n",
      "      \"class_\": \"Material\"\n",
      "    },\n",
      "    {\n",
      "      \"uid\": \"614ba2b147d9fae19b8b0d61\",\n",
      "      \"name\": \"styrene\",\n",
      "      \"class_\": \"Material\"\n",
      "    },\n",
      "    {\n",
      "      \"uid\": \"614ba2b147d9fae19b8b0d64\",\n",
      "      \"name\": \"1-butanol\",\n",
      "      \"class_\": \"Material\"\n",
      "    },\n",
      "    {\n",
      "      \"uid\": \"614ba2b147d9fae19b8b0d65\",\n",
      "      \"name\": \"methanol\",\n",
      "      \"class_\": \"Material\"\n",
      "    }\n",
      "  ],\n",
      "  \"name\": \"Anionic Polymerization of Styrene with SecBuLi\",\n",
      "  \"class_\": \"Experiment\",\n",
      "  \"uid\": \"614ba2f0e0a8c92e8daf6aba\",\n",
      "  \"last_modified_date\": \"2021-09-22 21:41:05.590113\"\n",
      "}\n"
     ]
    }
   ],
   "source": [
    "db.save(rxn, expt)\n",
    "print(expt)"
   ]
  },
  {
   "cell_type": "markdown",
   "id": "de08b702-28d8-4946-a312-9af2eecb144e",
   "metadata": {},
   "source": [
    "---\n",
    "\n",
    "### <u>Data Node</u>\n",
    "\n",
    "The `Data Node` contains all the meta-data related to raw or processed data as well as the database link to the actual file. Things that are typically put into a `Data Node` include NMRs, SEC trace, molecular weight distributions, stress-strain curves, etc.\n",
    "\n",
    "Just like with other nodes lets view what are the required and optional attributes, and what keywords are accepted.\n",
    "\n",
    "<u>Action:</u> Run the following cell.\n",
    "\n",
    "<u>Output:</u> The `help()` will print out attributes that make up the `Data Node`. We can see that 'type_' is the only required attributes. Using the `key_table` function once again we can see a list of offically supported keys along with  a short discription."
   ]
  },
  {
   "cell_type": "code",
   "execution_count": 23,
   "id": "a4026133-b2a8-4183-8f66-8b41edf17b13",
   "metadata": {},
   "outputs": [
    {
     "name": "stdout",
     "output_type": "stream",
     "text": [
      "Help on function __init__ in module cript.data:\n",
      "\n",
      "__init__(self, type_: str, file: cript.data.File = None, sample_prep: str = None, calibration: cript.data.File = None, equipment: cript.data.File = None, cond: Union[list[cript.cond.Cond], cript.cond.Cond] = None, name: str = None, notes: str = None, **kwargs)\n",
      "    :param type_: See Data.key_table()\n",
      "    :param file: Raw data file. See help(File.__init__)\n",
      "    :param sample_prep: Text write up of how sample was prepared.\n",
      "    :param calibration: Calibration file. See help(File.__init__)\n",
      "    :param equipment: Equipment file. See help(File.__init__)\n",
      "    :param cond: Condition. See help(Cond.__init__) and Cond.key_table()\n",
      "    :param name: The user-defined name for the process.\n",
      "    :param notes: Any miscellaneous notes related to the user.\n",
      "\n",
      "keys            x                             x_unit                        descr                         \n",
      "------------------------------------------------------------------------------------------------------------------------------------------------------\n",
      "vector                                                                      Generic 1D object             \n",
      "matrix                                                                                                    \n",
      "tensor3                                                                                                   \n",
      "rxn_conv        time                          min                           conversion                    \n",
      "mn_conv         conversion                                                  m_n                           \n",
      "sec_trace       retention time                min                           signal                        \n",
      "sec_trace_vol   elution volume                ml                            signal                        \n",
      "mwd             molecular weight              g/mol                         population                    \n",
      "mwd_wt          molecular weight              g/mol                         population                    \n",
      "nmr             time                          us                            voltage                       \n",
      "nmr_h1          chemical shift                ppm                           signal                        \n",
      "nmr_c13         chemical shift                ppm                           signal                        \n",
      "nmr_n15         chemical shift                ppm                           signal                        \n",
      "nmr_o17         chemical shift                ppm                           signal                        \n",
      "nmr_f19         chemical shift                ppm                           signal                        \n",
      "nmr_si29        chemical shift                ppm                           signal                        \n",
      "nmr_p31         chemical shift                ppm                           signal                        \n",
      "nmr_noe         chemical shift                ppm                           signal                        \n",
      "nmr_tocsy       chemical shift                ppm                           signal                        \n",
      "ir              wavenumber                    cm**-1                        signal                        \n",
      "stess_strain    stess                         kPa                           strain                        \n",
      "waxs            q                             angstrom**-1                  signal                        \n",
      "saxs            q                             angstrom**-1                  signal                        \n",
      "g_prime         frequency                     rad/s                         stress                        \n",
      "g_doub_prime    frequency                     rad/s                         stress                        \n",
      "photo                                                                                                     \n",
      "nmr_cosy        chemical shift                ppm                           chemical shift                \n",
      "nmr_hsqc        chemical shift                ppm                           chemical shift                \n",
      "nmr_hmbc        chemical shift                ppm                           chemical shift                \n",
      "nmr_dosy        chemical shift                ppm                           diffusion coefficient         \n",
      "nmr_kinetic     chemical shift                ppm                           time                          \n",
      "waxs_i          distance                      nm**-1                        distance                      \n",
      "saxs_i          distance                      nm**-1                        distance                      \n",
      "s_neutron       distance                      nm**-1                        distance                      \n",
      "tem_height      distance                      nm                            distance                      \n",
      "afm_height      distance                      nm                            distance                      \n",
      "afm_amp         distance                      nm                            distance                      \n",
      "afm_phase       distance                      nm                            distance                      \n",
      "\n",
      "Add '+' to the front of custom keys.\n"
     ]
    }
   ],
   "source": [
    "help(Data.__init__)\n",
    "Data.key_table()"
   ]
  },
  {
   "cell_type": "markdown",
   "id": "b3bbe2eb-159d-45d5-9883-172390926377",
   "metadata": {},
   "source": [
    "For our example here, we will save both a 1H NMR and a SEC trace. The first thing we will need to do is get the file path to those files. The files for the tutorial are included in the CRIPT API and we can get thier paths with with the following code.\n",
    "\n",
    "<u>Action:</u> Run the following cell.\n",
    "\n",
    "<u>Output:</u> A file path for 1H NMR."
   ]
  },
  {
   "cell_type": "code",
   "execution_count": 27,
   "id": "a6640561-aca5-48ba-8d39-00cdf22e61ff",
   "metadata": {},
   "outputs": [
    {
     "name": "stdout",
     "output_type": "stream",
     "text": [
      "C:\\Users\\nicep\\AppData\\Roaming\\Python\\Python39\\site-packages\\cript\\tutorial\\Polystyrene_1HNMR.zip\n"
     ]
    }
   ],
   "source": [
    "from cript.tutorial import tutorial_data_part2\n",
    "sec_data_path = tutorial_data_part2[\"polystyrene_sec\"][\"path\"]\n",
    "cal_path = tutorial_data_part2[\"sec_calibration_curve\"][\"path\"]\n",
    "nmr1h_path = tutorial_data_part2[\"polystyrene_1hnmr\"][\"path\"]\n",
    "print(nmr1h_path)\n",
    "# # for custom paths use Path(r\"C:\\###\\###\\File.ext\")"
   ]
  },
  {
   "cell_type": "markdown",
   "id": "e15b945d-3758-463a-b29d-74e52e7445a1",
   "metadata": {},
   "source": [
    "We will start by creating the `Data Node` for the SEC trace first. If we look back up were we ran `Data.key_table` we can see a key for 'sec_trace' which is defined with the x-axis as retention time and the y-axis as signal. We can also include sample preperation steps and SEC conditions into our `Data Node`.\n",
    "\n",
    "<u>Action:</u> Run the following cell.\n",
    "\n",
    "<u>Output:</u> A print out of the SEC `Data Node`."
   ]
  },
  {
   "cell_type": "code",
   "execution_count": 28,
   "id": "cf74618e-7bb0-4fd7-96d0-580df9b5fbbd",
   "metadata": {},
   "outputs": [
    {
     "name": "stdout",
     "output_type": "stream",
     "text": [
      "{\n",
      "  \"model_version\": \"0.0.1\",\n",
      "  \"name\": \"Crude SEC of polystyrene\",\n",
      "  \"sample_prep\": \"5 mg of polymer in 1 ml of THF, filtered 0.45um pores.\",\n",
      "  \"class_\": \"Data\",\n",
      "  \"type_\": \"sec_trace\",\n",
      "  \"file\": {\n",
      "    \"ext\": \".csv\",\n",
      "    \"path\": \"C:\\\\Users\\\\nicep\\\\AppData\\\\Roaming\\\\Python\\\\Python39\\\\site-packages\\\\cript\\\\tutorial\\\\Polystyrene_SEC.csv\",\n",
      "    \"file_name\": \"Polystyrene_SEC\"\n",
      "  },\n",
      "  \"calibration\": {\n",
      "    \"ext\": \".xlsx\",\n",
      "    \"path\": \"C:\\\\Users\\\\nicep\\\\AppData\\\\Roaming\\\\Python\\\\Python39\\\\site-packages\\\\cript\\\\tutorial\\\\sec_calibration_curve.xlsx\",\n",
      "    \"file_name\": \"sec_calibration_curve\"\n",
      "  },\n",
      "  \"cond\": [\n",
      "    {\n",
      "      \"key\": \"temp\",\n",
      "      \"value\": \"30 degree_Celsius\"\n",
      "    },\n",
      "    {\n",
      "      \"key\": \"time\",\n",
      "      \"value\": \"60 minute\"\n",
      "    },\n",
      "    {\n",
      "      \"key\": \"solvent\",\n",
      "      \"value\": {\n",
      "        \"uid\": \"614ba2b147d9fae19b8b0d63\",\n",
      "        \"name\": \"tetrahydrofuran\",\n",
      "        \"class_\": \"Material\"\n",
      "      }\n",
      "    },\n",
      "    {\n",
      "      \"key\": \"+flow_rate\",\n",
      "      \"value\": \"1 milliliter / minute\"\n",
      "    }\n",
      "  ]\n",
      "}\n"
     ]
    }
   ],
   "source": [
    "sec_data = Data(\n",
    "    name=\"Crude SEC of polystyrene\",\n",
    "    type_=\"sec_trace\",\n",
    "    file=File(sec_data_path),\n",
    "    sample_prep=\"5 mg of polymer in 1 ml of THF, filtered 0.45um pores.\",\n",
    "    cond=[\n",
    "        Cond(\"temp\", 30 * Unit(\"degC\")),\n",
    "        Cond(\"time\", 60 * Unit(\"min\")),\n",
    "        Cond(\"solvent\", value=inv.get(\"THF\")),\n",
    "        Cond(\"+flow_rate\", 1 * Unit(\"ml/min\"))\n",
    "    ],\n",
    "    calibration=File(cal_path)\n",
    ")\n",
    "\n",
    "print(sec_data)"
   ]
  },
  {
   "cell_type": "markdown",
   "id": "a8de6a64-0677-4809-a175-320e27e18847",
   "metadata": {},
   "source": [
    "We can do much the same thing for the 1H NMR data.\n",
    "\n",
    "<u>Action:</u> Run the following cell.\n",
    "\n",
    "<u>Output:</u> A print out of the 1H NMR `Data Node`."
   ]
  },
  {
   "cell_type": "code",
   "execution_count": 29,
   "id": "010ca65a-07e5-41eb-b0ee-474c44d8258a",
   "metadata": {},
   "outputs": [
    {
     "name": "stdout",
     "output_type": "stream",
     "text": [
      "{\n",
      "  \"model_version\": \"0.0.1\",\n",
      "  \"name\": \"Crude 1H NMR of polystyrene\",\n",
      "  \"class_\": \"Data\",\n",
      "  \"type_\": \"nmr_h1\",\n",
      "  \"file\": {\n",
      "    \"ext\": \".zip\",\n",
      "    \"path\": \"C:\\\\Users\\\\nicep\\\\AppData\\\\Roaming\\\\Python\\\\Python39\\\\site-packages\\\\cript\\\\tutorial\\\\Polystyrene_1HNMR.zip\",\n",
      "    \"file_name\": \"Polystyrene_1HNMR\"\n",
      "  },\n",
      "  \"cond\": [\n",
      "    {\n",
      "      \"key\": \"temp\",\n",
      "      \"value\": \"25 degree_Celsius\"\n",
      "    },\n",
      "    {\n",
      "      \"key\": \"solvent\",\n",
      "      \"value\": {\n",
      "        \"uid\": \"614ba2b047d9fae19b8b0d5e\",\n",
      "        \"name\": \"deuterated chloroform\",\n",
      "        \"class_\": \"Material\"\n",
      "      }\n",
      "    }\n",
      "  ]\n",
      "}\n"
     ]
    }
   ],
   "source": [
    "nmr_data = Data(\n",
    "    name=\"Crude 1H NMR of polystyrene\",\n",
    "    type_=\"nmr_h1\",\n",
    "    file=File(nmr1h_path),\n",
    "    cond=[\n",
    "        Cond(\"temp\", 25 * Unit(\"degC\")),\n",
    "        Cond(\"solvent\", value=inv.get(\"CDCl3\")),\n",
    "    ]\n",
    ")\n",
    "\n",
    "print(nmr_data)"
   ]
  },
  {
   "cell_type": "markdown",
   "id": "110313d2-c909-4d0b-81ac-729830ee3fdc",
   "metadata": {},
   "source": [
    "The last thing we need to do is now save the data nodes to our experiment.\n",
    "\n",
    "<u>Action:</u> Run the following cell.\n",
    "\n",
    "<u>Output:</u> A print out of a successful save."
   ]
  },
  {
   "cell_type": "code",
   "execution_count": 30,
   "id": "de878775-eeba-478f-b84b-6a11e7e51636",
   "metadata": {},
   "outputs": [
    {
     "name": "stdout",
     "output_type": "stream",
     "text": [
      "Save of 'Crude SEC of polystyrene' was successful.\n",
      "Update of 'Anionic Polymerization of Styrene with SecBuLi' successful!\n",
      "Save of 'Crude 1H NMR of polystyrene' was successful.\n",
      "Update of 'Anionic Polymerization of Styrene with SecBuLi' successful!\n"
     ]
    },
    {
     "data": {
      "text/plain": [
       "'614ba326e0a8c92e8daf6ac5'"
      ]
     },
     "execution_count": 30,
     "metadata": {},
     "output_type": "execute_result"
    }
   ],
   "source": [
    "db.save(sec_data, expt)\n",
    "db.save(nmr_data, expt)"
   ]
  },
  {
   "cell_type": "markdown",
   "id": "ee98b943-d062-4b26-bcfb-3ef3874680d1",
   "metadata": {},
   "source": [
    "---\n",
    "\n",
    "### <u>Material Node: Polymer</u>\n",
    "\n",
    "The last node we need to create to finish this experimental write up is to create the polystyrene `Material Node`. This is the same process as we did for styrene.\n",
    "\n",
    "<u>Action:</u> Run the following cell.\n",
    "\n",
    "<u>Output:</u> A print out of a successful save."
   ]
  },
  {
   "cell_type": "code",
   "execution_count": 32,
   "id": "927e0c38-0481-4783-b279-d701d16c9ad9",
   "metadata": {},
   "outputs": [
    {
     "name": "stdout",
     "output_type": "stream",
     "text": [
      "{\n",
      "  \"c_process\": [\n",
      "    {\n",
      "      \"uid\": \"614ba2f1e0a8c92e8daf6abb\",\n",
      "      \"name\": \"Anionic of Styrene\",\n",
      "      \"class_\": \"Process\"\n",
      "    }\n",
      "  ],\n",
      "  \"model_version\": \"0.0.1\",\n",
      "  \"iden\": [\n",
      "    {\n",
      "      \"name\": \"polystyrene\",\n",
      "      \"cas\": \"100-42-5\",\n",
      "      \"names\": [\n",
      "        \"poly(styrene)\",\n",
      "        \"poly(vinylbenzene)\",\n",
      "        \"polystyrene\"\n",
      "      ],\n",
      "      \"mat_id\": 1,\n",
      "      \"bigsmiles\": \"[H]{[>][<]C(C[>])c1ccccc1[<]}C(C)CC\",\n",
      "      \"chem_repeat\": \"C8H8\"\n",
      "    }\n",
      "  ],\n",
      "  \"name\": \"polystyrene\",\n",
      "  \"class_\": \"Material\",\n",
      "  \"prop\": [\n",
      "    {\n",
      "      \"key\": \"phase\",\n",
      "      \"value\": \"solid\",\n",
      "      \"mat_id\": 0\n",
      "    },\n",
      "    {\n",
      "      \"key\": \"color\",\n",
      "      \"value\": \"white\",\n",
      "      \"mat_id\": 0\n",
      "    },\n",
      "    {\n",
      "      \"uncer\": \"400 gram / mole\",\n",
      "      \"c_data\": [\n",
      "        {\n",
      "          \"uid\": \"614ba326e0a8c92e8daf6ac5\",\n",
      "          \"name\": \"Crude 1H NMR of polystyrene\",\n",
      "          \"class_\": \"Data\"\n",
      "        }\n",
      "      ],\n",
      "      \"key\": \"m_n\",\n",
      "      \"method\": \"nmr\",\n",
      "      \"value\": \"4800 gram / mole\",\n",
      "      \"mat_id\": 0\n",
      "    },\n",
      "    {\n",
      "      \"uncer\": \"100 gram / mole\",\n",
      "      \"c_data\": [\n",
      "        {\n",
      "          \"uid\": \"614ba325e0a8c92e8daf6ac0\",\n",
      "          \"name\": \"Crude SEC of polystyrene\",\n",
      "          \"class_\": \"Data\"\n",
      "        }\n",
      "      ],\n",
      "      \"key\": \"m_n\",\n",
      "      \"method\": \"sec\",\n",
      "      \"value\": \"5200 gram / mole\",\n",
      "      \"mat_id\": 0\n",
      "    },\n",
      "    {\n",
      "      \"uncer\": 0.02,\n",
      "      \"c_data\": [\n",
      "        {\n",
      "          \"uid\": \"614ba325e0a8c92e8daf6ac0\",\n",
      "          \"name\": \"Crude SEC of polystyrene\",\n",
      "          \"class_\": \"Data\"\n",
      "        }\n",
      "      ],\n",
      "      \"key\": \"d\",\n",
      "      \"method\": \"sec\",\n",
      "      \"value\": 1.03,\n",
      "      \"mat_id\": 0\n",
      "    }\n",
      "  ]\n",
      "}\n"
     ]
    }
   ],
   "source": [
    "mat_poly = Material(\n",
    "    iden=Iden(\n",
    "        name=\"polystyrene\",\n",
    "        names=[\"poly(styrene)\", \"poly(vinylbenzene)\"],\n",
    "        chem_repeat=\"C8H8\",\n",
    "        bigsmiles=\"[H]{[>][<]C(C[>])c1ccccc1[<]}C(C)CC\",\n",
    "        cas=\"100-42-5\"\n",
    "    ),\n",
    "    c_process=rxn,\n",
    "    prop=[\n",
    "        Prop(key=\"phase\", value=\"solid\"),\n",
    "        Prop(key=\"color\", value=\"white\"),\n",
    "        Prop(key=\"m_n\", method=\"nmr\", value=4800 * Unit(\"g/mol\"), uncer=400 * Unit(\"g/mol\"), c_data=nmr_data),\n",
    "        Prop(key=\"m_n\", method=\"sec\", value=5200 * Unit(\"g/mol\"), uncer=100 * Unit(\"g/mol\"), c_data=sec_data),\n",
    "        Prop(key=\"d\", method=\"sec\", value=1.03, uncer=0.02, c_data=sec_data)\n",
    "    ]\n",
    ")\n",
    "\n",
    "print(mat_poly)"
   ]
  },
  {
   "cell_type": "markdown",
   "id": "ae13fe46-c336-4ef8-9613-d34210ab07c7",
   "metadata": {},
   "source": [
    "Now we just save it and we are done!\n",
    "\n",
    "\n",
    "<u>Action:</u> Run the following cell.\n",
    "\n",
    "<u>Output:</u> A print out of a successful save."
   ]
  },
  {
   "cell_type": "code",
   "execution_count": 33,
   "id": "e9545487-29ae-40de-9cd9-818eb8816188",
   "metadata": {},
   "outputs": [
    {
     "name": "stdout",
     "output_type": "stream",
     "text": [
      "Save of 'polystyrene' was successful.\n",
      "Update of 'Anionic Polymerization of Styrene with SecBuLi' successful!\n"
     ]
    },
    {
     "data": {
      "text/plain": [
       "'614ba371e0a8c92e8daf6ac6'"
      ]
     },
     "execution_count": 33,
     "metadata": {},
     "output_type": "execute_result"
    }
   ],
   "source": [
    "db.save(mat_poly, expt)"
   ]
  },
  {
   "cell_type": "markdown",
   "id": "25606058-c08d-4141-9fef-2df95cf63293",
   "metadata": {},
   "source": [
    "---\n",
    "---\n",
    "\n",
    "## Key Takeaways\n",
    "\n",
    "* You have seen how now to work with: <br>\n",
    "    * Collection Node\n",
    "    * Experiment Node\n",
    "    * Material Node\n",
    "    * Process Node\n",
    "    * Data Node\n",
    "    * Inventory Node\n",
    "* You also got exposed to our helper nodes: <br>\n",
    "    * Condition Helper Node\n",
    "    * Property Helper Node"
   ]
  },
  {
   "cell_type": "markdown",
   "id": "435c93f6-b185-456a-9698-a6524f9c2d98",
   "metadata": {},
   "source": [
    "---\n",
    "---\n",
    "\n",
    "### What's next?\n",
    "\n",
    "There are still more tutorials focused on specific topics:\n",
    "* Advanced_searching\n",
    "* Exporting"
   ]
  },
  {
   "cell_type": "code",
   "execution_count": 34,
   "id": "36860f7f-1a79-4418-89ed-25ef337b9aee",
   "metadata": {},
   "outputs": [
    {
     "data": {
      "text/plain": [
       "'0.0.1'"
      ]
     },
     "execution_count": 34,
     "metadata": {},
     "output_type": "execute_result"
    }
   ],
   "source": [
    "__version__\n"
   ]
  },
  {
   "cell_type": "code",
   "execution_count": null,
   "id": "a84f7795-05b9-47d7-a7c2-28e48ab6c109",
   "metadata": {},
   "outputs": [],
   "source": []
  }
 ],
 "metadata": {
  "kernelspec": {
   "display_name": "Python 3",
   "language": "python",
   "name": "python3"
  },
  "language_info": {
   "codemirror_mode": {
    "name": "ipython",
    "version": 3
   },
   "file_extension": ".py",
   "mimetype": "text/x-python",
   "name": "python",
   "nbconvert_exporter": "python",
   "pygments_lexer": "ipython3",
   "version": "3.9.5"
  }
 },
 "nbformat": 4,
 "nbformat_minor": 5
}
