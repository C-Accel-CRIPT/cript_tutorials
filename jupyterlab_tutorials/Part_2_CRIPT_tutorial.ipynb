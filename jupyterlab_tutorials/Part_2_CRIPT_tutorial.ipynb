{
 "cells": [
  {
   "cell_type": "markdown",
   "id": "810e06ce-54a8-4d89-a181-d8a73b81cb42",
   "metadata": {},
   "source": [
    "# Part 2: Creating your first Experiment in CRIPT \n",
    "\n",
    "---\n",
    "---\n",
    "If you haven't done part 1 of this tutorial series; do that first as there are some required steps that must be completed before begining this one.\n",
    "\n",
    "\n",
    "Part 2 of this tutorial series will focus on entering our first experiment and all the associated data into the database. We will use the anionic polymerization of styrene with secBuLi as our example.\n",
    "\n",
    "<p style=\"text-align:center;\"><img src=\"https://raw.githubusercontent.com/C-Accel-CRIPT/cript_tutorials/master/supporting_files/pics/P2_polystyrene_synthesis.svg\" alt=\"Polystyrene_synthesis\" width=\"600\" style=\"background-color:white;\" />\n",
    "\n",
    "\n",
    "This example will involve the following steps:\n",
    "    \n",
    "1. Create a `Collection node`\n",
    "2. Create a `Expieriment node`\n",
    "3. Create or find `Material nodes` <br>\n",
    "    a. Create styrene <br>\n",
    "    b. Create secBuLi solution <br>\n",
    "    c. The remaining materials we will find for the tutorial inventory\n",
    "4. Create 'Process node`\n",
    "5. Create 'Data nodes' <br>\n",
    "    a. 1H NMR <br>\n",
    "    b. SEC trace\n",
    "6. Create Polystyrene `Material node`\n",
    "    \n",
    "---\n",
    "By the end of Part 2, your CRIPT data graph will look something like this:\n",
    "\n",
    "    \n",
    "<p style=\"text-align:center;\"><img src=\"https://raw.githubusercontent.com/C-Accel-CRIPT/cript_tutorials/master/supporting_files/pics/P2_node_diagram.svg\" alt=\"Polystyrene_synthesis\" style=\"background-color:white;\" />\n",
    "    "
   ]
  },
  {
   "cell_type": "markdown",
   "id": "7320597d-e481-494b-867c-dbe4d99c8df7",
   "metadata": {},
   "source": [
    "---\n",
    "\n",
    "We will start with the basics: importing 'CRIPT module', and connecting to the CRIPT database. Time we will show an alternative way to import the cript package. This way allows us to drop the 'C.' on all the CRIPT objects which makes for easier typing, but can make it less clear of where objects are coming from. <span style=\"color:SteelBlue\"> (This should be done at the beginning of every program or jupyter notebook.)</span> \n",
    "\n",
    "<u>Action:</u> Replace 'user = ###@###.##' with the email address you used for your `User node` or 'user uid'. Then run the cell. <span style=\"color:gray\">(You can run a cell by either clicking on it and hitting the 'play/run' button in the toolbar or click the cell and hit \"shift\" + \"enter\".)</span>\n",
    "\n",
    "<u>Output:</u> You should see \"Import sucessful!\", \"Connection to database '####' successful.\", \"Login as \"###\" was sucessfully.\" "
   ]
  },
  {
   "cell_type": "code",
   "execution_count": null,
   "id": "b336f3cc-7ad1-43a1-bad2-8227e9ffc740",
   "metadata": {},
   "outputs": [],
   "source": [
    "from cript import *\n",
    "print(\"Import successful!\")\n",
    "\n",
    "# Connect to database\n",
    "db_username = \"########\"\n",
    "db_password = \"########\"\n",
    "db_project = \"########\"\n",
    "db_database = \"########\"\n",
    "user = \"johndoe@cript.edu\"  # Put your email or uid here\n",
    "db = CriptDB(db_username, db_password, db_project, db_database, user)"
   ]
  },
  {
   "cell_type": "markdown",
   "id": "2ec2713a-80d1-46c2-a7bb-02bc7fa755c8",
   "metadata": {},
   "source": [
    "<span style=\"color:red\">A word of warning:</span> Don't run this block of code twice. You will get an error that you are trying to make a second connection to the database, which is not allowed. If it does happen, just reset the kernal. "
   ]
  },
  {
   "cell_type": "markdown",
   "id": "675dd4e2-7c97-4be7-935b-203ffc06d274",
   "metadata": {},
   "source": [
    "## <u>Collection Node</u>\n",
    "\n",
    "The first item to create for this example `Collection node`. The `Collection node` is a organizational tool, you can think of it as a 'folder' on your computer. It just a way to group experiments together. \n",
    "\n",
    "For example, if you are going to run a series of kinetic experiments on a reaction, you can group them all in a collection. Another example is, you are creating a libary of polyesters, that can all be grouped into a single collection. Or all the experiments that make up a publication can be grouped into a collection. Also note that you can have collections with collections. An example of that may be you find a new catalyst that can polymerize styrene. You could have a parent collection which holds several other collections child collections with each child collection deticated to a different aspect of the new catalyst reaseach (such as kinetics study, monomer scope, diblock polymer synthesis, etc.). \n",
    "\n",
    "We will create a collection that will hold all the tutorial examples.\n",
    "\n",
    "<u>Action:</u> Run the following cell.\n",
    "\n",
    "<u>Output:</u> Print out of the node. \n",
    "\n",
    "---"
   ]
  },
  {
   "cell_type": "code",
   "execution_count": null,
   "id": "40df4cbb-db49-4bda-aeb4-72cc355788b3",
   "metadata": {},
   "outputs": [],
   "source": [
    "collection = Collection(\"Tutorials\")\n",
    "print(collection)"
   ]
  },
  {
   "cell_type": "markdown",
   "id": "393667d6-9217-46e0-a701-b405a2867596",
   "metadata": {},
   "source": [
    "Now that we create the collection we will want to save it and pick a group to own it. So lets view what groups we are apart of again. To do that, we can use the `db.view()` function again and pass it the generic CRIPT `Group node`. This will return just the groups you are apart of. Which at this point should just be two.\n",
    "\n",
    "<u>Action:</u> Run the following cell.\n",
    "\n",
    "<u>Output:</u> You should see two groups in the list. \"tutorial_###\" which is the node you created in part 1 and \"CRIPT_community\" the node you just joined in part 1.\n"
   ]
  },
  {
   "cell_type": "code",
   "execution_count": null,
   "id": "560a2c78-874b-4e57-ac69-34a15cbe65ec",
   "metadata": {},
   "outputs": [],
   "source": [
    "groups = db.view(Group)"
   ]
  },
  {
   "cell_type": "markdown",
   "id": "f0b6d338-beb6-4a58-9902-e6f531a49b30",
   "metadata": {},
   "source": [
    "We will put this collection into \"tutorial_####\". To do this, we just need to save the node and pass it the group we want to save it to with it.\n",
    "\n",
    "<span style=\"color:SteelBlue\">In the background it will save the collection and update the group in the database. </span> \n",
    "\n",
    "<u>Action:</u> Change the number in the brackets to select the \"tutorial_####\" group. Then run the following cell.\n",
    "\n",
    "<u>Output:</u> \"Save of 'Anionic Polymerizations' was successful.\" and \"Update of 'tutorial_john' successful!\". We will also see the \"uid\" of the collection node.\n"
   ]
  },
  {
   "cell_type": "code",
   "execution_count": null,
   "id": "f647dae3-5a1b-4599-a418-529510031aac",
   "metadata": {},
   "outputs": [],
   "source": [
    "db.save(collection, groups[0])"
   ]
  },
  {
   "cell_type": "markdown",
   "id": "7e4c71c5-5ecc-415a-86ee-aa171f35a9a6",
   "metadata": {},
   "source": [
    "---\n",
    "## <u>Experiment Node</u>\n",
    "\n",
    "Next, lets make our `Experiment node`. The `Experiment node` is just a grouping of `Material nodes`, `Process nodes` and `Data nodes`. You can think of an experiment as a page in the notebook, except it doesn't hold any of the data it just reference the nodes that do. The reason we break out the `Material nodes`, `Process nodes` and `Data nodes` and don't just group them into the `Experiment node` is because a single `Material` may be referenced in multiple experiments and this allows us to just refenence the `Material node` instead of duplicating the data. Additionally, this seperated data model is more flexable to cases where someone makes a material in one experiment and uses it or studies in a different experiment. There is also huge benfits in terms of search perferomance and reduced memory usage, but that's beyond the scope of this tutorial.\n",
    "\n",
    "Let's now create our `Experiment node` for our example.\n",
    "\n",
    "<u>Action:</u> Run the following cell.\n",
    "\n",
    "<u>Output:</u> Print out of the `Experiment node`.\n",
    "\n",
    "---"
   ]
  },
  {
   "cell_type": "code",
   "execution_count": null,
   "id": "0d949e9c-c7a7-45e1-90df-fe024a95b3c6",
   "metadata": {},
   "outputs": [],
   "source": [
    "expt = Experiment(\"Anionic Polymerization of Styrene with SecBuLi\")\n",
    "print(expt)"
   ]
  },
  {
   "cell_type": "markdown",
   "id": "0774a4f9-b59a-472b-ac78-66bd6aea822d",
   "metadata": {},
   "source": [
    "We now can save the `Experiment` to the `Collection` that we just created.\n",
    "\n",
    "<u>Action:</u> Run the following cell.\n",
    "\n",
    "<u>Output:</u> Print out of the `collection node`.\n"
   ]
  },
  {
   "cell_type": "code",
   "execution_count": null,
   "id": "630896b5-6090-43d2-812c-585e46aabe80",
   "metadata": {},
   "outputs": [],
   "source": [
    "db.save(expt, collection)\n",
    "print(collection)"
   ]
  },
  {
   "cell_type": "markdown",
   "id": "ade9eabf-24ce-4489-aa41-537173fa06c0",
   "metadata": {},
   "source": [
    "---\n",
    "\n",
    "So far through we have created this node graph. \n",
    "\n",
    "<p style=\"text-align:center;\"><img src=\"https://raw.githubusercontent.com/C-Accel-CRIPT/cript_tutorials/master/supporting_files/pics/P2_node_diagram_user_to_expt.svg\" alt=\"Polystyrene_synthesis\" style=\"background-color:white;\" />\n",
    "\n",
    "\n",
    "Now that we have our orgaization nodes setup, its time to work on the core nodes that store the data.\n"
   ]
  },
  {
   "cell_type": "markdown",
   "id": "96df6c48-7ad4-4b04-9a56-6759115d2ee6",
   "metadata": {},
   "source": [
    "---\n",
    "---\n",
    "\n",
    "## <u>Materal Node</u>\n",
    "\n",
    "The `Material node` contains identity and property data for a chemical. This can be a polymer, a small molecule, or a mixture of multiple components. CRIPT is already prepopulated with the most common small molecules (including some property data). You can of course add a material if it doesn't already exist in the database, or reference an existing material and add new data, or completely copy a whole material and modify it to suit your own requirements. In terms of best practices (for small molecules), using existing materials is always prefered, followed by referencing, and coping as the least prefered method as duplicates of the same material hinders the effectiveness of the database. When it comes to polymers, polymers should aways be treated as a new material as the molecular weight distribution, composition, topolology is never perfectly the same.\n",
    "\n",
    "### Creating a Material Node\n",
    "\n",
    "For our experiment we will go through how to enter styrene into the database. Styrene is already in the database, so we will just setup this `Material node` as an example and not save it. We will then just reference the existing styrene that's in the database.\n",
    "\n",
    "When it comes to creating a `Material node`, we start by using the `help()` to see what data is required and to see what data is optional.\n",
    "\n",
    "<u>Action:</u> Run the following cell.\n",
    "\n",
    "<u>Output:</u> You will get a large output of text. Lets digest the important parts of this output:\n",
    "\n",
    "* The first line is: \"__ init __ (self, iden: 'Union[list[Iden], Iden, list[Material], Material]', name: str = None ...\"\n",
    "    * Here we can see that `iden` is the only required parameter as its the only parameter that doesn't have a '= None'.\n",
    "    * If we look at the description of `iden`, it says to run `help(Iden.__init__)`. This is because `Iden` is a helper node for all a materials idenifiers. \n"
   ]
  },
  {
   "cell_type": "code",
   "execution_count": null,
   "id": "aa96457b-4d67-4093-bb49-617d21e1349b",
   "metadata": {},
   "outputs": [],
   "source": [
    "help(Material.__init__)"
   ]
  },
  {
   "cell_type": "markdown",
   "id": "9abe293b-0a67-4f42-b2c9-45abf3cec6f9",
   "metadata": {},
   "source": [
    "\n",
    "<u>Action:</u> Run the following cell.\n",
    "\n",
    "<u>Output:</u> You will get a large output of text. Lets digest the important parts of this output:\n",
    "\n",
    "* The first line is: \"__ init __ (self, ref_material=None, name: str = None, names: list = None...\"\n",
    "    * Here there are no required properties. However, best practice is to enter as much data as you can."
   ]
  },
  {
   "cell_type": "code",
   "execution_count": null,
   "id": "d8dd71e5-4a07-4cf1-af73-0b306e512ab0",
   "metadata": {},
   "outputs": [],
   "source": [
    "help(Iden.__init__)"
   ]
  },
  {
   "cell_type": "markdown",
   "id": "4a2117be-9bfb-4921-b31c-4894dafb4cae",
   "metadata": {},
   "source": [
    "---\n",
    "\n",
    "Using the help from the previous outputs, lets now fill out an `Iden helper node` for styrene. Again, best practice here is to fill out as much as you can as this will significant help other find the material when searching.\n",
    "\n",
    "\n",
    "<u>Action:</u> Run the following cell.\n",
    "\n",
    "<u>Output:</u> You will get a printout of the node.\n"
   ]
  },
  {
   "cell_type": "code",
   "execution_count": null,
   "id": "85683cd7-8394-49fe-aa61-7994330c2784",
   "metadata": {},
   "outputs": [],
   "source": [
    "iden = Iden(\n",
    "        name=\"styrene\",\n",
    "        names=[\"vinylbenzene\", \"phenylethylene\", \"ethenylbenzene\"],\n",
    "        chem_formula=\"C8H8\",\n",
    "        smiles=\"C=Cc1ccccc1\",\n",
    "        cas=\"100-42-5\",\n",
    "        pubchem_cid=\"7501\",\n",
    "        inchi_key=\"PPBRXRYQALVLMV-UHFFFAOYSA-N\"\n",
    "    )\n",
    "\n",
    "print(iden)"
   ]
  },
  {
   "cell_type": "markdown",
   "id": "000b8fa5-4d2f-49ef-9431-a7b3e15082f9",
   "metadata": {},
   "source": [
    "Now that we have specified the identifiers, we can pass it into the `Material node`. We will also add one of the offical CRIPT keywords, and reccomended storage condition (more information on these later). \n",
    "\n",
    "<u>Action:</u> Run the following cell.\n",
    "\n",
    "<u>Output:</u> You will get a printout of the node. We can notice that the idenifiers have been succesfully added to the node along with the new data."
   ]
  },
  {
   "cell_type": "code",
   "execution_count": null,
   "id": "7f1634df-fd2a-4a66-a196-c781fd13d099",
   "metadata": {},
   "outputs": [],
   "source": [
    "mat_styrene = Material(\n",
    "    iden=iden,\n",
    "    keywords=[\"styrene\"],\n",
    "    storage=[\n",
    "        Cond(key=\"temp\", value=-20 * Unit(\"degC\"))\n",
    "    ]\n",
    ")\n",
    "\n",
    "print(mat_styrene)"
   ]
  },
  {
   "cell_type": "markdown",
   "id": "9ae772e2-3991-4399-aaf8-b6468cfedcae",
   "metadata": {},
   "source": [
    "#### <u>Keywords</u>\n",
    "\n",
    "We saw that we can add keywords to the material node, we can view the offically supported keywords with the following code `Material.key_table()`. \n",
    "These keys are an additional tool to aid in seaching, so its reccommended to add them when possible. You can also specify a custom key if the offical keys don't cover your materal. To enter a custom key add a \"+\" plus sign at the front of the key to signify that it's not from the offical list (if you don't add the \"+\" it will raise an error). Example of a custom key: \"+soft_polymer\" or \"+yellow_polymer\".\n",
    "\n",
    "To see the offical list of keys use the `key_table()` call.\n",
    "\n",
    "<u>Action:</u> Run the following cell.\n",
    "\n",
    "<u>Output:</u> A table of offical keys will be printed out with a short description."
   ]
  },
  {
   "cell_type": "code",
   "execution_count": null,
   "id": "3e8ca627-5072-4fbf-9180-f4d10a58960b",
   "metadata": {},
   "outputs": [],
   "source": [
    "Material.key_table()"
   ]
  },
  {
   "cell_type": "markdown",
   "id": "6cc7e345-5333-4c49-8577-92b1bf9ad5ab",
   "metadata": {},
   "source": [
    "#### <u>Conditions</u>\n",
    "\n",
    "We saw that storage used another one of our helper nodes `Cond`. `Cond` is short for condition and is used any time there is a need to specify something about an enviorment. To be more specific we can investigate the `Cond` and the `Cond` keys.  \n",
    "\n",
    "<u>Action:</u> Run the following cell.\n",
    "\n",
    "<u>Output:</u> The `help()` will print out parameters that make up a condition. We can see that both 'key' and 'value' are required. Using the `key_table` function once again we can see a list of offically supported keys along with data type, range, database units, and a short discription."
   ]
  },
  {
   "cell_type": "code",
   "execution_count": null,
   "id": "9b7b0924-7db5-4827-be99-7cc85511d537",
   "metadata": {},
   "outputs": [],
   "source": [
    "help(Cond.__init__)\n",
    "Cond.key_table()"
   ]
  },
  {
   "cell_type": "markdown",
   "id": "f2983c61-dd1d-4f89-912b-0d49d20bd133",
   "metadata": {},
   "source": [
    "#### <u>Property</u>\n",
    "\n",
    "One additional helper node that we will want to use is `Prop`. `Prop` is short for property, in which CRIPT currently supports three subclasses of properties:\n",
    "* Molecular Properties\n",
    "* Polymer Properties\n",
    "* Reaction Properties.\n",
    "\n",
    "Just like `Cond` lets view are required and optional attributes, and what keywords are accepted. \n",
    "\n",
    "<u>Action:</u> Run the following cell.\n",
    "\n",
    "<u>Output:</u> The `help()` will print out attributes that make up a property. We can see that both 'key' and 'value' are required. Using the `key_table` function once again we can see a list of offically supported keys along with type, range, database units, method, conditions and a short discription.\n"
   ]
  },
  {
   "cell_type": "code",
   "execution_count": null,
   "id": "7148271e-12e2-4be1-ad15-6d93967f23bd",
   "metadata": {},
   "outputs": [],
   "source": [
    "help(Prop.__init__)\n",
    "Prop.key_table()"
   ]
  },
  {
   "cell_type": "markdown",
   "id": "22892742-1d1c-4238-8946-ba555d08aaa9",
   "metadata": {},
   "source": [
    "---\n",
    "\n",
    "If we come back to styrene, we can add several properties to complete the construction of the 'material node'.\n",
    "\n",
    "<u>Action:</u> Run the following cell.\n",
    "\n",
    "<u>Output:</u> You will get a printout of the node."
   ]
  },
  {
   "cell_type": "code",
   "execution_count": null,
   "id": "6e8e25c6-0596-4292-89af-03407543d99f",
   "metadata": {},
   "outputs": [],
   "source": [
    "mat_styrene.prop = [\n",
    "    Prop(key=\"phase\", value=\"liquid\"),\n",
    "    Prop(key=\"color\", value=\"colorless\"),\n",
    "    Prop(key=\"molar_mass\", value=104.15 * Unit(\"g/mol\"), method=\"prescribed\"),\n",
    "    Prop(key=\"density\", value=0.906 * Unit(\"g/ml\"), cond=[Cond(key=\"temp\", value=25 * Unit(\"degC\"))]),\n",
    "    Prop(key=\"bp\", value=145 * Unit(\"degC\"), cond=[Cond(key=\"pres\", value=1 * Unit(\"atm\"))]),\n",
    "    Prop(key=\"mp\", value=-30 * Unit(\"degC\"), cond=[Cond(key=\"pres\", value=1 * Unit(\"bar\"))])\n",
    "]\n",
    "\n",
    "print(mat_styrene)"
   ]
  },
  {
   "cell_type": "markdown",
   "id": "6c8a6117-f6d1-403b-95e2-8e032a5751be",
   "metadata": {},
   "source": [
    "With that, we have completed the construction of the styrene `Material Node`! That was alot of information to take in. So let me do some wrapping up disscusion on this. First we create material identifers, then we passed then into the `Material Node`, and finished by adding the properties. We broke it into these steps to help communicate the process of creating a `Material Node`, however it can be more sinsincly done in one step, as shown below. The last step is to save this material; but as I mentioned before styrene is already in the database. So we will use that styrene node instead."
   ]
  },
  {
   "cell_type": "code",
   "execution_count": null,
   "id": "d7199e0a-5282-4bc2-aebc-fcdee164df2c",
   "metadata": {},
   "outputs": [],
   "source": [
    "# mat_styrene = Material(\n",
    "#     iden = Iden(\n",
    "#         name=\"styrene\",\n",
    "#         names=[\"vinylbenzene\", \"phenylethylene\", \"ethenylbenzene\"],\n",
    "#         chem_formula=\"C8H8\",\n",
    "#         smiles=\"C=Cc1ccccc1\",\n",
    "#         cas=\"100-42-5\",\n",
    "#         pubchem_cid=\"7501\",\n",
    "#         inchi_key=\"PPBRXRYQALVLMV-UHFFFAOYSA-N\"\n",
    "#     ),\n",
    "#     prop = [\n",
    "#         Prop(\"phase\", \"liquid\"),\n",
    "#         Prop(\"color\", \"colorless\"),\n",
    "#         Prop(\"molar_mass\", value=104.15 * Unit(\"g/mol\"), method=\"prescribed\"),\n",
    "#         Prop(\"density\", value=0.906 * Unit(\"g/ml\"), cond=[Cond(\"temp\", 25 * Unit(\"degC\"))]),\n",
    "#         Prop(\"bp\", 145 * Unit(\"degC\"), cond=[Cond(\"pres\", 1 * Unit(\"atm\"))]),\n",
    "#         Prop(\"mp\", -30 * Unit(\"degC\"), cond=[Cond(\"pres\", 1 * Unit(\"bar\"))])\n",
    "#     ],\n",
    "#     keywords=[\"styrene\"],\n",
    "#     storage=[Cond(\"temp\", -20 * Unit(\"degC\"))]\n",
    "# )\n",
    "\n",
    "# db.save(mat_styrene, expt)\n",
    "# print(mat_styrene)"
   ]
  },
  {
   "cell_type": "markdown",
   "id": "53d46cc3-16d5-41c3-b738-15cf5e6378da",
   "metadata": {},
   "source": [
    "---\n",
    "\n",
    "### <u>Inventory Node</u>\n",
    "\n",
    "THe `Inventory Node` is a collection of `Material Nodes`. This can represent a whole labs inventory of chemicals, or just a small list of specific chemicals (for exmple ROP monomers). They are very useful as an orgniational tool, and they to can reduce the time it takes to write up an experiment.  \n",
    "\n",
    "To demonstrate the utility of the `Inventory Node`, we will use it here to get all the `Material Nodes` we need for this tutorial. An `Inventory` with all the materials for this tutorial was already created and can be found in the 'CRIPT_community'. Since we joined the 'CRIPT_community' we can just use `db.view()` to retrieve the inventory.    \n",
    "\n",
    "<u>Action:</u> Run the following cell.\n",
    "\n",
    "<u>Output:</u> The print out attributes should show multiple materials in the 'c_material' section. We will then reference these materials in the `Process Node` section.\n"
   ]
  },
  {
   "cell_type": "code",
   "execution_count": null,
   "id": "13e0eb81-f255-45d3-a9bd-d00227e9b5a4",
   "metadata": {},
   "outputs": [],
   "source": [
    "inv_doc = db.view(Inventory)\n",
    "inv = load(inv_doc[0]) # You may need to change the index if .CRIPT_community is not the first one \n",
    "print(inv)"
   ]
  },
  {
   "cell_type": "markdown",
   "id": "b8a026b3-2732-447c-81d8-a162a25eb5db",
   "metadata": {},
   "source": [
    "---\n",
    "\n",
    "### <u>Process Node</u>\n",
    "\n",
    "The `process node` contains the ingredients, quantities, and procedure information for a given process. A process can be anything from a reaction to a material processing step. \n",
    "\n",
    "Just like with other nodes lets view what are the required and optional attributes, and what keywords are accepted. \n",
    "\n",
    "<u>Action:</u> Run the following cell.\n",
    "\n",
    "<u>Output:</u> The `help()` will print out attributes that make up a process. We can see that both 'name', 'ingr', 'procedure' are required. Using the `key_table` function once again we can see a list of offically supported keys along with  a short discription."
   ]
  },
  {
   "cell_type": "code",
   "execution_count": null,
   "id": "ba3a9f2d-b4d5-484d-8bc3-a84c78409d3e",
   "metadata": {},
   "outputs": [],
   "source": [
    "help(Process.__init__)\n",
    "Process.key_table()"
   ]
  },
  {
   "cell_type": "markdown",
   "id": "e2cefc1e-8e2a-434e-9646-09b3416fa8ad",
   "metadata": {},
   "source": [
    "The process for our example, is the anionic polymerization of styrene.\n",
    "\n",
    "<u>Action:</u> Run the following cell.\n",
    "\n",
    "<u>Output:</u> Print out of the process node."
   ]
  },
  {
   "cell_type": "code",
   "execution_count": null,
   "id": "d8680dcf-8052-4c80-ba26-796591767595",
   "metadata": {},
   "outputs": [],
   "source": [
    "rxn = Process(\n",
    "    name=\"Anionic of Styrene\",\n",
    "    ingr=[\n",
    "        [inv.get(\"SecBuLi solution 1.4M cHex\"), 0.017 * Unit(\"ml\"), \"initiator\", {\"mat_id\": \"secBuLi\"}],\n",
    "        [inv.get(\"toluene\"), 10 * Unit(\"ml\"), \"solvent\"],\n",
    "        [inv.get(\"styrene\"), 0.455 * Unit(\"g\"), \"monomer\"],\n",
    "        [inv.get(\"1BuOH\"), 5, \"quench\", {\"eq_mat\": \"SecBuLi solution\"}],\n",
    "        [inv.get(\"MeOH\"), 100 * Unit(\"ml\"), \"workup\"]\n",
    "    ],\n",
    "    procedure=\"In an argon filled glovebox, a round bottom flask was filled with 216 ml of dried toluene. The \"\n",
    "              \"solution of secBuLi (3 ml, 3.9 mmol) was added next, followed by styrene (22.3 g, 176 mmol) to \"\n",
    "              \"initiate the polymerization. The reaction mixture immediately turned orange. After 30 min, \"\n",
    "              \"the reaction was quenched with the addition of 3 ml of methanol. The polymer was isolated by \"\n",
    "              \"precipitation in methanol 3 times and dried under vacuum.\",\n",
    "    cond=[\n",
    "        Cond(\"temp\", 25 * Unit(\"degC\")),\n",
    "        Cond(\"time\", 60 * Unit(\"min\")),\n",
    "        Cond(key=\"atm\", value=inv.get(\"Argon\"))\n",
    "    ],\n",
    "    prop=[\n",
    "        Prop(\"yield_mass\", 0.47 * Unit(\"g\"), 0.02 * Unit(\"g\"), method=\"scale\")\n",
    "    ],\n",
    "    keywords=[\"polymerization\", \"living_poly\", \"anionic\", \"solution\"]\n",
    ")\n",
    "\n",
    "print(rxn)"
   ]
  },
  {
   "cell_type": "markdown",
   "id": "ba16f2af-4e94-45dc-a2c1-e8f9d3fac020",
   "metadata": {},
   "source": [
    "One key thing you might note in the previous out put is there are additional quatnities calculate for some of the ingredients. The CRIPT API has imbeded an auto-calculate tool. When it pass a material into the `Process Node` it will look for properties in the `Material Node` like 'molar_mass', 'density', and 'molar_conc'. With the provided quantity for the ingredient and these other properties, it can complete the remaining calculations for us.\n",
    "\n",
    "We can also view a nicer output of the ingredients.\n",
    "\n",
    "<u>Action:</u> Run the following cell.\n",
    "\n",
    "<u>Output:</u> Table of ingredients."
   ]
  },
  {
   "cell_type": "code",
   "execution_count": null,
   "id": "b840b507-c14d-4ab7-a9db-b71d17774b27",
   "metadata": {},
   "outputs": [],
   "source": [
    "print(rxn.ingr)"
   ]
  },
  {
   "cell_type": "markdown",
   "id": "64598e08-b929-4226-be3d-0ad296d8ee8b",
   "metadata": {},
   "source": [
    "We can also increase the value of a single ingredient, and the API will re-calcuate everything automatically.\n",
    "\n",
    "<u>Action:</u> Run the following cell.\n",
    "\n",
    "<u>Output:</u> Table of ingredients."
   ]
  },
  {
   "cell_type": "code",
   "execution_count": null,
   "id": "20844c8b-6e56-48de-9884-b9ff73217dca",
   "metadata": {},
   "outputs": [],
   "source": [
    "rxn.ingr.scale_one(\"styrene\", 2)\n",
    "print(rxn.ingr)"
   ]
  },
  {
   "cell_type": "markdown",
   "id": "f74135ca-5727-42f5-a4bf-ce3e554ad7d8",
   "metadata": {},
   "source": [
    "Alternatively, we can the re-scale the whole reaction, and once again the API will re-calcuate everything automatically.\n",
    "\n",
    "<u>Action:</u> Run the following cell.\n",
    "\n",
    "<u>Output:</u> Table of ingredients."
   ]
  },
  {
   "cell_type": "code",
   "execution_count": null,
   "id": "c30f65d5-78bd-49bb-b4b2-8bc715071d64",
   "metadata": {},
   "outputs": [],
   "source": [
    "rxn.ingr.scale(0.5)\n",
    "print(rxn.ingr)"
   ]
  },
  {
   "cell_type": "markdown",
   "id": "b7f06084-6df1-4497-a358-bfd6b1743352",
   "metadata": {},
   "source": [
    "The last thing we want to do with the `Process Node` is save it. One nice feature of the API is when we save the node, it will also add all the `Material Nodes` that aren't part of the `Experiment Node` for us.\n",
    "\n",
    "<u>Action:</u> Run the following cell.\n",
    "\n",
    "<u>Output:</u> \n",
    "* The first line \"Save of 'Anionic of Styrene' was successful.\" says that the `Process Node` was saved.\n",
    "* The next few lines show what `Material Nodes` were added to the `Experiment Node` since they weren't already present.\n",
    "* The last text line \"Update of 'Anionic Polymerization of Styrene with SecBuLi' successful!\" says that the updates to the `Experiment Node` have been save to the database.\n",
    "* We can also see the printout of the `Experiment node` now has the `Materials` and `Process` added to it."
   ]
  },
  {
   "cell_type": "code",
   "execution_count": null,
   "id": "56a134ef-70d4-4f1d-98ba-cdf6e8e4271d",
   "metadata": {},
   "outputs": [],
   "source": [
    "db.save(rxn, expt)\n",
    "print(expt)"
   ]
  },
  {
   "cell_type": "markdown",
   "id": "de08b702-28d8-4946-a312-9af2eecb144e",
   "metadata": {},
   "source": [
    "---\n",
    "\n",
    "### <u>Data Node</u>\n",
    "\n",
    "The `Data Node` contains all the meta-data related to raw or processed data as well as the database link to the actual file. Things that are typically put into a `Data Node` include NMRs, SEC trace, molecular weight distributions, stress-strain curves, etc.\n",
    "\n",
    "Just like with other nodes lets view what are the required and optional attributes, and what keywords are accepted.\n",
    "\n",
    "<u>Action:</u> Run the following cell.\n",
    "\n",
    "<u>Output:</u> The `help()` will print out attributes that make up the `Data Node`. We can see that 'type_' is the only required attributes. Using the `key_table` function once again we can see a list of offically supported keys along with  a short discription."
   ]
  },
  {
   "cell_type": "code",
   "execution_count": null,
   "id": "a4026133-b2a8-4183-8f66-8b41edf17b13",
   "metadata": {},
   "outputs": [],
   "source": [
    "help(Data.__init__)\n",
    "Data.key_table()"
   ]
  },
  {
   "cell_type": "markdown",
   "id": "b3bbe2eb-159d-45d5-9883-172390926377",
   "metadata": {},
   "source": [
    "For our example here, we will save both a 1H NMR and a SEC trace. The first thing we will need to do is define the file path to those files. The files for the tutorial are included in the CRIPT tutorial repository [here](https://github.com/C-Accel-CRIPT/cript_tutorials/tree/master/supporting_files/tutorial_data).\n",
    "\n",
    "\n",
    "\n",
    "<u>Action:</u> Download these data files. Modify the paths below to match where you saved the files.\n",
    "\n",
    "<u>Output:</u> A file path for 1H NMR."
   ]
  },
  {
   "cell_type": "code",
   "execution_count": null,
   "id": "a6640561-aca5-48ba-8d39-00cdf22e61ff",
   "metadata": {},
   "outputs": [],
   "source": [
    "# file paths format: Path(r\"C:\\###\\###\\File.ext\")\n",
    "\n",
    "sec_data_path = Path(r\"C:\\###\\###\\Polystyrene_SEC.csv\")   \n",
    "cal_path = Path(r\"C:\\###\\###\\sec_calibration_curve.xlsx\")\n",
    "nmr1h_path = Path(r\"C:\\###\\###\\Polystyrene_1HNMR.zip\")\n",
    "print(nmr1h_path)"
   ]
  },
  {
   "cell_type": "markdown",
   "id": "e15b945d-3758-463a-b29d-74e52e7445a1",
   "metadata": {},
   "source": [
    "We will start by creating the `Data Node` for the SEC trace first. If we look back up were we ran `Data.key_table` we can see a key for 'sec_trace' which is defined with the x-axis as retention time and the y-axis as signal. We can also include sample preperation steps and SEC conditions into our `Data Node`.\n",
    "\n",
    "<u>Action:</u> Run the following cell.\n",
    "\n",
    "<u>Output:</u> A print out of the SEC `Data Node`."
   ]
  },
  {
   "cell_type": "code",
   "execution_count": null,
   "id": "cf74618e-7bb0-4fd7-96d0-580df9b5fbbd",
   "metadata": {},
   "outputs": [],
   "source": [
    "sec_data = Data(\n",
    "    name=\"Crude SEC of polystyrene\",\n",
    "    type_=\"sec_trace\",\n",
    "    file=File(sec_data_path),\n",
    "    sample_prep=\"5 mg of polymer in 1 ml of THF, filtered 0.45um pores.\",\n",
    "    cond=[\n",
    "        Cond(\"temp\", 30 * Unit(\"degC\")),\n",
    "        Cond(\"time\", 60 * Unit(\"min\")),\n",
    "        Cond(\"solvent\", value=inv.get(\"THF\")),\n",
    "        Cond(\"+flow_rate\", 1 * Unit(\"ml/min\"))\n",
    "    ],\n",
    "    calibration=File(cal_path)\n",
    ")\n",
    "\n",
    "print(sec_data)"
   ]
  },
  {
   "cell_type": "markdown",
   "id": "a8de6a64-0677-4809-a175-320e27e18847",
   "metadata": {},
   "source": [
    "We can do much the same thing for the 1H NMR data.\n",
    "\n",
    "<u>Action:</u> Run the following cell.\n",
    "\n",
    "<u>Output:</u> A print out of the 1H NMR `Data Node`."
   ]
  },
  {
   "cell_type": "code",
   "execution_count": null,
   "id": "010ca65a-07e5-41eb-b0ee-474c44d8258a",
   "metadata": {},
   "outputs": [],
   "source": [
    "nmr_data = Data(\n",
    "    name=\"Crude 1H NMR of polystyrene\",\n",
    "    type_=\"nmr_h1\",\n",
    "    file=File(nmr1h_path),\n",
    "    cond=[\n",
    "        Cond(\"temp\", 25 * Unit(\"degC\")),\n",
    "        Cond(\"solvent\", value=inv.get(\"CDCl3\")),\n",
    "    ]\n",
    ")\n",
    "\n",
    "print(nmr_data)"
   ]
  },
  {
   "cell_type": "markdown",
   "id": "110313d2-c909-4d0b-81ac-729830ee3fdc",
   "metadata": {},
   "source": [
    "The last thing we need to do is now save the data nodes to our experiment.\n",
    "\n",
    "<u>Action:</u> Run the following cell.\n",
    "\n",
    "<u>Output:</u> A print out of a successful save."
   ]
  },
  {
   "cell_type": "code",
   "execution_count": null,
   "id": "de878775-eeba-478f-b84b-6a11e7e51636",
   "metadata": {},
   "outputs": [],
   "source": [
    "db.save(sec_data, expt)\n",
    "db.save(nmr_data, expt)"
   ]
  },
  {
   "cell_type": "markdown",
   "id": "ee98b943-d062-4b26-bcfb-3ef3874680d1",
   "metadata": {},
   "source": [
    "---\n",
    "\n",
    "### <u>Material Node: Polymer</u>\n",
    "\n",
    "The last node we need to create to finish this experimental write up is to create the polystyrene `Material Node`. This is the same process as we did for styrene.\n",
    "\n",
    "<u>Action:</u> Run the following cell.\n",
    "\n",
    "<u>Output:</u> A print out of a successful save."
   ]
  },
  {
   "cell_type": "code",
   "execution_count": null,
   "id": "927e0c38-0481-4783-b279-d701d16c9ad9",
   "metadata": {},
   "outputs": [],
   "source": [
    "mat_poly = Material(\n",
    "    iden=Iden(\n",
    "        name=\"polystyrene\",\n",
    "        names=[\"poly(styrene)\", \"poly(vinylbenzene)\"],\n",
    "        chem_repeat=\"C8H8\",\n",
    "        bigsmiles=\"[H]{[>][<]C(C[>])c1ccccc1[<]}C(C)CC\",\n",
    "        cas=\"100-42-5\"\n",
    "    ),\n",
    "    c_process=rxn,\n",
    "    prop=[\n",
    "        Prop(key=\"phase\", value=\"solid\"),\n",
    "        Prop(key=\"color\", value=\"white\"),\n",
    "        Prop(key=\"m_n\", method=\"nmr\", value=4800 * Unit(\"g/mol\"), uncer=400 * Unit(\"g/mol\"), c_data=nmr_data),\n",
    "        Prop(key=\"m_n\", method=\"sec\", value=5200 * Unit(\"g/mol\"), uncer=100 * Unit(\"g/mol\"), c_data=sec_data),\n",
    "        Prop(key=\"d\", method=\"sec\", value=1.03, uncer=0.02, c_data=sec_data)\n",
    "    ]\n",
    ")\n",
    "\n",
    "print(mat_poly)"
   ]
  },
  {
   "cell_type": "markdown",
   "id": "ae13fe46-c336-4ef8-9613-d34210ab07c7",
   "metadata": {},
   "source": [
    "Now we just save it and we are done!\n",
    "\n",
    "\n",
    "<u>Action:</u> Run the following cell.\n",
    "\n",
    "<u>Output:</u> A print out of a successful save."
   ]
  },
  {
   "cell_type": "code",
   "execution_count": null,
   "id": "e9545487-29ae-40de-9cd9-818eb8816188",
   "metadata": {},
   "outputs": [],
   "source": [
    "db.save(mat_poly, expt)"
   ]
  },
  {
   "cell_type": "markdown",
   "id": "25606058-c08d-4141-9fef-2df95cf63293",
   "metadata": {},
   "source": [
    "---\n",
    "---\n",
    "\n",
    "## Key Takeaways\n",
    "\n",
    "* You have seen how now to work with: <br>\n",
    "    * Collection Node\n",
    "    * Experiment Node\n",
    "    * Material Node\n",
    "    * Process Node\n",
    "    * Data Node\n",
    "    * Inventory Node\n",
    "* You also got exposed to our helper nodes: <br>\n",
    "    * Condition Helper Node\n",
    "    * Property Helper Node"
   ]
  },
  {
   "cell_type": "markdown",
   "id": "435c93f6-b185-456a-9698-a6524f9c2d98",
   "metadata": {},
   "source": [
    "---\n",
    "---\n",
    "\n",
    "### What's next?\n",
    "\n",
    "There are still more tutorials focused on specific topics:\n",
    "* [Advanced_searching](https://github.com/C-Accel-CRIPT/cript_tutorials/blob/master/jupyterlab_tutorials/Advanced_searching.ipynb)\n",
    "* [Exporting](https://github.com/C-Accel-CRIPT/cript_tutorials/blob/master/jupyterlab_tutorials/Exporting.ipynb)\n",
    "\n",
    "Or checkout other parts of the [CRIPT tutorial repository](https://github.com/C-Accel-CRIPT/cript_tutorials)."
   ]
  },
  {
   "cell_type": "code",
   "execution_count": null,
   "id": "8dff5107-86b3-4cdf-9a2e-66ef911267fd",
   "metadata": {},
   "outputs": [],
   "source": []
  }
 ],
 "metadata": {
  "kernelspec": {
   "display_name": "Python 3 (ipykernel)",
   "language": "python",
   "name": "python3"
  },
  "language_info": {
   "codemirror_mode": {
    "name": "ipython",
    "version": 3
   },
   "file_extension": ".py",
   "mimetype": "text/x-python",
   "name": "python",
   "nbconvert_exporter": "python",
   "pygments_lexer": "ipython3",
   "version": "3.9.7"
  }
 },
 "nbformat": 4,
 "nbformat_minor": 5
}
